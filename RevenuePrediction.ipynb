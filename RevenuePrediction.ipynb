{
  "nbformat": 4,
  "nbformat_minor": 0,
  "metadata": {
    "colab": {
      "name": "RevenuePrediction.ipynb",
      "version": "0.3.2",
      "provenance": [],
      "include_colab_link": true
    },
    "kernelspec": {
      "name": "python3",
      "display_name": "Python 3"
    }
  },
  "cells": [
    {
      "cell_type": "markdown",
      "metadata": {
        "id": "view-in-github",
        "colab_type": "text"
      },
      "source": [
        "<a href=\"https://colab.research.google.com/github/vi-shruti/Kaggle/blob/master/RevenuePrediction.ipynb\" target=\"_parent\"><img src=\"https://colab.research.google.com/assets/colab-badge.svg\" alt=\"Open In Colab\"/></a>"
      ]
    },
    {
      "metadata": {
        "id": "Lo4qduXwKXLZ",
        "colab_type": "text"
      },
      "cell_type": "markdown",
      "source": [
        "Important Note\n",
        "As noted in this forum post, we are in the process of updating the data. The information below pertains to the data we will be adding by November 9, 2018, but you can already start working toward a forward-looking revenue prediction using the data that is currently available. Announcements will be made to the forum thread when the data update is complete.\n",
        "\n",
        "What files do I need?\n",
        "You will need to download train_v2.csv and test_v2.csv. These contain the data necessary to make predictions for each fullVisitorId listed in sample_submission_v2.csv.\n",
        "\n",
        "You can also access a subset of this data via BigQuery, using the example notebook provided as a way to get started. These subsets are contained in the BigQuery ga_train_set and ga_test_set datasets, under the kaggle-public-datasets project, accessible through Kernels. In those BigQuery datasets, each day's worth of data is a separate table for more efficient EDA / download.\n",
        "\n",
        "All information below pertains to the data in both CSV and BigQuery format.\n",
        "\n",
        "What should I expect the data format to be?\n",
        "Both train_v2.csv and test_v2.csv contain the columns listed under Data Fields. Each row in the dataset is one visit to the store. Because we are predicting the log of the total revenue per user, be aware that not all rows in test_v2.csv will correspond to a row in the submission, but all unique fullVisitorIds will correspond to a row in the submission.\n",
        "\n",
        "IMPORTANT: Due to the formatting of fullVisitorId you must load the Id's as strings in order for all Id's to be properly unique!\n",
        "There are multiple columns which contain JSON blobs of varying depth. In one of those JSON columns, totals, the sub-column transactionRevenue contains the revenue information we are trying to predict. This sub-column exists only for the training data.\n",
        "\n",
        "What am I predicting?\n",
        "We are predicting the natural log of the sum of all transactions per user. Once the data is updated, as noted above, this will be for all users in test_v2.csv for December 1st, 2018 to January 31st, 2019. For every user in the test set, the target is:\n",
        "yuser=∑i=1ntransactionuseri\n",
        "targetuser=ln(yuser+1)\n",
        "Note that the dataset does NOT contain data for December 1st 2018 to January 31st 2019. You must identify the unique fullVisitorIds in the provided test_v2.csv and make predictions for them for those unseen months.\n",
        "\n",
        "File Descriptions\n",
        "Note: These have not yet been updated, per the \"Important Note\" above.\n",
        "\n",
        "train.csv - the old training set - contains the same data as the BigQuery rstudio_train_set. Contains user transactions from August 1st 2016 to August 1st 2017.\n",
        "test.csv - the old test set - contains the same data as the BigQuery rstudio_test_set. Contains user transactions from August 2nd 2017 to April 30th 2018.\n",
        "sampleSubmission.csv - the old sample submission file in the correct format. Contains all fullVisitorIds in test.csv.\n",
        "\n",
        "train_v2.csv - the updated training set - contains user transactions from August 1st 2016 to April 30th 2018.\n",
        "\n",
        "test_v2.csv - the updated test set - contains user transactions from May 1st 2018 to October 15th 2018.\n",
        "sample_submission_v2.csv - a updated sample submission file in the correct format. Contains all fullVisitorIds in test_v2.csv. Your submission's PredictedLogRevenue column should make forward-looking predictions for each of these fullVisitorIds for the timeframe of December 1st 2018 to January 31st 2019. Review \"What am I predicting?\" above for details.\n",
        "Data Fields\n",
        "fullVisitorId- A unique identifier for each user of the Google Merchandise Store.\n",
        "channelGrouping - The channel via which the user came to the Store.\n",
        "date - The date on which the user visited the Store.\n",
        "device - The specifications for the device used to access the Store.\n",
        "geoNetwork - This section contains information about the geography of the user.\n",
        "sessionId - A unique identifier for this visit to the store.\n",
        "socialEngagementType - Engagement type, either \"Socially Engaged\" or \"Not Socially Engaged\".\n",
        "totals - This section contains aggregate values across the session.\n",
        "trafficSource - This section contains information about the Traffic Source from which the session originated.\n",
        "visitId - An identifier for this session. This is part of the value usually stored as the _utmb cookie. This is only unique to the user. For a completely unique ID, you should use a combination of fullVisitorId and visitId.\n",
        "visitNumber - The session number for this user. If this is the first session, then this is set to 1.\n",
        "visitStartTime - The timestamp (expressed as POSIX time).\n",
        "Removed Data Fields\n",
        "Some fields were censored to remove target leakage. The major censored fields are listed below.\n",
        "\n",
        "hits - This row and nested fields are populated for any and all types of hits. Provides a record of all page visits.\n",
        "customDimensions - This section contains any user-level or session-level custom dimensions that are set for a session. This is a repeated field and has an entry for each dimension that is set.\n",
        "totals - Multiple sub-columns were removed from the totals field.\n",
        "External Data\n",
        "External data is permitted for this competition, per this forum post. This includes the Google Merchandise Store Demo Account. Although the Demo Account contains the predicted variable, final standings will not benefit from access to this external data, because it requires future-looking predictions.\n",
        "\n"
      ]
    },
    {
      "metadata": {
        "id": "rjGex0PWASXA",
        "colab_type": "code",
        "colab": {}
      },
      "cell_type": "code",
      "source": [
        "import pandas as pd\n",
        "import json \n",
        "from pandas.io.json import json_normalize \n",
        "import gc\n",
        "import os\n",
        "#gc.collect()\n",
        "\n",
        "pd.set_option('display.height', 1000)\n",
        "pd.set_option('display.max_rows', 500)\n",
        "pd.set_option('display.max_columns', 500)\n",
        "pd.set_option('display.width', 1000)\n",
        "#pd.set_option('display.expand_frame_repr', False)"
      ],
      "execution_count": 0,
      "outputs": []
    },
    {
      "metadata": {
        "id": "9AkY9FCLIS7T",
        "colab_type": "code",
        "colab": {}
      },
      "cell_type": "code",
      "source": [
        "\"\"\"def CustomParser(data):\n",
        "    import json\n",
        "    j1 = json.loads(data)\n",
        "    return j1\"\"\""
      ],
      "execution_count": 0,
      "outputs": []
    },
    {
      "metadata": {
        "id": "u59LR-Jm4rY4",
        "colab_type": "code",
        "colab": {}
      },
      "cell_type": "code",
      "source": [
        "#df = pd.read_csv('train.csv', engine='python',encoding='utf-8', error_bad_lines=False, converters={'device':CustomParser},header=0)\n",
        "#df = pd.read_csv('train.csv', engine='python',encoding='utf-8', error_bad_lines=False, converters={'geoNetwork':CustomParser},header=0)\n",
        "#df = pd.read_csv('train.csv', engine='python',encoding='utf-8', error_bad_lines=False, converters={'totals':CustomParser},header=0)\n",
        "#df = pd.read_csv('train.csv', engine='python',encoding='utf-8', error_bad_lines=False, converters={'trafficSource':CustomParser},header=0)\n",
        "#'device'\n",
        "#'geoNetwork'\n",
        "#'totals'\n",
        "#'trafficSource'"
      ],
      "execution_count": 0,
      "outputs": []
    },
    {
      "metadata": {
        "id": "jNGzasahlSlu",
        "colab_type": "code",
        "colab": {}
      },
      "cell_type": "code",
      "source": [
        "#!os.chdir('C:\\\\Users\\\\Shruti\\\\Desktop\\\\GoogleAnalyticsCustomerRevenuePrediction')\n",
        "#df= pd.read_csv('train.csv')\n",
        "#print(df.head())\n",
        "#converters={'device':CustomParser, 'geoNetwork':CustomParser, 'totals':CustomParser, 'trafficSource':CustomParser}, header=0\n",
        "#'device' 'geoNetwork' 'totals' 'trafficSource'"
      ],
      "execution_count": 0,
      "outputs": []
    },
    {
      "metadata": {
        "id": "Zpxs8Y_a_Nbz",
        "colab_type": "code",
        "colab": {
          "base_uri": "https://localhost:8080/",
          "height": 35
        },
        "outputId": "70ebe8fa-bef9-4683-a964-5a81f1be0840"
      },
      "cell_type": "code",
      "source": [
        "df = pd.read_csv('train.csv', engine='python', encoding='utf-8', error_bad_lines=False)"
      ],
      "execution_count": 30,
      "outputs": [
        {
          "output_type": "stream",
          "text": [
            "Skipping line 657458: unexpected end of data\n"
          ],
          "name": "stderr"
        }
      ]
    },
    {
      "metadata": {
        "id": "c6Vaw78NdUzE",
        "colab_type": "code",
        "colab": {}
      },
      "cell_type": "code",
      "source": [
        "\"\"\"for row in df\n",
        "  device_browser = df[row]['device']['browser']\n",
        "  device_browserVersion = df[row]['device']['browserVersion']\n",
        "  device_browserSize = df[row]['device']['browserSize']\n",
        "  device_operatingSystem = df[row]['device'][operatingSystem]\n",
        "  device_operatingSystemVersion = df[row]['device'][operatingSystemVersion]\n",
        "  device_isMobile = df[row]['device']['isMobile']\n",
        "  device_mobileDeviceBranding = df[row]['device']['mobileDeviceBranding']\n",
        "  device_mobileDeviceModel = df[row]['device']['mobileDeviceModel']\n",
        "  device_mobileInputSelector = df[row]['device']['mobileInputSelector']\n",
        "  device_mobileDeviceInfo = df[row]['device']['mobileDeviceInfo']\n",
        "  device_mobileDeviceMarketingName = df[row]['device']['mobileDeviceMarketingName']\n",
        "  device_flashVersion = df[row]['device']['flashVersion']\n",
        "  device_language = df[row]['device']['language']\n",
        "  device_screenColors = df[row]['device']['screenColors']\n",
        "  device_screenResolution = df[row]['device']['screenResolution']\n",
        "  device_deviceCategory = df[row]['device']['deviceCategory']\n",
        "  geonetwork_continent = df[row]['geoNetwork']['continent']\n",
        "  geonetwork_subContinent = df[row]['geoNetwork']['subContinent']\n",
        "  geonetwork_country = df[row]['geoNetwork']['country']\n",
        "  geonetwork_region = df[row]['geoNetwork']['region']\n",
        "  geonetwork_metro = df[row]['geoNetwork']['metro']\n",
        "  geonetwork_city = df[row]['geoNetwork']['city']\n",
        "  geonetwork_cityId = df[row]['geoNetwork']['cityId']\n",
        "  geonetwork_networkDomain = df[row]['geoNetwork']['networkDomain']\n",
        "  geonetwork_latitude = df[row]['geoNetwork']['latitude']\n",
        "  geonetwork_longitude = df[row]['geoNetwork']['longitude']\n",
        "  geonetwork_networkLocation = df[row]['geoNetwork']['networkLocation']\n",
        "  totals_visits = df[row]['totals']['visits']\n",
        "  totals_hits = df[row]['totals']['hits']\n",
        "  totals_pageviews = df[row]['totals']['pageviews']\n",
        "  totals_bounces = df[row]['totals']['bounces']\n",
        "  totals_newVisits = df[row]['totals']['newVisits']\n",
        "  trafficSource_ = df[row]['trafficSource'][]\n",
        "print(add_col.head())\"\"\""
      ],
      "execution_count": 0,
      "outputs": []
    },
    {
      "metadata": {
        "id": "df87PpRLIZjO",
        "colab_type": "code",
        "colab": {
          "base_uri": "https://localhost:8080/",
          "height": 141
        },
        "outputId": "4d322149-4532-4fa8-e085-11ddd5986987"
      },
      "cell_type": "code",
      "source": [
        "print(df.head())"
      ],
      "execution_count": 31,
      "outputs": [
        {
          "output_type": "stream",
          "text": [
            "  channelGrouping      date                                             device        fullVisitorId                                         geoNetwork                       sessionId  socialEngagementType                                             totals                                      trafficSource     visitId  visitNumber  visitStartTime\n",
            "0  Organic Search  20160902  {\"browser\": \"Chrome\", \"browserVersion\": \"not a...  1131660440785968503  {\"continent\": \"Asia\", \"subContinent\": \"Western...  1131660440785968503_1472830385  Not Socially Engaged  {\"visits\": \"1\", \"hits\": \"1\", \"pageviews\": \"1\",...  {\"campaign\": \"(not set)\", \"source\": \"google\", ...  1472830385            1      1472830385\n",
            "1  Organic Search  20160902  {\"browser\": \"Firefox\", \"browserVersion\": \"not ...   377306020877927890  {\"continent\": \"Oceania\", \"subContinent\": \"Aust...   377306020877927890_1472880147  Not Socially Engaged  {\"visits\": \"1\", \"hits\": \"1\", \"pageviews\": \"1\",...  {\"campaign\": \"(not set)\", \"source\": \"google\", ...  1472880147            1      1472880147\n",
            "2  Organic Search  20160902  {\"browser\": \"Chrome\", \"browserVersion\": \"not a...  3895546263509774583  {\"continent\": \"Europe\", \"subContinent\": \"South...  3895546263509774583_1472865386  Not Socially Engaged  {\"visits\": \"1\", \"hits\": \"1\", \"pageviews\": \"1\",...  {\"campaign\": \"(not set)\", \"source\": \"google\", ...  1472865386            1      1472865386\n",
            "3  Organic Search  20160902  {\"browser\": \"UC Browser\", \"browserVersion\": \"n...  4763447161404445595  {\"continent\": \"Asia\", \"subContinent\": \"Southea...  4763447161404445595_1472881213  Not Socially Engaged  {\"visits\": \"1\", \"hits\": \"1\", \"pageviews\": \"1\",...  {\"campaign\": \"(not set)\", \"source\": \"google\", ...  1472881213            1      1472881213\n",
            "4  Organic Search  20160902  {\"browser\": \"Chrome\", \"browserVersion\": \"not a...    27294437909732085  {\"continent\": \"Europe\", \"subContinent\": \"North...    27294437909732085_1472822600  Not Socially Engaged  {\"visits\": \"1\", \"hits\": \"1\", \"pageviews\": \"1\",...  {\"campaign\": \"(not set)\", \"source\": \"google\", ...  1472822600            2      1472822600\n"
          ],
          "name": "stdout"
        }
      ]
    },
    {
      "metadata": {
        "id": "Hvus3Gr5ABOS",
        "colab_type": "code",
        "colab": {
          "base_uri": "https://localhost:8080/",
          "height": 141
        },
        "outputId": "802ab042-5108-4a51-82d9-7c018cec176d"
      },
      "cell_type": "code",
      "source": [
        "df = df.join(df['device'].apply(json.loads).apply(pd.Series))\n",
        "print(df.head())"
      ],
      "execution_count": 32,
      "outputs": [
        {
          "output_type": "stream",
          "text": [
            "  channelGrouping      date                                             device        fullVisitorId                                         geoNetwork                       sessionId  socialEngagementType                                             totals                                      trafficSource     visitId  visitNumber  visitStartTime     browser                    browserSize                 browserVersion deviceCategory                   flashVersion  isMobile                       language           mobileDeviceBranding               mobileDeviceInfo      mobileDeviceMarketingName              mobileDeviceModel            mobileInputSelector operatingSystem         operatingSystemVersion                   screenColors               screenResolution\n",
            "0  Organic Search  20160902  {\"browser\": \"Chrome\", \"browserVersion\": \"not a...  1131660440785968503  {\"continent\": \"Asia\", \"subContinent\": \"Western...  1131660440785968503_1472830385  Not Socially Engaged  {\"visits\": \"1\", \"hits\": \"1\", \"pageviews\": \"1\",...  {\"campaign\": \"(not set)\", \"source\": \"google\", ...  1472830385            1      1472830385      Chrome  not available in demo dataset  not available in demo dataset        desktop  not available in demo dataset     False  not available in demo dataset  not available in demo dataset  not available in demo dataset  not available in demo dataset  not available in demo dataset  not available in demo dataset         Windows  not available in demo dataset  not available in demo dataset  not available in demo dataset\n",
            "1  Organic Search  20160902  {\"browser\": \"Firefox\", \"browserVersion\": \"not ...   377306020877927890  {\"continent\": \"Oceania\", \"subContinent\": \"Aust...   377306020877927890_1472880147  Not Socially Engaged  {\"visits\": \"1\", \"hits\": \"1\", \"pageviews\": \"1\",...  {\"campaign\": \"(not set)\", \"source\": \"google\", ...  1472880147            1      1472880147     Firefox  not available in demo dataset  not available in demo dataset        desktop  not available in demo dataset     False  not available in demo dataset  not available in demo dataset  not available in demo dataset  not available in demo dataset  not available in demo dataset  not available in demo dataset       Macintosh  not available in demo dataset  not available in demo dataset  not available in demo dataset\n",
            "2  Organic Search  20160902  {\"browser\": \"Chrome\", \"browserVersion\": \"not a...  3895546263509774583  {\"continent\": \"Europe\", \"subContinent\": \"South...  3895546263509774583_1472865386  Not Socially Engaged  {\"visits\": \"1\", \"hits\": \"1\", \"pageviews\": \"1\",...  {\"campaign\": \"(not set)\", \"source\": \"google\", ...  1472865386            1      1472865386      Chrome  not available in demo dataset  not available in demo dataset        desktop  not available in demo dataset     False  not available in demo dataset  not available in demo dataset  not available in demo dataset  not available in demo dataset  not available in demo dataset  not available in demo dataset         Windows  not available in demo dataset  not available in demo dataset  not available in demo dataset\n",
            "3  Organic Search  20160902  {\"browser\": \"UC Browser\", \"browserVersion\": \"n...  4763447161404445595  {\"continent\": \"Asia\", \"subContinent\": \"Southea...  4763447161404445595_1472881213  Not Socially Engaged  {\"visits\": \"1\", \"hits\": \"1\", \"pageviews\": \"1\",...  {\"campaign\": \"(not set)\", \"source\": \"google\", ...  1472881213            1      1472881213  UC Browser  not available in demo dataset  not available in demo dataset        desktop  not available in demo dataset     False  not available in demo dataset  not available in demo dataset  not available in demo dataset  not available in demo dataset  not available in demo dataset  not available in demo dataset           Linux  not available in demo dataset  not available in demo dataset  not available in demo dataset\n",
            "4  Organic Search  20160902  {\"browser\": \"Chrome\", \"browserVersion\": \"not a...    27294437909732085  {\"continent\": \"Europe\", \"subContinent\": \"North...    27294437909732085_1472822600  Not Socially Engaged  {\"visits\": \"1\", \"hits\": \"1\", \"pageviews\": \"1\",...  {\"campaign\": \"(not set)\", \"source\": \"google\", ...  1472822600            2      1472822600      Chrome  not available in demo dataset  not available in demo dataset         mobile  not available in demo dataset      True  not available in demo dataset  not available in demo dataset  not available in demo dataset  not available in demo dataset  not available in demo dataset  not available in demo dataset         Android  not available in demo dataset  not available in demo dataset  not available in demo dataset\n"
          ],
          "name": "stdout"
        }
      ]
    },
    {
      "metadata": {
        "id": "g0Ki9TagEq_m",
        "colab_type": "code",
        "colab": {
          "base_uri": "https://localhost:8080/",
          "height": 263
        },
        "outputId": "213cf7f7-57b9-4b74-dc65-627d1af8b553"
      },
      "cell_type": "code",
      "source": [
        "df = df.join(df['geoNetwork'].apply(json.loads).apply(pd.Series))\n",
        "print(df.tail())"
      ],
      "execution_count": 33,
      "outputs": [
        {
          "output_type": "stream",
          "text": [
            "       channelGrouping      date                                             device        fullVisitorId                                         geoNetwork                       sessionId  socialEngagementType                                             totals                                      trafficSource     visitId  visitNumber  visitStartTime browser                    browserSize                 browserVersion deviceCategory                   flashVersion  isMobile                       language           mobileDeviceBranding               mobileDeviceInfo      mobileDeviceMarketingName              mobileDeviceModel            mobileInputSelector operatingSystem         operatingSystemVersion                   screenColors               screenResolution                           city                         cityId continent        country                       latitude                      longitude                              metro     networkDomain  \\\n",
            "657451          Direct  20161206  {\"browser\": \"Chrome\", \"browserVersion\": \"not a...  8447855092564615017  {\"continent\": \"Americas\", \"subContinent\": \"Nor...  8447855092564615017_1481056239  Not Socially Engaged     {\"visits\": \"1\", \"hits\": \"2\", \"pageviews\": \"2\"}  {\"campaign\": \"(not set)\", \"source\": \"(direct)\"...  1481056239            6      1481056239  Chrome  not available in demo dataset  not available in demo dataset        desktop  not available in demo dataset     False  not available in demo dataset  not available in demo dataset  not available in demo dataset  not available in demo dataset  not available in demo dataset  not available in demo dataset           Linux  not available in demo dataset  not available in demo dataset  not available in demo dataset                  Mountain View  not available in demo dataset  Americas  United States  not available in demo dataset  not available in demo dataset  San Francisco-Oakland-San Jose CA         (not set)   \n",
            "657452          Direct  20161206  {\"browser\": \"Chrome\", \"browserVersion\": \"not a...    45274722054512410  {\"continent\": \"Americas\", \"subContinent\": \"Nor...    45274722054512410_1481041080  Not Socially Engaged  {\"visits\": \"1\", \"hits\": \"2\", \"pageviews\": \"2\",...  {\"campaign\": \"(not set)\", \"source\": \"(direct)\"...  1481041080            1      1481041084  Chrome  not available in demo dataset  not available in demo dataset        desktop  not available in demo dataset     False  not available in demo dataset  not available in demo dataset  not available in demo dataset  not available in demo dataset  not available in demo dataset  not available in demo dataset         Windows  not available in demo dataset  not available in demo dataset  not available in demo dataset  not available in demo dataset  not available in demo dataset  Americas  United States  not available in demo dataset  not available in demo dataset      not available in demo dataset           cox.net   \n",
            "657453          Social  20161206  {\"browser\": \"Chrome\", \"browserVersion\": \"not a...  9471424167600644666  {\"continent\": \"Asia\", \"subContinent\": \"Western...  9471424167600644666_1481012383  Not Socially Engaged  {\"visits\": \"1\", \"hits\": \"2\", \"pageviews\": \"2\",...  {\"referralPath\": \"/yt/about/\", \"campaign\": \"(n...  1481012383            1      1481012383  Chrome  not available in demo dataset  not available in demo dataset        desktop  not available in demo dataset     False  not available in demo dataset  not available in demo dataset  not available in demo dataset  not available in demo dataset  not available in demo dataset  not available in demo dataset         Windows  not available in demo dataset  not available in demo dataset  not available in demo dataset  not available in demo dataset  not available in demo dataset      Asia           Oman  not available in demo dataset  not available in demo dataset      not available in demo dataset   unknown.unknown   \n",
            "657454          Social  20161206  {\"browser\": \"Chrome\", \"browserVersion\": \"not a...  1067597013244099130  {\"continent\": \"Asia\", \"subContinent\": \"Southea...  1067597013244099130_1481062242  Not Socially Engaged  {\"visits\": \"1\", \"hits\": \"2\", \"pageviews\": \"2\",...  {\"referralPath\": \"/yt/about/\", \"campaign\": \"(n...  1481062242            1      1481062242  Chrome  not available in demo dataset  not available in demo dataset        desktop  not available in demo dataset     False  not available in demo dataset  not available in demo dataset  not available in demo dataset  not available in demo dataset  not available in demo dataset  not available in demo dataset         Windows  not available in demo dataset  not available in demo dataset  not available in demo dataset  not available in demo dataset  not available in demo dataset      Asia       Cambodia  not available in demo dataset  not available in demo dataset      not available in demo dataset   unknown.unknown   \n",
            "657455          Direct  20161206  {\"browser\": \"Chrome\", \"browserVersion\": \"not a...  9970697343589370728  {\"continent\": \"Americas\", \"subContinent\": \"Nor...  9970697343589370728_1481045888  Not Socially Engaged     {\"visits\": \"1\", \"hits\": \"2\", \"pageviews\": \"2\"}  {\"campaign\": \"(not set)\", \"source\": \"(direct)\"...  1481045888            2      1481045888  Chrome  not available in demo dataset  not available in demo dataset        desktop  not available in demo dataset     False  not available in demo dataset  not available in demo dataset  not available in demo dataset  not available in demo dataset  not available in demo dataset  not available in demo dataset       Macintosh  not available in demo dataset  not available in demo dataset  not available in demo dataset  not available in demo dataset  not available in demo dataset  Americas  United States  not available in demo dataset  not available in demo dataset      not available in demo dataset  thousandeyes.com   \n",
            "\n",
            "                      networkLocation                         region      subContinent  \n",
            "657451  not available in demo dataset                     California  Northern America  \n",
            "657452  not available in demo dataset  not available in demo dataset  Northern America  \n",
            "657453  not available in demo dataset  not available in demo dataset      Western Asia  \n",
            "657454  not available in demo dataset  not available in demo dataset    Southeast Asia  \n",
            "657455  not available in demo dataset  not available in demo dataset  Northern America  \n"
          ],
          "name": "stdout"
        }
      ]
    },
    {
      "metadata": {
        "id": "XZjLjitMEtMv",
        "colab_type": "code",
        "colab": {
          "base_uri": "https://localhost:8080/",
          "height": 263
        },
        "outputId": "3c2b5517-f182-412d-cd00-515fde76bc90"
      },
      "cell_type": "code",
      "source": [
        "df = df.join(df['totals'].apply(json.loads).apply(pd.Series))\n",
        "print(df.head())"
      ],
      "execution_count": 34,
      "outputs": [
        {
          "output_type": "stream",
          "text": [
            "  channelGrouping      date                                             device        fullVisitorId                                         geoNetwork                       sessionId  socialEngagementType                                             totals                                      trafficSource     visitId  visitNumber  visitStartTime     browser                    browserSize                 browserVersion deviceCategory                   flashVersion  isMobile                       language           mobileDeviceBranding               mobileDeviceInfo      mobileDeviceMarketingName              mobileDeviceModel            mobileInputSelector operatingSystem         operatingSystemVersion                   screenColors               screenResolution                           city                         cityId continent         country                       latitude                      longitude                          metro    networkDomain  \\\n",
            "0  Organic Search  20160902  {\"browser\": \"Chrome\", \"browserVersion\": \"not a...  1131660440785968503  {\"continent\": \"Asia\", \"subContinent\": \"Western...  1131660440785968503_1472830385  Not Socially Engaged  {\"visits\": \"1\", \"hits\": \"1\", \"pageviews\": \"1\",...  {\"campaign\": \"(not set)\", \"source\": \"google\", ...  1472830385            1      1472830385      Chrome  not available in demo dataset  not available in demo dataset        desktop  not available in demo dataset     False  not available in demo dataset  not available in demo dataset  not available in demo dataset  not available in demo dataset  not available in demo dataset  not available in demo dataset         Windows  not available in demo dataset  not available in demo dataset  not available in demo dataset                          Izmir  not available in demo dataset      Asia          Turkey  not available in demo dataset  not available in demo dataset                      (not set)     ttnet.com.tr   \n",
            "1  Organic Search  20160902  {\"browser\": \"Firefox\", \"browserVersion\": \"not ...   377306020877927890  {\"continent\": \"Oceania\", \"subContinent\": \"Aust...   377306020877927890_1472880147  Not Socially Engaged  {\"visits\": \"1\", \"hits\": \"1\", \"pageviews\": \"1\",...  {\"campaign\": \"(not set)\", \"source\": \"google\", ...  1472880147            1      1472880147     Firefox  not available in demo dataset  not available in demo dataset        desktop  not available in demo dataset     False  not available in demo dataset  not available in demo dataset  not available in demo dataset  not available in demo dataset  not available in demo dataset  not available in demo dataset       Macintosh  not available in demo dataset  not available in demo dataset  not available in demo dataset  not available in demo dataset  not available in demo dataset   Oceania       Australia  not available in demo dataset  not available in demo dataset  not available in demo dataset      dodo.net.au   \n",
            "2  Organic Search  20160902  {\"browser\": \"Chrome\", \"browserVersion\": \"not a...  3895546263509774583  {\"continent\": \"Europe\", \"subContinent\": \"South...  3895546263509774583_1472865386  Not Socially Engaged  {\"visits\": \"1\", \"hits\": \"1\", \"pageviews\": \"1\",...  {\"campaign\": \"(not set)\", \"source\": \"google\", ...  1472865386            1      1472865386      Chrome  not available in demo dataset  not available in demo dataset        desktop  not available in demo dataset     False  not available in demo dataset  not available in demo dataset  not available in demo dataset  not available in demo dataset  not available in demo dataset  not available in demo dataset         Windows  not available in demo dataset  not available in demo dataset  not available in demo dataset                         Madrid  not available in demo dataset    Europe           Spain  not available in demo dataset  not available in demo dataset                      (not set)  unknown.unknown   \n",
            "3  Organic Search  20160902  {\"browser\": \"UC Browser\", \"browserVersion\": \"n...  4763447161404445595  {\"continent\": \"Asia\", \"subContinent\": \"Southea...  4763447161404445595_1472881213  Not Socially Engaged  {\"visits\": \"1\", \"hits\": \"1\", \"pageviews\": \"1\",...  {\"campaign\": \"(not set)\", \"source\": \"google\", ...  1472881213            1      1472881213  UC Browser  not available in demo dataset  not available in demo dataset        desktop  not available in demo dataset     False  not available in demo dataset  not available in demo dataset  not available in demo dataset  not available in demo dataset  not available in demo dataset  not available in demo dataset           Linux  not available in demo dataset  not available in demo dataset  not available in demo dataset  not available in demo dataset  not available in demo dataset      Asia       Indonesia  not available in demo dataset  not available in demo dataset  not available in demo dataset  unknown.unknown   \n",
            "4  Organic Search  20160902  {\"browser\": \"Chrome\", \"browserVersion\": \"not a...    27294437909732085  {\"continent\": \"Europe\", \"subContinent\": \"North...    27294437909732085_1472822600  Not Socially Engaged  {\"visits\": \"1\", \"hits\": \"1\", \"pageviews\": \"1\",...  {\"campaign\": \"(not set)\", \"source\": \"google\", ...  1472822600            2      1472822600      Chrome  not available in demo dataset  not available in demo dataset         mobile  not available in demo dataset      True  not available in demo dataset  not available in demo dataset  not available in demo dataset  not available in demo dataset  not available in demo dataset  not available in demo dataset         Android  not available in demo dataset  not available in demo dataset  not available in demo dataset  not available in demo dataset  not available in demo dataset    Europe  United Kingdom  not available in demo dataset  not available in demo dataset  not available in demo dataset  unknown.unknown   \n",
            "\n",
            "                 networkLocation                         region     subContinent bounces hits newVisits pageviews transactionRevenue visits  \n",
            "0  not available in demo dataset                          Izmir     Western Asia       1    1         1         1                NaN      1  \n",
            "1  not available in demo dataset  not available in demo dataset      Australasia       1    1         1         1                NaN      1  \n",
            "2  not available in demo dataset            Community of Madrid  Southern Europe       1    1         1         1                NaN      1  \n",
            "3  not available in demo dataset  not available in demo dataset   Southeast Asia       1    1         1         1                NaN      1  \n",
            "4  not available in demo dataset  not available in demo dataset  Northern Europe       1    1       NaN         1                NaN      1  \n"
          ],
          "name": "stdout"
        }
      ]
    },
    {
      "metadata": {
        "id": "gXfdvrEU5mnX",
        "colab_type": "code",
        "colab": {
          "base_uri": "https://localhost:8080/",
          "height": 263
        },
        "outputId": "e9fbb59d-dfbb-4b7b-b877-c19955952426"
      },
      "cell_type": "code",
      "source": [
        "df = df.join(df['trafficSource'].apply(json.loads).apply(pd.Series))\n",
        "print(df.tail())"
      ],
      "execution_count": 35,
      "outputs": [
        {
          "output_type": "stream",
          "text": [
            "       channelGrouping      date                                             device        fullVisitorId                                         geoNetwork                       sessionId  socialEngagementType                                             totals                                      trafficSource     visitId  visitNumber  visitStartTime browser                    browserSize                 browserVersion deviceCategory                   flashVersion  isMobile                       language           mobileDeviceBranding               mobileDeviceInfo      mobileDeviceMarketingName              mobileDeviceModel            mobileInputSelector operatingSystem         operatingSystemVersion                   screenColors               screenResolution                           city                         cityId continent        country                       latitude                      longitude                              metro     networkDomain  \\\n",
            "657451          Direct  20161206  {\"browser\": \"Chrome\", \"browserVersion\": \"not a...  8447855092564615017  {\"continent\": \"Americas\", \"subContinent\": \"Nor...  8447855092564615017_1481056239  Not Socially Engaged     {\"visits\": \"1\", \"hits\": \"2\", \"pageviews\": \"2\"}  {\"campaign\": \"(not set)\", \"source\": \"(direct)\"...  1481056239            6      1481056239  Chrome  not available in demo dataset  not available in demo dataset        desktop  not available in demo dataset     False  not available in demo dataset  not available in demo dataset  not available in demo dataset  not available in demo dataset  not available in demo dataset  not available in demo dataset           Linux  not available in demo dataset  not available in demo dataset  not available in demo dataset                  Mountain View  not available in demo dataset  Americas  United States  not available in demo dataset  not available in demo dataset  San Francisco-Oakland-San Jose CA         (not set)   \n",
            "657452          Direct  20161206  {\"browser\": \"Chrome\", \"browserVersion\": \"not a...    45274722054512410  {\"continent\": \"Americas\", \"subContinent\": \"Nor...    45274722054512410_1481041080  Not Socially Engaged  {\"visits\": \"1\", \"hits\": \"2\", \"pageviews\": \"2\",...  {\"campaign\": \"(not set)\", \"source\": \"(direct)\"...  1481041080            1      1481041084  Chrome  not available in demo dataset  not available in demo dataset        desktop  not available in demo dataset     False  not available in demo dataset  not available in demo dataset  not available in demo dataset  not available in demo dataset  not available in demo dataset  not available in demo dataset         Windows  not available in demo dataset  not available in demo dataset  not available in demo dataset  not available in demo dataset  not available in demo dataset  Americas  United States  not available in demo dataset  not available in demo dataset      not available in demo dataset           cox.net   \n",
            "657453          Social  20161206  {\"browser\": \"Chrome\", \"browserVersion\": \"not a...  9471424167600644666  {\"continent\": \"Asia\", \"subContinent\": \"Western...  9471424167600644666_1481012383  Not Socially Engaged  {\"visits\": \"1\", \"hits\": \"2\", \"pageviews\": \"2\",...  {\"referralPath\": \"/yt/about/\", \"campaign\": \"(n...  1481012383            1      1481012383  Chrome  not available in demo dataset  not available in demo dataset        desktop  not available in demo dataset     False  not available in demo dataset  not available in demo dataset  not available in demo dataset  not available in demo dataset  not available in demo dataset  not available in demo dataset         Windows  not available in demo dataset  not available in demo dataset  not available in demo dataset  not available in demo dataset  not available in demo dataset      Asia           Oman  not available in demo dataset  not available in demo dataset      not available in demo dataset   unknown.unknown   \n",
            "657454          Social  20161206  {\"browser\": \"Chrome\", \"browserVersion\": \"not a...  1067597013244099130  {\"continent\": \"Asia\", \"subContinent\": \"Southea...  1067597013244099130_1481062242  Not Socially Engaged  {\"visits\": \"1\", \"hits\": \"2\", \"pageviews\": \"2\",...  {\"referralPath\": \"/yt/about/\", \"campaign\": \"(n...  1481062242            1      1481062242  Chrome  not available in demo dataset  not available in demo dataset        desktop  not available in demo dataset     False  not available in demo dataset  not available in demo dataset  not available in demo dataset  not available in demo dataset  not available in demo dataset  not available in demo dataset         Windows  not available in demo dataset  not available in demo dataset  not available in demo dataset  not available in demo dataset  not available in demo dataset      Asia       Cambodia  not available in demo dataset  not available in demo dataset      not available in demo dataset   unknown.unknown   \n",
            "657455          Direct  20161206  {\"browser\": \"Chrome\", \"browserVersion\": \"not a...  9970697343589370728  {\"continent\": \"Americas\", \"subContinent\": \"Nor...  9970697343589370728_1481045888  Not Socially Engaged     {\"visits\": \"1\", \"hits\": \"2\", \"pageviews\": \"2\"}  {\"campaign\": \"(not set)\", \"source\": \"(direct)\"...  1481045888            2      1481045888  Chrome  not available in demo dataset  not available in demo dataset        desktop  not available in demo dataset     False  not available in demo dataset  not available in demo dataset  not available in demo dataset  not available in demo dataset  not available in demo dataset  not available in demo dataset       Macintosh  not available in demo dataset  not available in demo dataset  not available in demo dataset  not available in demo dataset  not available in demo dataset  Americas  United States  not available in demo dataset  not available in demo dataset      not available in demo dataset  thousandeyes.com   \n",
            "\n",
            "                      networkLocation                         region      subContinent bounces hits newVisits pageviews transactionRevenue visits adContent                                   adwordsClickInfo   campaign campaignCode isTrueDirect keyword    medium referralPath       source  \n",
            "657451  not available in demo dataset                     California  Northern America     NaN    2       NaN         2                NaN      1       NaN  {'criteriaParameters': 'not available in demo ...  (not set)          NaN         True     NaN    (none)          NaN     (direct)  \n",
            "657452  not available in demo dataset  not available in demo dataset  Northern America     NaN    2         1         2                NaN      1       NaN  {'criteriaParameters': 'not available in demo ...  (not set)          NaN         True     NaN    (none)          NaN     (direct)  \n",
            "657453  not available in demo dataset  not available in demo dataset      Western Asia     NaN    2         1         2                NaN      1       NaN  {'criteriaParameters': 'not available in demo ...  (not set)          NaN          NaN     NaN  referral   /yt/about/  youtube.com  \n",
            "657454  not available in demo dataset  not available in demo dataset    Southeast Asia     NaN    2         1         2                NaN      1       NaN  {'criteriaParameters': 'not available in demo ...  (not set)          NaN          NaN     NaN  referral   /yt/about/  youtube.com  \n",
            "657455  not available in demo dataset  not available in demo dataset  Northern America     NaN    2       NaN         2                NaN      1       NaN  {'criteriaParameters': 'not available in demo ...  (not set)          NaN         True     NaN    (none)          NaN     (direct)  \n"
          ],
          "name": "stdout"
        }
      ]
    },
    {
      "metadata": {
        "id": "eZCQb9yIHV9j",
        "colab_type": "code",
        "colab": {
          "base_uri": "https://localhost:8080/",
          "height": 953
        },
        "outputId": "cbbe1bd4-983e-4ea0-c747-520bebdac6ae"
      },
      "cell_type": "code",
      "source": [
        "list(df)"
      ],
      "execution_count": 36,
      "outputs": [
        {
          "output_type": "execute_result",
          "data": {
            "text/plain": [
              "['channelGrouping',\n",
              " 'date',\n",
              " 'device',\n",
              " 'fullVisitorId',\n",
              " 'geoNetwork',\n",
              " 'sessionId',\n",
              " 'socialEngagementType',\n",
              " 'totals',\n",
              " 'trafficSource',\n",
              " 'visitId',\n",
              " 'visitNumber',\n",
              " 'visitStartTime',\n",
              " 'browser',\n",
              " 'browserSize',\n",
              " 'browserVersion',\n",
              " 'deviceCategory',\n",
              " 'flashVersion',\n",
              " 'isMobile',\n",
              " 'language',\n",
              " 'mobileDeviceBranding',\n",
              " 'mobileDeviceInfo',\n",
              " 'mobileDeviceMarketingName',\n",
              " 'mobileDeviceModel',\n",
              " 'mobileInputSelector',\n",
              " 'operatingSystem',\n",
              " 'operatingSystemVersion',\n",
              " 'screenColors',\n",
              " 'screenResolution',\n",
              " 'city',\n",
              " 'cityId',\n",
              " 'continent',\n",
              " 'country',\n",
              " 'latitude',\n",
              " 'longitude',\n",
              " 'metro',\n",
              " 'networkDomain',\n",
              " 'networkLocation',\n",
              " 'region',\n",
              " 'subContinent',\n",
              " 'bounces',\n",
              " 'hits',\n",
              " 'newVisits',\n",
              " 'pageviews',\n",
              " 'transactionRevenue',\n",
              " 'visits',\n",
              " 'adContent',\n",
              " 'adwordsClickInfo',\n",
              " 'campaign',\n",
              " 'campaignCode',\n",
              " 'isTrueDirect',\n",
              " 'keyword',\n",
              " 'medium',\n",
              " 'referralPath',\n",
              " 'source']"
            ]
          },
          "metadata": {
            "tags": []
          },
          "execution_count": 36
        }
      ]
    },
    {
      "metadata": {
        "id": "1FfxLg9BH5GG",
        "colab_type": "text"
      },
      "cell_type": "markdown",
      "source": [
        "Full column list:\n",
        "'channelGrouping',\n",
        " 'date',\n",
        " 'device',\n",
        " 'fullVisitorId',\n",
        " 'geoNetwork',\n",
        " 'sessionId',\n",
        " 'socialEngagementType',\n",
        " 'totals',\n",
        " 'trafficSource',\n",
        " 'visitId',\n",
        " 'visitNumber',\n",
        " 'visitStartTime',\n",
        " 'browser',\n",
        " 'browserSize',\n",
        " 'browserVersion',\n",
        " 'deviceCategory',\n",
        " 'flashVersion',\n",
        " 'isMobile',\n",
        " 'language',\n",
        " 'mobileDeviceBranding',\n",
        " 'mobileDeviceInfo',\n",
        " 'mobileDeviceMarketingName',\n",
        " 'mobileDeviceModel',\n",
        " 'mobileInputSelector',\n",
        " 'operatingSystem',\n",
        " 'operatingSystemVersion',\n",
        " 'screenColors',\n",
        " 'screenResolution',\n",
        " 'city',\n",
        " 'cityId',\n",
        " 'continent',\n",
        " 'country',\n",
        " 'latitude',\n",
        " 'longitude',\n",
        " 'metro',\n",
        " 'networkDomain',\n",
        " 'networkLocation',\n",
        " 'region',\n",
        " 'subContinent',\n",
        " 'bounces',\n",
        " 'hits',\n",
        " 'newVisits',\n",
        " 'pageviews',\n",
        " 'transactionRevenue',\n",
        " 'visits',\n",
        " 'adContent',\n",
        " 'adwordsClickInfo',\n",
        " 'campaign',\n",
        " 'campaignCode',\n",
        " 'isTrueDirect',\n",
        " 'keyword',\n",
        " 'medium',\n",
        " 'referralPath',\n",
        " 'source'"
      ]
    },
    {
      "metadata": {
        "id": "b2P_n2-OJJc2",
        "colab_type": "code",
        "colab": {
          "base_uri": "https://localhost:8080/",
          "height": 263
        },
        "outputId": "3dbe75ef-d078-4ca1-cb81-2c4a7f5abd1f"
      },
      "cell_type": "code",
      "source": [
        "columns = ['device', 'geoNetwork', 'totals', 'trafficSource']\n",
        "df.drop(columns, inplace=True, axis=1)\n",
        "print(df.head())"
      ],
      "execution_count": 38,
      "outputs": [
        {
          "output_type": "stream",
          "text": [
            "  channelGrouping      date        fullVisitorId                       sessionId  socialEngagementType     visitId  visitNumber  visitStartTime     browser                    browserSize                 browserVersion deviceCategory                   flashVersion  isMobile                       language           mobileDeviceBranding               mobileDeviceInfo      mobileDeviceMarketingName              mobileDeviceModel            mobileInputSelector operatingSystem         operatingSystemVersion                   screenColors               screenResolution                           city                         cityId continent         country                       latitude                      longitude                          metro    networkDomain                networkLocation                         region     subContinent bounces hits newVisits pageviews transactionRevenue visits adContent                                   adwordsClickInfo   campaign campaignCode  \\\n",
            "0  Organic Search  20160902  1131660440785968503  1131660440785968503_1472830385  Not Socially Engaged  1472830385            1      1472830385      Chrome  not available in demo dataset  not available in demo dataset        desktop  not available in demo dataset     False  not available in demo dataset  not available in demo dataset  not available in demo dataset  not available in demo dataset  not available in demo dataset  not available in demo dataset         Windows  not available in demo dataset  not available in demo dataset  not available in demo dataset                          Izmir  not available in demo dataset      Asia          Turkey  not available in demo dataset  not available in demo dataset                      (not set)     ttnet.com.tr  not available in demo dataset                          Izmir     Western Asia       1    1         1         1                NaN      1       NaN  {'criteriaParameters': 'not available in demo ...  (not set)          NaN   \n",
            "1  Organic Search  20160902   377306020877927890   377306020877927890_1472880147  Not Socially Engaged  1472880147            1      1472880147     Firefox  not available in demo dataset  not available in demo dataset        desktop  not available in demo dataset     False  not available in demo dataset  not available in demo dataset  not available in demo dataset  not available in demo dataset  not available in demo dataset  not available in demo dataset       Macintosh  not available in demo dataset  not available in demo dataset  not available in demo dataset  not available in demo dataset  not available in demo dataset   Oceania       Australia  not available in demo dataset  not available in demo dataset  not available in demo dataset      dodo.net.au  not available in demo dataset  not available in demo dataset      Australasia       1    1         1         1                NaN      1       NaN  {'criteriaParameters': 'not available in demo ...  (not set)          NaN   \n",
            "2  Organic Search  20160902  3895546263509774583  3895546263509774583_1472865386  Not Socially Engaged  1472865386            1      1472865386      Chrome  not available in demo dataset  not available in demo dataset        desktop  not available in demo dataset     False  not available in demo dataset  not available in demo dataset  not available in demo dataset  not available in demo dataset  not available in demo dataset  not available in demo dataset         Windows  not available in demo dataset  not available in demo dataset  not available in demo dataset                         Madrid  not available in demo dataset    Europe           Spain  not available in demo dataset  not available in demo dataset                      (not set)  unknown.unknown  not available in demo dataset            Community of Madrid  Southern Europe       1    1         1         1                NaN      1       NaN  {'criteriaParameters': 'not available in demo ...  (not set)          NaN   \n",
            "3  Organic Search  20160902  4763447161404445595  4763447161404445595_1472881213  Not Socially Engaged  1472881213            1      1472881213  UC Browser  not available in demo dataset  not available in demo dataset        desktop  not available in demo dataset     False  not available in demo dataset  not available in demo dataset  not available in demo dataset  not available in demo dataset  not available in demo dataset  not available in demo dataset           Linux  not available in demo dataset  not available in demo dataset  not available in demo dataset  not available in demo dataset  not available in demo dataset      Asia       Indonesia  not available in demo dataset  not available in demo dataset  not available in demo dataset  unknown.unknown  not available in demo dataset  not available in demo dataset   Southeast Asia       1    1         1         1                NaN      1       NaN  {'criteriaParameters': 'not available in demo ...  (not set)          NaN   \n",
            "4  Organic Search  20160902    27294437909732085    27294437909732085_1472822600  Not Socially Engaged  1472822600            2      1472822600      Chrome  not available in demo dataset  not available in demo dataset         mobile  not available in demo dataset      True  not available in demo dataset  not available in demo dataset  not available in demo dataset  not available in demo dataset  not available in demo dataset  not available in demo dataset         Android  not available in demo dataset  not available in demo dataset  not available in demo dataset  not available in demo dataset  not available in demo dataset    Europe  United Kingdom  not available in demo dataset  not available in demo dataset  not available in demo dataset  unknown.unknown  not available in demo dataset  not available in demo dataset  Northern Europe       1    1       NaN         1                NaN      1       NaN  {'criteriaParameters': 'not available in demo ...  (not set)          NaN   \n",
            "\n",
            "  isTrueDirect          keyword   medium referralPath  source  \n",
            "0          NaN   (not provided)  organic          NaN  google  \n",
            "1          NaN   (not provided)  organic          NaN  google  \n",
            "2          NaN   (not provided)  organic          NaN  google  \n",
            "3          NaN  google + online  organic          NaN  google  \n",
            "4         True   (not provided)  organic          NaN  google  \n"
          ],
          "name": "stdout"
        }
      ]
    },
    {
      "metadata": {
        "id": "G6wzyH5dKGkA",
        "colab_type": "code",
        "colab": {}
      },
      "cell_type": "code",
      "source": [
        "#s1 = json.dumps(df)\n",
        "#df_sub = json.loads(s1)\n",
        "#df = df.join(df['adwordsClickInfo'].apply(json.dumps).apply(pd.Series))\n",
        "#print(df.tail())"
      ],
      "execution_count": 0,
      "outputs": []
    },
    {
      "metadata": {
        "id": "AmymW2evKJbq",
        "colab_type": "code",
        "colab": {}
      },
      "cell_type": "code",
      "source": [
        "#df.drop('0', inplace=True, axis=1)\n",
        "#df = df.iloc[,:-1]\n",
        "#print(df.head())"
      ],
      "execution_count": 0,
      "outputs": []
    },
    {
      "metadata": {
        "id": "JMAksDZ0gxxb",
        "colab_type": "code",
        "colab": {}
      },
      "cell_type": "code",
      "source": [
        "#import urllib2\n",
        "import json  \n",
        "#data = urllib2.urlopen(df['adwordsClickInfo']).read()\n",
        "data = json.loads(df['adwordsClickInfo'])\n",
        "row = -1\n",
        "for i in df['adwordsClickInfo']:\n",
        "    row = row + 1\n",
        "    #data = urllib2.urlopen(str(i)).read()\n",
        "    data = json.loads(data)\n",
        "    for key in data.keys():\n",
        "        print(data[key])\n",
        "        #df.loc[row,key] = data[key]"
      ],
      "execution_count": 0,
      "outputs": []
    },
    {
      "metadata": {
        "id": "wPOYpce0iP_s",
        "colab_type": "code",
        "colab": {}
      },
      "cell_type": "code",
      "source": [
        "df.dtypes"
      ],
      "execution_count": 0,
      "outputs": []
    },
    {
      "metadata": {
        "id": "_7IhVQ--lbiw",
        "colab_type": "code",
        "colab": {
          "base_uri": "https://localhost:8080/",
          "height": 9163
        },
        "outputId": "75edd8bc-fbb4-440e-81a2-73417d3d4d15"
      },
      "cell_type": "code",
      "source": [
        "import ast\n",
        "import json\n",
        "#test = df['adwordsClickInfo'].astype('|S')\n",
        "#response_item = ast.literal_eval(json.dumps(response_item, ensure_ascii=False).encode('utf8'))\n",
        "test = json.dumps(ast.literal_eval(df['adwordsClickInfo']).encode('utf8'), ensure_ascii=False)\n",
        "#test = ast.literal_eval(json.dumps(df['adwordsClickInfo'], ensure_ascii=False).encode('utf8'))\n",
        "#df = df.join(df['adwordsClickInfo'].apply(json.loads).apply(pd.Series))\n",
        "test = df.join(test.apply(json.loads).apply(pd.Series))\n",
        "print(test.head())\n",
        "test.dtypes"
      ],
      "execution_count": 60,
      "outputs": [
        {
          "output_type": "error",
          "ename": "ValueError",
          "evalue": "ignored",
          "traceback": [
            "\u001b[0;31m---------------------------------------------------------------------------\u001b[0m",
            "\u001b[0;31mValueError\u001b[0m                                Traceback (most recent call last)",
            "\u001b[0;32m<ipython-input-60-7599b5932bca>\u001b[0m in \u001b[0;36m<module>\u001b[0;34m()\u001b[0m\n\u001b[1;32m      3\u001b[0m \u001b[0;31m#test = df['adwordsClickInfo'].astype('|S')\u001b[0m\u001b[0;34m\u001b[0m\u001b[0;34m\u001b[0m\u001b[0m\n\u001b[1;32m      4\u001b[0m \u001b[0;31m#response_item = ast.literal_eval(json.dumps(response_item, ensure_ascii=False).encode('utf8'))\u001b[0m\u001b[0;34m\u001b[0m\u001b[0;34m\u001b[0m\u001b[0m\n\u001b[0;32m----> 5\u001b[0;31m \u001b[0mtest\u001b[0m \u001b[0;34m=\u001b[0m \u001b[0mjson\u001b[0m\u001b[0;34m.\u001b[0m\u001b[0mdumps\u001b[0m\u001b[0;34m(\u001b[0m\u001b[0mast\u001b[0m\u001b[0;34m.\u001b[0m\u001b[0mliteral_eval\u001b[0m\u001b[0;34m(\u001b[0m\u001b[0mdf\u001b[0m\u001b[0;34m[\u001b[0m\u001b[0;34m'adwordsClickInfo'\u001b[0m\u001b[0;34m]\u001b[0m\u001b[0;34m)\u001b[0m\u001b[0;34m,\u001b[0m \u001b[0mensure_ascii\u001b[0m\u001b[0;34m=\u001b[0m\u001b[0;32mFalse\u001b[0m\u001b[0;34m)\u001b[0m\u001b[0;34m\u001b[0m\u001b[0m\n\u001b[0m\u001b[1;32m      6\u001b[0m \u001b[0;31m#test = ast.literal_eval(json.dumps(df['adwordsClickInfo'], ensure_ascii=False).encode('utf8'))\u001b[0m\u001b[0;34m\u001b[0m\u001b[0;34m\u001b[0m\u001b[0m\n\u001b[1;32m      7\u001b[0m \u001b[0;31m#df = df.join(df['adwordsClickInfo'].apply(json.loads).apply(pd.Series))\u001b[0m\u001b[0;34m\u001b[0m\u001b[0;34m\u001b[0m\u001b[0m\n",
            "\u001b[0;32m/usr/lib/python3.6/ast.py\u001b[0m in \u001b[0;36mliteral_eval\u001b[0;34m(node_or_string)\u001b[0m\n\u001b[1;32m     83\u001b[0m                     \u001b[0;32mreturn\u001b[0m \u001b[0mleft\u001b[0m \u001b[0;34m-\u001b[0m \u001b[0mright\u001b[0m\u001b[0;34m\u001b[0m\u001b[0m\n\u001b[1;32m     84\u001b[0m         \u001b[0;32mraise\u001b[0m \u001b[0mValueError\u001b[0m\u001b[0;34m(\u001b[0m\u001b[0;34m'malformed node or string: '\u001b[0m \u001b[0;34m+\u001b[0m \u001b[0mrepr\u001b[0m\u001b[0;34m(\u001b[0m\u001b[0mnode\u001b[0m\u001b[0;34m)\u001b[0m\u001b[0;34m)\u001b[0m\u001b[0;34m\u001b[0m\u001b[0m\n\u001b[0;32m---> 85\u001b[0;31m     \u001b[0;32mreturn\u001b[0m \u001b[0m_convert\u001b[0m\u001b[0;34m(\u001b[0m\u001b[0mnode_or_string\u001b[0m\u001b[0;34m)\u001b[0m\u001b[0;34m\u001b[0m\u001b[0m\n\u001b[0m\u001b[1;32m     86\u001b[0m \u001b[0;34m\u001b[0m\u001b[0m\n\u001b[1;32m     87\u001b[0m \u001b[0;34m\u001b[0m\u001b[0m\n",
            "\u001b[0;32m/usr/lib/python3.6/ast.py\u001b[0m in \u001b[0;36m_convert\u001b[0;34m(node)\u001b[0m\n\u001b[1;32m     82\u001b[0m                 \u001b[0;32melse\u001b[0m\u001b[0;34m:\u001b[0m\u001b[0;34m\u001b[0m\u001b[0m\n\u001b[1;32m     83\u001b[0m                     \u001b[0;32mreturn\u001b[0m \u001b[0mleft\u001b[0m \u001b[0;34m-\u001b[0m \u001b[0mright\u001b[0m\u001b[0;34m\u001b[0m\u001b[0m\n\u001b[0;32m---> 84\u001b[0;31m         \u001b[0;32mraise\u001b[0m \u001b[0mValueError\u001b[0m\u001b[0;34m(\u001b[0m\u001b[0;34m'malformed node or string: '\u001b[0m \u001b[0;34m+\u001b[0m \u001b[0mrepr\u001b[0m\u001b[0;34m(\u001b[0m\u001b[0mnode\u001b[0m\u001b[0;34m)\u001b[0m\u001b[0;34m)\u001b[0m\u001b[0;34m\u001b[0m\u001b[0m\n\u001b[0m\u001b[1;32m     85\u001b[0m     \u001b[0;32mreturn\u001b[0m \u001b[0m_convert\u001b[0m\u001b[0;34m(\u001b[0m\u001b[0mnode_or_string\u001b[0m\u001b[0;34m)\u001b[0m\u001b[0;34m\u001b[0m\u001b[0m\n\u001b[1;32m     86\u001b[0m \u001b[0;34m\u001b[0m\u001b[0m\n",
            "\u001b[0;31mValueError\u001b[0m: malformed node or string: 0         {'criteriaParameters': 'not available in demo ...\n1         {'criteriaParameters': 'not available in demo ...\n2         {'criteriaParameters': 'not available in demo ...\n3         {'criteriaParameters': 'not available in demo ...\n4         {'criteriaParameters': 'not available in demo ...\n5         {'criteriaParameters': 'not available in demo ...\n6         {'criteriaParameters': 'not available in demo ...\n7         {'criteriaParameters': 'not available in demo ...\n8         {'criteriaParameters': 'not available in demo ...\n9         {'criteriaParameters': 'not available in demo ...\n10        {'criteriaParameters': 'not available in demo ...\n11        {'criteriaParameters': 'not available in demo ...\n12        {'criteriaParameters': 'not available in demo ...\n13        {'criteriaParameters': 'not available in demo ...\n14        {'criteriaParameters': 'not available in demo ...\n15        {'criteriaParameters': 'not available in demo ...\n16        {'criteriaParameters': 'not available in demo ...\n17        {'criteriaParameters': 'not available in demo ...\n18        {'criteriaParameters': 'not available in demo ...\n19        {'criteriaParameters': 'not available in demo ...\n20        {'criteriaParameters': 'not available in demo ...\n21        {'criteriaParameters': 'not available in demo ...\n22        {'criteriaParameters': 'not available in demo ...\n23        {'criteriaParameters': 'not available in demo ...\n24        {'criteriaParameters': 'not available in demo ...\n25        {'criteriaParameters': 'not available in demo ...\n26        {'criteriaParameters': 'not available in demo ...\n27        {'criteriaParameters': 'not available in demo ...\n28        {'criteriaParameters': 'not available in demo ...\n29        {'criteriaParameters': 'not available in demo ...\n30        {'criteriaParameters': 'not available in demo ...\n31        {'criteriaParameters': 'not available in demo ...\n32        {'criteriaParameters': 'not available in demo ...\n33        {'criteriaParameters': 'not available in demo ...\n34        {'criteriaParameters': 'not available in demo ...\n35        {'criteriaParameters': 'not available in demo ...\n36        {'criteriaParameters': 'not available in demo ...\n37        {'criteriaParameters': 'not available in demo ...\n38        {'criteriaParameters': 'not available in demo ...\n39        {'criteriaParameters': 'not available in demo ...\n40        {'criteriaParameters': 'not available in demo ...\n41        {'criteriaParameters': 'not available in demo ...\n42        {'criteriaParameters': 'not available in demo ...\n43        {'criteriaParameters': 'not available in demo ...\n44        {'criteriaParameters': 'not available in demo ...\n45        {'criteriaParameters': 'not available in demo ...\n46        {'criteriaParameters': 'not available in demo ...\n47        {'criteriaParameters': 'not available in demo ...\n48        {'criteriaParameters': 'not available in demo ...\n49        {'criteriaParameters': 'not available in demo ...\n50        {'criteriaParameters': 'not available in demo ...\n51        {'criteriaParameters': 'not available in demo ...\n52        {'criteriaParameters': 'not available in demo ...\n53        {'criteriaParameters': 'not available in demo ...\n54        {'criteriaParameters': 'not available in demo ...\n55        {'criteriaParameters': 'not available in demo ...\n56        {'criteriaParameters': 'not available in demo ...\n57        {'criteriaParameters': 'not available in demo ...\n58        {'criteriaParameters': 'not available in demo ...\n59        {'criteriaParameters': 'not available in demo ...\n60        {'criteriaParameters': 'not available in demo ...\n61        {'criteriaParameters': 'not available in demo ...\n62        {'criteriaParameters': 'not available in demo ...\n63        {'criteriaParameters': 'not available in demo ...\n64        {'criteriaParameters': 'not available in demo ...\n65        {'criteriaParameters': 'not available in demo ...\n66        {'criteriaParameters': 'not available in demo ...\n67        {'criteriaParameters': 'not available in demo ...\n68        {'criteriaParameters': 'not available in demo ...\n69        {'criteriaParameters': 'not available in demo ...\n70        {'criteriaParameters': 'not available in demo ...\n71        {'criteriaParameters': 'not available in demo ...\n72        {'criteriaParameters': 'not available in demo ...\n73        {'criteriaParameters': 'not available in demo ...\n74        {'criteriaParameters': 'not available in demo ...\n75        {'criteriaParameters': 'not available in demo ...\n76        {'criteriaParameters': 'not available in demo ...\n77        {'criteriaParameters': 'not available in demo ...\n78        {'criteriaParameters': 'not available in demo ...\n79        {'criteriaParameters': 'not available in demo ...\n80        {'criteriaParameters': 'not available in demo ...\n81        {'criteriaParameters': 'not available in demo ...\n82        {'criteriaParameters': 'not available in demo ...\n83        {'criteriaParameters': 'not available in demo ...\n84        {'criteriaParameters': 'not available in demo ...\n85        {'criteriaParameters': 'not available in demo ...\n86        {'criteriaParameters': 'not available in demo ...\n87        {'criteriaParameters': 'not available in demo ...\n88        {'criteriaParameters': 'not available in demo ...\n89        {'criteriaParameters': 'not available in demo ...\n90        {'criteriaParameters': 'not available in demo ...\n91        {'criteriaParameters': 'not available in demo ...\n92        {'criteriaParameters': 'not available in demo ...\n93        {'criteriaParameters': 'not available in demo ...\n94        {'criteriaParameters': 'not available in demo ...\n95        {'criteriaParameters': 'not available in demo ...\n96        {'criteriaParameters': 'not available in demo ...\n97        {'criteriaParameters': 'not available in demo ...\n98        {'criteriaParameters': 'not available in demo ...\n99        {'criteriaParameters': 'not available in demo ...\n100       {'criteriaParameters': 'not available in demo ...\n101       {'criteriaParameters': 'not available in demo ...\n102       {'page': '1', 'slot': 'Top', 'criteriaParamete...\n103       {'criteriaParameters': 'not available in demo ...\n104       {'criteriaParameters': 'not available in demo ...\n105       {'criteriaParameters': 'not available in demo ...\n106       {'criteriaParameters': 'not available in demo ...\n107       {'criteriaParameters': 'not available in demo ...\n108       {'criteriaParameters': 'not available in demo ...\n109       {'criteriaParameters': 'not available in demo ...\n110       {'criteriaParameters': 'not available in demo ...\n111       {'criteriaParameters': 'not available in demo ...\n112       {'criteriaParameters': 'not available in demo ...\n113       {'criteriaParameters': 'not available in demo ...\n114       {'criteriaParameters': 'not available in demo ...\n115       {'criteriaParameters': 'not available in demo ...\n116       {'criteriaParameters': 'not available in demo ...\n117       {'criteriaParameters': 'not available in demo ...\n118       {'criteriaParameters': 'not available in demo ...\n119       {'criteriaParameters': 'not available in demo ...\n120       {'criteriaParameters': 'not available in demo ...\n121       {'criteriaParameters': 'not available in demo ...\n122       {'criteriaParameters': 'not available in demo ...\n123       {'criteriaParameters': 'not available in demo ...\n124       {'criteriaParameters': 'not available in demo ...\n125       {'criteriaParameters': 'not available in demo ...\n126       {'criteriaParameters': 'not available in demo ...\n127       {'criteriaParameters': 'not available in demo ...\n128       {'criteriaParameters': 'not available in demo ...\n129       {'criteriaParameters': 'not available in demo ...\n130       {'criteriaParameters': 'not available in demo ...\n131       {'criteriaParameters': 'not available in demo ...\n132       {'criteriaParameters': 'not available in demo ...\n133       {'criteriaParameters': 'not available in demo ...\n134       {'criteriaParameters': 'not available in demo ...\n135       {'criteriaParameters': 'not available in demo ...\n136       {'criteriaParameters': 'not available in demo ...\n137       {'criteriaParameters': 'not available in demo ...\n138       {'criteriaParameters': 'not available in demo ...\n139       {'criteriaParameters': 'not available in demo ...\n140       {'criteriaParameters': 'not available in demo ...\n141       {'criteriaParameters': 'not available in demo ...\n142       {'criteriaParameters': 'not available in demo ...\n143       {'criteriaParameters': 'not available in demo ...\n144       {'criteriaParameters': 'not available in demo ...\n145       {'criteriaParameters': 'not available in demo ...\n146       {'criteriaParameters': 'not available in demo ...\n147       {'criteriaParameters': 'not available in demo ...\n148       {'criteriaParameters': 'not available in demo ...\n149       {'criteriaParameters': 'not available in demo ...\n150       {'criteriaParameters': 'not available in demo ...\n151       {'criteriaParameters': 'not available in demo ...\n152       {'criteriaParameters': 'not available in demo ...\n153       {'criteriaParameters': 'not available in demo ...\n154       {'criteriaParameters': 'not available in demo ...\n155       {'criteriaParameters': 'not available in demo ...\n156       {'criteriaParameters': 'not available in demo ...\n157       {'criteriaParameters': 'not available in demo ...\n158       {'criteriaParameters': 'not available in demo ...\n159       {'criteriaParameters': 'not available in demo ...\n160       {'criteriaParameters': 'not available in demo ...\n161       {'criteriaParameters': 'not available in demo ...\n162       {'criteriaParameters': 'not available in demo ...\n163       {'criteriaParameters': 'not available in demo ...\n164       {'criteriaParameters': 'not available in demo ...\n165       {'criteriaParameters': 'not available in demo ...\n166       {'criteriaParameters': 'not available in demo ...\n167       {'criteriaParameters': 'not available in demo ...\n168       {'criteriaParameters': 'not available in demo ...\n169       {'criteriaParameters': 'not available in demo ...\n170       {'criteriaParameters': 'not available in demo ...\n171       {'criteriaParameters': 'not available in demo ...\n172       {'criteriaParameters': 'not available in demo ...\n173       {'criteriaParameters': 'not available in demo ...\n174       {'criteriaParameters': 'not available in demo ...\n175       {'criteriaParameters': 'not available in demo ...\n176       {'criteriaParameters': 'not available in demo ...\n177       {'criteriaParameters': 'not available in demo ...\n178       {'criteriaParameters': 'not available in demo ...\n179       {'criteriaParameters': 'not available in demo ...\n180       {'criteriaParameters': 'not available in demo ...\n181       {'criteriaParameters': 'not available in demo ...\n182       {'criteriaParameters': 'not available in demo ...\n183       {'criteriaParameters': 'not available in demo ...\n184       {'criteriaParameters': 'not available in demo ...\n185       {'criteriaParameters': 'not available in demo ...\n186       {'criteriaParameters': 'not available in demo ...\n187       {'criteriaParameters': 'not available in demo ...\n188       {'criteriaParameters': 'not available in demo ...\n189       {'criteriaParameters': 'not available in demo ...\n190       {'criteriaParameters': 'not available in demo ...\n191       {'criteriaParameters': 'not available in demo ...\n192       {'criteriaParameters': 'not available in demo ...\n193       {'criteriaParameters': 'not available in demo ...\n194       {'criteriaParameters': 'not available in demo ...\n195       {'criteriaParameters': 'not available in demo ...\n196       {'criteriaParameters': 'not available in demo ...\n197       {'criteriaParameters': 'not available in demo ...\n198       {'criteriaParameters': 'not available in demo ...\n199       {'criteriaParameters': 'not available in demo ...\n200       {'criteriaParameters': 'not available in demo ...\n201       {'criteriaParameters': 'not available in demo ...\n202       {'criteriaParameters': 'not available in demo ...\n203       {'criteriaParameters': 'not available in demo ...\n204       {'criteriaParameters': 'not available in demo ...\n205       {'criteriaParameters': 'not available in demo ...\n206       {'criteriaParameters': 'not available in demo ...\n207       {'criteriaParameters': 'not available in demo ...\n208       {'criteriaParameters': 'not available in demo ...\n209       {'criteriaParameters': 'not available in demo ...\n210       {'criteriaParameters': 'not available in demo ...\n211       {'criteriaParameters': 'not available in demo ...\n212       {'criteriaParameters': 'not available in demo ...\n213       {'criteriaParameters': 'not available in demo ...\n214       {'criteriaParameters': 'not available in demo ...\n215       {'criteriaParameters': 'not available in demo ...\n216       {'criteriaParameters': 'not available in demo ...\n217       {'criteriaParameters': 'not available in demo ...\n218       {'criteriaParameters': 'not available in demo ...\n219       {'criteriaParameters': 'not available in demo ...\n220       {'criteriaParameters': 'not available in demo ...\n221       {'criteriaParameters': 'not available in demo ...\n222       {'criteriaParameters': 'not available in demo ...\n223       {'criteriaParameters': 'not available in demo ...\n224       {'criteriaParameters': 'not available in demo ...\n225       {'criteriaParameters': 'not available in demo ...\n226       {'criteriaParameters': 'not available in demo ...\n227       {'criteriaParameters': 'not available in demo ...\n228       {'criteriaParameters': 'not available in demo ...\n229       {'criteriaParameters': 'not available in demo ...\n230       {'criteriaParameters': 'not available in demo ...\n231       {'criteriaParameters': 'not available in demo ...\n232       {'criteriaParameters': 'not available in demo ...\n233       {'criteriaParameters': 'not available in demo ...\n234       {'criteriaParameters': 'not available in demo ...\n235       {'criteriaParameters': 'not available in demo ...\n236       {'criteriaParameters': 'not available in demo ...\n237       {'criteriaParameters': 'not available in demo ...\n238       {'criteriaParameters': 'not available in demo ...\n239       {'criteriaParameters': 'not available in demo ...\n240       {'criteriaParameters': 'not available in demo ...\n241       {'criteriaParameters': 'not available in demo ...\n242       {'criteriaParameters': 'not available in demo ...\n243       {'criteriaParameters': 'not available in demo ...\n244       {'criteriaParameters': 'not available in demo ...\n245       {'criteriaParameters': 'not available in demo ...\n246       {'criteriaParameters': 'not available in demo ...\n247       {'criteriaParameters': 'not available in demo ...\n248       {'criteriaParameters': 'not available in demo ...\n249       {'criteriaParameters': 'not available in demo ...\n                                ...                        \n657206    {'criteriaParameters': 'not available in demo ...\n657207    {'criteriaParameters': 'not available in demo ...\n657208    {'criteriaParameters': 'not available in demo ...\n657209    {'criteriaParameters': 'not available in demo ...\n657210    {'criteriaParameters': 'not available in demo ...\n657211    {'criteriaParameters': 'not available in demo ...\n657212    {'page': '1', 'slot': 'Top', 'criteriaParamete...\n657213    {'criteriaParameters': 'not available in demo ...\n657214    {'page': '1', 'slot': 'Top', 'criteriaParamete...\n657215    {'page': '1', 'slot': 'Top', 'criteriaParamete...\n657216    {'criteriaParameters': 'not available in demo ...\n657217    {'criteriaParameters': 'not available in demo ...\n657218    {'criteriaParameters': 'not available in demo ...\n657219    {'criteriaParameters': 'not available in demo ...\n657220    {'criteriaParameters': 'not available in demo ...\n657221    {'criteriaParameters': 'not available in demo ...\n657222    {'criteriaParameters': 'not available in demo ...\n657223    {'criteriaParameters': 'not available in demo ...\n657224    {'criteriaParameters': 'not available in demo ...\n657225    {'criteriaParameters': 'not available in demo ...\n657226    {'page': '1', 'slot': 'Top', 'criteriaParamete...\n657227    {'criteriaParameters': 'not available in demo ...\n657228    {'criteriaParameters': 'not available in demo ...\n657229    {'criteriaParameters': 'not available in demo ...\n657230    {'criteriaParameters': 'not available in demo ...\n657231    {'criteriaParameters': 'not available in demo ...\n657232    {'page': '1', 'slot': 'Top', 'criteriaParamete...\n657233    {'criteriaParameters': 'not available in demo ...\n657234    {'criteriaParameters': 'not available in demo ...\n657235    {'criteriaParameters': 'not available in demo ...\n657236    {'criteriaParameters': 'not available in demo ...\n657237    {'page': '1', 'slot': 'Top', 'criteriaParamete...\n657238    {'page': '1', 'slot': 'Top', 'criteriaParamete...\n657239    {'criteriaParameters': 'not available in demo ...\n657240    {'criteriaParameters': 'not available in demo ...\n657241    {'criteriaParameters': 'not available in demo ...\n657242    {'criteriaParameters': 'not available in demo ...\n657243    {'page': '1', 'slot': 'Top', 'criteriaParamete...\n657244    {'criteriaParameters': 'not available in demo ...\n657245    {'criteriaParameters': 'not available in demo ...\n657246    {'criteriaParameters': 'not available in demo ...\n657247    {'criteriaParameters': 'not available in demo ...\n657248    {'criteriaParameters': 'not available in demo ...\n657249    {'criteriaParameters': 'not available in demo ...\n657250    {'criteriaParameters': 'not available in demo ...\n657251    {'criteriaParameters': 'not available in demo ...\n657252    {'criteriaParameters': 'not available in demo ...\n657253    {'criteriaParameters': 'not available in demo ...\n657254    {'criteriaParameters': 'not available in demo ...\n657255    {'criteriaParameters': 'not available in demo ...\n657256    {'page': '1', 'slot': 'Top', 'criteriaParamete...\n657257    {'page': '1', 'slot': 'Top', 'criteriaParamete...\n657258    {'criteriaParameters': 'not available in demo ...\n657259    {'page': '1', 'slot': 'Top', 'criteriaParamete...\n657260    {'page': '1', 'slot': 'Top', 'criteriaParamete...\n657261    {'page': '1', 'slot': 'Top', 'criteriaParamete...\n657262    {'page': '1', 'slot': 'Top', 'criteriaParamete...\n657263    {'criteriaParameters': 'not available in demo ...\n657264    {'criteriaParameters': 'not available in demo ...\n657265    {'criteriaParameters': 'not available in demo ...\n657266    {'criteriaParameters': 'not available in demo ...\n657267    {'criteriaParameters': 'not available in demo ...\n657268    {'criteriaParameters': 'not available in demo ...\n657269    {'criteriaParameters': 'not available in demo ...\n657270    {'criteriaParameters': 'not available in demo ...\n657271    {'criteriaParameters': 'not available in demo ...\n657272    {'criteriaParameters': 'not available in demo ...\n657273    {'criteriaParameters': 'not available in demo ...\n657274    {'criteriaParameters': 'not available in demo ...\n657275    {'criteriaParameters': 'not available in demo ...\n657276    {'criteriaParameters': 'not available in demo ...\n657277    {'criteriaParameters': 'not available in demo ...\n657278    {'criteriaParameters': 'not available in demo ...\n657279    {'criteriaParameters': 'not available in demo ...\n657280    {'criteriaParameters': 'not available in demo ...\n657281    {'criteriaParameters': 'not available in demo ...\n657282    {'criteriaParameters': 'not available in demo ...\n657283    {'criteriaParameters': 'not available in demo ...\n657284    {'criteriaParameters': 'not available in demo ...\n657285    {'criteriaParameters': 'not available in demo ...\n657286    {'criteriaParameters': 'not available in demo ...\n657287    {'criteriaParameters': 'not available in demo ...\n657288    {'criteriaParameters': 'not available in demo ...\n657289    {'criteriaParameters': 'not available in demo ...\n657290    {'criteriaParameters': 'not available in demo ...\n657291    {'criteriaParameters': 'not available in demo ...\n657292    {'criteriaParameters': 'not available in demo ...\n657293    {'criteriaParameters': 'not available in demo ...\n657294    {'criteriaParameters': 'not available in demo ...\n657295    {'criteriaParameters': 'not available in demo ...\n657296    {'criteriaParameters': 'not available in demo ...\n657297    {'criteriaParameters': 'not available in demo ...\n657298    {'criteriaParameters': 'not available in demo ...\n657299    {'criteriaParameters': 'not available in demo ...\n657300    {'criteriaParameters': 'not available in demo ...\n657301    {'criteriaParameters': 'not available in demo ...\n657302    {'criteriaParameters': 'not available in demo ...\n657303    {'criteriaParameters': 'not available in demo ...\n657304    {'criteriaParameters': 'not available in demo ...\n657305    {'criteriaParameters': 'not available in demo ...\n657306    {'criteriaParameters': 'not available in demo ...\n657307    {'criteriaParameters': 'not available in demo ...\n657308    {'criteriaParameters': 'not available in demo ...\n657309    {'criteriaParameters': 'not available in demo ...\n657310    {'criteriaParameters': 'not available in demo ...\n657311    {'criteriaParameters': 'not available in demo ...\n657312    {'criteriaParameters': 'not available in demo ...\n657313    {'criteriaParameters': 'not available in demo ...\n657314    {'criteriaParameters': 'not available in demo ...\n657315    {'criteriaParameters': 'not available in demo ...\n657316    {'criteriaParameters': 'not available in demo ...\n657317    {'criteriaParameters': 'not available in demo ...\n657318    {'criteriaParameters': 'not available in demo ...\n657319    {'criteriaParameters': 'not available in demo ...\n657320    {'criteriaParameters': 'not available in demo ...\n657321    {'criteriaParameters': 'not available in demo ...\n657322    {'criteriaParameters': 'not available in demo ...\n657323    {'page': '1', 'slot': 'Top', 'criteriaParamete...\n657324    {'criteriaParameters': 'not available in demo ...\n657325    {'criteriaParameters': 'not available in demo ...\n657326    {'criteriaParameters': 'not available in demo ...\n657327    {'criteriaParameters': 'not available in demo ...\n657328    {'criteriaParameters': 'not available in demo ...\n657329    {'criteriaParameters': 'not available in demo ...\n657330    {'page': '1', 'slot': 'Top', 'criteriaParamete...\n657331    {'criteriaParameters': 'not available in demo ...\n657332    {'criteriaParameters': 'not available in demo ...\n657333    {'criteriaParameters': 'not available in demo ...\n657334    {'criteriaParameters': 'not available in demo ...\n657335    {'criteriaParameters': 'not available in demo ...\n657336    {'criteriaParameters': 'not available in demo ...\n657337    {'criteriaParameters': 'not available in demo ...\n657338    {'criteriaParameters': 'not available in demo ...\n657339    {'criteriaParameters': 'not available in demo ...\n657340    {'criteriaParameters': 'not available in demo ...\n657341    {'criteriaParameters': 'not available in demo ...\n657342    {'criteriaParameters': 'not available in demo ...\n657343    {'criteriaParameters': 'not available in demo ...\n657344    {'criteriaParameters': 'not available in demo ...\n657345    {'criteriaParameters': 'not available in demo ...\n657346    {'criteriaParameters': 'not available in demo ...\n657347    {'criteriaParameters': 'not available in demo ...\n657348    {'criteriaParameters': 'not available in demo ...\n657349    {'criteriaParameters': 'not available in demo ...\n657350    {'criteriaParameters': 'not available in demo ...\n657351    {'criteriaParameters': 'not available in demo ...\n657352    {'criteriaParameters': 'not available in demo ...\n657353    {'criteriaParameters': 'not available in demo ...\n657354    {'page': '1', 'slot': 'Top', 'criteriaParamete...\n657355    {'criteriaParameters': 'not available in demo ...\n657356    {'criteriaParameters': 'not available in demo ...\n657357    {'page': '1', 'slot': 'Top', 'criteriaParamete...\n657358    {'page': '1', 'slot': 'Top', 'criteriaParamete...\n657359    {'criteriaParameters': 'not available in demo ...\n657360    {'criteriaParameters': 'not available in demo ...\n657361    {'criteriaParameters': 'not available in demo ...\n657362    {'criteriaParameters': 'not available in demo ...\n657363    {'criteriaParameters': 'not available in demo ...\n657364    {'criteriaParameters': 'not available in demo ...\n657365    {'criteriaParameters': 'not available in demo ...\n657366    {'criteriaParameters': 'not available in demo ...\n657367    {'criteriaParameters': 'not available in demo ...\n657368    {'criteriaParameters': 'not available in demo ...\n657369    {'criteriaParameters': 'not available in demo ...\n657370    {'criteriaParameters': 'not available in demo ...\n657371    {'criteriaParameters': 'not available in demo ...\n657372    {'criteriaParameters': 'not available in demo ...\n657373    {'criteriaParameters': 'not available in demo ...\n657374    {'criteriaParameters': 'not available in demo ...\n657375    {'criteriaParameters': 'not available in demo ...\n657376    {'criteriaParameters': 'not available in demo ...\n657377    {'criteriaParameters': 'not available in demo ...\n657378    {'criteriaParameters': 'not available in demo ...\n657379    {'criteriaParameters': 'not available in demo ...\n657380    {'criteriaParameters': 'not available in demo ...\n657381    {'criteriaParameters': 'not available in demo ...\n657382    {'criteriaParameters': 'not available in demo ...\n657383    {'criteriaParameters': 'not available in demo ...\n657384    {'criteriaParameters': 'not available in demo ...\n657385    {'criteriaParameters': 'not available in demo ...\n657386    {'criteriaParameters': 'not available in demo ...\n657387    {'criteriaParameters': 'not available in demo ...\n657388    {'criteriaParameters': 'not available in demo ...\n657389    {'criteriaParameters': 'not available in demo ...\n657390    {'criteriaParameters': 'not available in demo ...\n657391    {'criteriaParameters': 'not available in demo ...\n657392    {'criteriaParameters': 'not available in demo ...\n657393    {'criteriaParameters': 'not available in demo ...\n657394    {'criteriaParameters': 'not available in demo ...\n657395    {'criteriaParameters': 'not available in demo ...\n657396    {'criteriaParameters': 'not available in demo ...\n657397    {'criteriaParameters': 'not available in demo ...\n657398    {'criteriaParameters': 'not available in demo ...\n657399    {'criteriaParameters': 'not available in demo ...\n657400    {'criteriaParameters': 'not available in demo ...\n657401    {'criteriaParameters': 'not available in demo ...\n657402    {'page': '1', 'slot': 'Top', 'criteriaParamete...\n657403    {'criteriaParameters': 'not available in demo ...\n657404    {'criteriaParameters': 'not available in demo ...\n657405    {'criteriaParameters': 'not available in demo ...\n657406    {'criteriaParameters': 'not available in demo ...\n657407    {'criteriaParameters': 'not available in demo ...\n657408    {'criteriaParameters': 'not available in demo ...\n657409    {'criteriaParameters': 'not available in demo ...\n657410    {'criteriaParameters': 'not available in demo ...\n657411    {'criteriaParameters': 'not available in demo ...\n657412    {'criteriaParameters': 'not available in demo ...\n657413    {'criteriaParameters': 'not available in demo ...\n657414    {'criteriaParameters': 'not available in demo ...\n657415    {'criteriaParameters': 'not available in demo ...\n657416    {'criteriaParameters': 'not available in demo ...\n657417    {'criteriaParameters': 'not available in demo ...\n657418    {'criteriaParameters': 'not available in demo ...\n657419    {'criteriaParameters': 'not available in demo ...\n657420    {'criteriaParameters': 'not available in demo ...\n657421    {'criteriaParameters': 'not available in demo ...\n657422    {'criteriaParameters': 'not available in demo ...\n657423    {'criteriaParameters': 'not available in demo ...\n657424    {'criteriaParameters': 'not available in demo ...\n657425    {'criteriaParameters': 'not available in demo ...\n657426    {'criteriaParameters': 'not available in demo ...\n657427    {'criteriaParameters': 'not available in demo ...\n657428    {'criteriaParameters': 'not available in demo ...\n657429    {'criteriaParameters': 'not available in demo ...\n657430    {'criteriaParameters': 'not available in demo ...\n657431    {'criteriaParameters': 'not available in demo ...\n657432    {'criteriaParameters': 'not available in demo ...\n657433    {'criteriaParameters': 'not available in demo ...\n657434    {'criteriaParameters': 'not available in demo ...\n657435    {'criteriaParameters': 'not available in demo ...\n657436    {'criteriaParameters': 'not available in demo ...\n657437    {'criteriaParameters': 'not available in demo ...\n657438    {'criteriaParameters': 'not available in demo ...\n657439    {'criteriaParameters': 'not available in demo ...\n657440    {'criteriaParameters': 'not available in demo ...\n657441    {'criteriaParameters': 'not available in demo ...\n657442    {'criteriaParameters': 'not available in demo ...\n657443    {'criteriaParameters': 'not available in demo ...\n657444    {'criteriaParameters': 'not available in demo ...\n657445    {'criteriaParameters': 'not available in demo ...\n657446    {'criteriaParameters': 'not available in demo ...\n657447    {'criteriaParameters': 'not available in demo ...\n657448    {'criteriaParameters': 'not available in demo ...\n657449    {'criteriaParameters': 'not available in demo ...\n657450    {'criteriaParameters': 'not available in demo ...\n657451    {'criteriaParameters': 'not available in demo ...\n657452    {'criteriaParameters': 'not available in demo ...\n657453    {'criteriaParameters': 'not available in demo ...\n657454    {'criteriaParameters': 'not available in demo ...\n657455    {'criteriaParameters': 'not available in demo ...\nName: adwordsClickInfo, Length: 657456, dtype: object"
          ]
        }
      ]
    }
  ]
}