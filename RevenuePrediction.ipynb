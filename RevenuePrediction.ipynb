{
  "nbformat": 4,
  "nbformat_minor": 0,
  "metadata": {
    "colab": {
      "name": "RevenuePrediction.ipynb",
      "version": "0.3.2",
      "provenance": [],
      "include_colab_link": true
    },
    "kernelspec": {
      "name": "python3",
      "display_name": "Python 3"
    }
  },
  "cells": [
    {
      "cell_type": "markdown",
      "metadata": {
        "id": "view-in-github",
        "colab_type": "text"
      },
      "source": [
        "<a href=\"https://colab.research.google.com/github/vi-shruti/Kaggle/blob/master/RevenuePrediction.ipynb\" target=\"_parent\"><img src=\"https://colab.research.google.com/assets/colab-badge.svg\" alt=\"Open In Colab\"/></a>"
      ]
    },
    {
      "metadata": {
        "id": "Lo4qduXwKXLZ",
        "colab_type": "text"
      },
      "cell_type": "markdown",
      "source": [
        "Important Note\n",
        "As noted in this forum post, we are in the process of updating the data. The information below pertains to the data we will be adding by November 9, 2018, but you can already start working toward a forward-looking revenue prediction using the data that is currently available. Announcements will be made to the forum thread when the data update is complete.\n",
        "\n",
        "What files do I need?\n",
        "You will need to download train_v2.csv and test_v2.csv. These contain the data necessary to make predictions for each fullVisitorId listed in sample_submission_v2.csv.\n",
        "\n",
        "You can also access a subset of this data via BigQuery, using the example notebook provided as a way to get started. These subsets are contained in the BigQuery ga_train_set and ga_test_set datasets, under the kaggle-public-datasets project, accessible through Kernels. In those BigQuery datasets, each day's worth of data is a separate table for more efficient EDA / download.\n",
        "\n",
        "All information below pertains to the data in both CSV and BigQuery format.\n",
        "\n",
        "What should I expect the data format to be?\n",
        "Both train_v2.csv and test_v2.csv contain the columns listed under Data Fields. Each row in the dataset is one visit to the store. Because we are predicting the log of the total revenue per user, be aware that not all rows in test_v2.csv will correspond to a row in the submission, but all unique fullVisitorIds will correspond to a row in the submission.\n",
        "\n",
        "IMPORTANT: Due to the formatting of fullVisitorId you must load the Id's as strings in order for all Id's to be properly unique!\n",
        "There are multiple columns which contain JSON blobs of varying depth. In one of those JSON columns, totals, the sub-column transactionRevenue contains the revenue information we are trying to predict. This sub-column exists only for the training data.\n",
        "\n",
        "What am I predicting?\n",
        "We are predicting the natural log of the sum of all transactions per user. Once the data is updated, as noted above, this will be for all users in test_v2.csv for December 1st, 2018 to January 31st, 2019. For every user in the test set, the target is:\n",
        "yuser=∑i=1ntransactionuseri\n",
        "targetuser=ln(yuser+1)\n",
        "Note that the dataset does NOT contain data for December 1st 2018 to January 31st 2019. You must identify the unique fullVisitorIds in the provided test_v2.csv and make predictions for them for those unseen months.\n",
        "\n",
        "File Descriptions\n",
        "Note: These have not yet been updated, per the \"Important Note\" above.\n",
        "\n",
        "train.csv - the old training set - contains the same data as the BigQuery rstudio_train_set. Contains user transactions from August 1st 2016 to August 1st 2017.\n",
        "test.csv - the old test set - contains the same data as the BigQuery rstudio_test_set. Contains user transactions from August 2nd 2017 to April 30th 2018.\n",
        "sampleSubmission.csv - the old sample submission file in the correct format. Contains all fullVisitorIds in test.csv.\n",
        "\n",
        "train_v2.csv - the updated training set - contains user transactions from August 1st 2016 to April 30th 2018.\n",
        "\n",
        "test_v2.csv - the updated test set - contains user transactions from May 1st 2018 to October 15th 2018.\n",
        "sample_submission_v2.csv - a updated sample submission file in the correct format. Contains all fullVisitorIds in test_v2.csv. Your submission's PredictedLogRevenue column should make forward-looking predictions for each of these fullVisitorIds for the timeframe of December 1st 2018 to January 31st 2019. Review \"What am I predicting?\" above for details.\n",
        "Data Fields\n",
        "fullVisitorId- A unique identifier for each user of the Google Merchandise Store.\n",
        "channelGrouping - The channel via which the user came to the Store.\n",
        "date - The date on which the user visited the Store.\n",
        "device - The specifications for the device used to access the Store.\n",
        "geoNetwork - This section contains information about the geography of the user.\n",
        "sessionId - A unique identifier for this visit to the store.\n",
        "socialEngagementType - Engagement type, either \"Socially Engaged\" or \"Not Socially Engaged\".\n",
        "totals - This section contains aggregate values across the session.\n",
        "trafficSource - This section contains information about the Traffic Source from which the session originated.\n",
        "visitId - An identifier for this session. This is part of the value usually stored as the _utmb cookie. This is only unique to the user. For a completely unique ID, you should use a combination of fullVisitorId and visitId.\n",
        "visitNumber - The session number for this user. If this is the first session, then this is set to 1.\n",
        "visitStartTime - The timestamp (expressed as POSIX time).\n",
        "Removed Data Fields\n",
        "Some fields were censored to remove target leakage. The major censored fields are listed below.\n",
        "\n",
        "hits - This row and nested fields are populated for any and all types of hits. Provides a record of all page visits.\n",
        "customDimensions - This section contains any user-level or session-level custom dimensions that are set for a session. This is a repeated field and has an entry for each dimension that is set.\n",
        "totals - Multiple sub-columns were removed from the totals field.\n",
        "External Data\n",
        "External data is permitted for this competition, per this forum post. This includes the Google Merchandise Store Demo Account. Although the Demo Account contains the predicted variable, final standings will not benefit from access to this external data, because it requires future-looking predictions.\n",
        "\n"
      ]
    },
    {
      "metadata": {
        "id": "rjGex0PWASXA",
        "colab_type": "code",
        "colab": {}
      },
      "cell_type": "code",
      "source": [
        "import pandas as pd\n",
        "import json \n",
        "from pandas.io.json import json_normalize \n",
        "import gc\n",
        "import os\n",
        "#gc.collect()\n",
        "\n",
        "pd.set_option('display.height', 1000)\n",
        "pd.set_option('display.max_rows', 500)\n",
        "pd.set_option('display.max_columns', 500)\n",
        "pd.set_option('display.width', 1000)\n",
        "#pd.set_option('display.expand_frame_repr', False)"
      ],
      "execution_count": 0,
      "outputs": []
    },
    {
      "metadata": {
        "id": "9AkY9FCLIS7T",
        "colab_type": "code",
        "colab": {}
      },
      "cell_type": "code",
      "source": [
        "\"\"\"def CustomParser(data):\n",
        "    import json\n",
        "    j1 = json.loads(data)\n",
        "    return j1\"\"\""
      ],
      "execution_count": 0,
      "outputs": []
    },
    {
      "metadata": {
        "id": "u59LR-Jm4rY4",
        "colab_type": "code",
        "colab": {}
      },
      "cell_type": "code",
      "source": [
        "#df = pd.read_csv('train.csv', engine='python',encoding='utf-8', error_bad_lines=False, converters={'device':CustomParser},header=0)\n",
        "#df = pd.read_csv('train.csv', engine='python',encoding='utf-8', error_bad_lines=False, converters={'geoNetwork':CustomParser},header=0)\n",
        "#df = pd.read_csv('train.csv', engine='python',encoding='utf-8', error_bad_lines=False, converters={'totals':CustomParser},header=0)\n",
        "#df = pd.read_csv('train.csv', engine='python',encoding='utf-8', error_bad_lines=False, converters={'trafficSource':CustomParser},header=0)\n",
        "#'device'\n",
        "#'geoNetwork'\n",
        "#'totals'\n",
        "#'trafficSource'"
      ],
      "execution_count": 0,
      "outputs": []
    },
    {
      "metadata": {
        "id": "jNGzasahlSlu",
        "colab_type": "code",
        "colab": {}
      },
      "cell_type": "code",
      "source": [
        "#!os.chdir('C:\\\\Users\\\\Shruti\\\\Desktop\\\\GoogleAnalyticsCustomerRevenuePrediction')\n",
        "#df= pd.read_csv('train.csv')\n",
        "#print(df.head())\n",
        "#converters={'device':CustomParser, 'geoNetwork':CustomParser, 'totals':CustomParser, 'trafficSource':CustomParser}, header=0\n",
        "#'device' 'geoNetwork' 'totals' 'trafficSource'"
      ],
      "execution_count": 0,
      "outputs": []
    },
    {
      "metadata": {
        "id": "Zpxs8Y_a_Nbz",
        "colab_type": "code",
        "colab": {
          "base_uri": "https://localhost:8080/",
          "height": 35
        },
        "outputId": "70ebe8fa-bef9-4683-a964-5a81f1be0840"
      },
      "cell_type": "code",
      "source": [
        "df = pd.read_csv('train.csv', engine='python', encoding='utf-8', error_bad_lines=False)"
      ],
      "execution_count": 30,
      "outputs": [
        {
          "output_type": "stream",
          "text": [
            "Skipping line 657458: unexpected end of data\n"
          ],
          "name": "stderr"
        }
      ]
    },
    {
      "metadata": {
        "id": "c6Vaw78NdUzE",
        "colab_type": "code",
        "colab": {}
      },
      "cell_type": "code",
      "source": [
        "\"\"\"for row in df\n",
        "  device_browser = df[row]['device']['browser']\n",
        "  device_browserVersion = df[row]['device']['browserVersion']\n",
        "  device_browserSize = df[row]['device']['browserSize']\n",
        "  device_operatingSystem = df[row]['device'][operatingSystem]\n",
        "  device_operatingSystemVersion = df[row]['device'][operatingSystemVersion]\n",
        "  device_isMobile = df[row]['device']['isMobile']\n",
        "  device_mobileDeviceBranding = df[row]['device']['mobileDeviceBranding']\n",
        "  device_mobileDeviceModel = df[row]['device']['mobileDeviceModel']\n",
        "  device_mobileInputSelector = df[row]['device']['mobileInputSelector']\n",
        "  device_mobileDeviceInfo = df[row]['device']['mobileDeviceInfo']\n",
        "  device_mobileDeviceMarketingName = df[row]['device']['mobileDeviceMarketingName']\n",
        "  device_flashVersion = df[row]['device']['flashVersion']\n",
        "  device_language = df[row]['device']['language']\n",
        "  device_screenColors = df[row]['device']['screenColors']\n",
        "  device_screenResolution = df[row]['device']['screenResolution']\n",
        "  device_deviceCategory = df[row]['device']['deviceCategory']\n",
        "  geonetwork_continent = df[row]['geoNetwork']['continent']\n",
        "  geonetwork_subContinent = df[row]['geoNetwork']['subContinent']\n",
        "  geonetwork_country = df[row]['geoNetwork']['country']\n",
        "  geonetwork_region = df[row]['geoNetwork']['region']\n",
        "  geonetwork_metro = df[row]['geoNetwork']['metro']\n",
        "  geonetwork_city = df[row]['geoNetwork']['city']\n",
        "  geonetwork_cityId = df[row]['geoNetwork']['cityId']\n",
        "  geonetwork_networkDomain = df[row]['geoNetwork']['networkDomain']\n",
        "  geonetwork_latitude = df[row]['geoNetwork']['latitude']\n",
        "  geonetwork_longitude = df[row]['geoNetwork']['longitude']\n",
        "  geonetwork_networkLocation = df[row]['geoNetwork']['networkLocation']\n",
        "  totals_visits = df[row]['totals']['visits']\n",
        "  totals_hits = df[row]['totals']['hits']\n",
        "  totals_pageviews = df[row]['totals']['pageviews']\n",
        "  totals_bounces = df[row]['totals']['bounces']\n",
        "  totals_newVisits = df[row]['totals']['newVisits']\n",
        "  trafficSource_ = df[row]['trafficSource'][]\n",
        "print(add_col.head())\"\"\""
      ],
      "execution_count": 0,
      "outputs": []
    },
    {
      "metadata": {
        "id": "df87PpRLIZjO",
        "colab_type": "code",
        "colab": {
          "base_uri": "https://localhost:8080/",
          "height": 141
        },
        "outputId": "4d322149-4532-4fa8-e085-11ddd5986987"
      },
      "cell_type": "code",
      "source": [
        "print(df.head())"
      ],
      "execution_count": 31,
      "outputs": [
        {
          "output_type": "stream",
          "text": [
            "  channelGrouping      date                                             device        fullVisitorId                                         geoNetwork                       sessionId  socialEngagementType                                             totals                                      trafficSource     visitId  visitNumber  visitStartTime\n",
            "0  Organic Search  20160902  {\"browser\": \"Chrome\", \"browserVersion\": \"not a...  1131660440785968503  {\"continent\": \"Asia\", \"subContinent\": \"Western...  1131660440785968503_1472830385  Not Socially Engaged  {\"visits\": \"1\", \"hits\": \"1\", \"pageviews\": \"1\",...  {\"campaign\": \"(not set)\", \"source\": \"google\", ...  1472830385            1      1472830385\n",
            "1  Organic Search  20160902  {\"browser\": \"Firefox\", \"browserVersion\": \"not ...   377306020877927890  {\"continent\": \"Oceania\", \"subContinent\": \"Aust...   377306020877927890_1472880147  Not Socially Engaged  {\"visits\": \"1\", \"hits\": \"1\", \"pageviews\": \"1\",...  {\"campaign\": \"(not set)\", \"source\": \"google\", ...  1472880147            1      1472880147\n",
            "2  Organic Search  20160902  {\"browser\": \"Chrome\", \"browserVersion\": \"not a...  3895546263509774583  {\"continent\": \"Europe\", \"subContinent\": \"South...  3895546263509774583_1472865386  Not Socially Engaged  {\"visits\": \"1\", \"hits\": \"1\", \"pageviews\": \"1\",...  {\"campaign\": \"(not set)\", \"source\": \"google\", ...  1472865386            1      1472865386\n",
            "3  Organic Search  20160902  {\"browser\": \"UC Browser\", \"browserVersion\": \"n...  4763447161404445595  {\"continent\": \"Asia\", \"subContinent\": \"Southea...  4763447161404445595_1472881213  Not Socially Engaged  {\"visits\": \"1\", \"hits\": \"1\", \"pageviews\": \"1\",...  {\"campaign\": \"(not set)\", \"source\": \"google\", ...  1472881213            1      1472881213\n",
            "4  Organic Search  20160902  {\"browser\": \"Chrome\", \"browserVersion\": \"not a...    27294437909732085  {\"continent\": \"Europe\", \"subContinent\": \"North...    27294437909732085_1472822600  Not Socially Engaged  {\"visits\": \"1\", \"hits\": \"1\", \"pageviews\": \"1\",...  {\"campaign\": \"(not set)\", \"source\": \"google\", ...  1472822600            2      1472822600\n"
          ],
          "name": "stdout"
        }
      ]
    },
    {
      "metadata": {
        "id": "Hvus3Gr5ABOS",
        "colab_type": "code",
        "colab": {
          "base_uri": "https://localhost:8080/",
          "height": 141
        },
        "outputId": "802ab042-5108-4a51-82d9-7c018cec176d"
      },
      "cell_type": "code",
      "source": [
        "df = df.join(df['device'].apply(json.loads).apply(pd.Series))\n",
        "print(df.head())"
      ],
      "execution_count": 32,
      "outputs": [
        {
          "output_type": "stream",
          "text": [
            "  channelGrouping      date                                             device        fullVisitorId                                         geoNetwork                       sessionId  socialEngagementType                                             totals                                      trafficSource     visitId  visitNumber  visitStartTime     browser                    browserSize                 browserVersion deviceCategory                   flashVersion  isMobile                       language           mobileDeviceBranding               mobileDeviceInfo      mobileDeviceMarketingName              mobileDeviceModel            mobileInputSelector operatingSystem         operatingSystemVersion                   screenColors               screenResolution\n",
            "0  Organic Search  20160902  {\"browser\": \"Chrome\", \"browserVersion\": \"not a...  1131660440785968503  {\"continent\": \"Asia\", \"subContinent\": \"Western...  1131660440785968503_1472830385  Not Socially Engaged  {\"visits\": \"1\", \"hits\": \"1\", \"pageviews\": \"1\",...  {\"campaign\": \"(not set)\", \"source\": \"google\", ...  1472830385            1      1472830385      Chrome  not available in demo dataset  not available in demo dataset        desktop  not available in demo dataset     False  not available in demo dataset  not available in demo dataset  not available in demo dataset  not available in demo dataset  not available in demo dataset  not available in demo dataset         Windows  not available in demo dataset  not available in demo dataset  not available in demo dataset\n",
            "1  Organic Search  20160902  {\"browser\": \"Firefox\", \"browserVersion\": \"not ...   377306020877927890  {\"continent\": \"Oceania\", \"subContinent\": \"Aust...   377306020877927890_1472880147  Not Socially Engaged  {\"visits\": \"1\", \"hits\": \"1\", \"pageviews\": \"1\",...  {\"campaign\": \"(not set)\", \"source\": \"google\", ...  1472880147            1      1472880147     Firefox  not available in demo dataset  not available in demo dataset        desktop  not available in demo dataset     False  not available in demo dataset  not available in demo dataset  not available in demo dataset  not available in demo dataset  not available in demo dataset  not available in demo dataset       Macintosh  not available in demo dataset  not available in demo dataset  not available in demo dataset\n",
            "2  Organic Search  20160902  {\"browser\": \"Chrome\", \"browserVersion\": \"not a...  3895546263509774583  {\"continent\": \"Europe\", \"subContinent\": \"South...  3895546263509774583_1472865386  Not Socially Engaged  {\"visits\": \"1\", \"hits\": \"1\", \"pageviews\": \"1\",...  {\"campaign\": \"(not set)\", \"source\": \"google\", ...  1472865386            1      1472865386      Chrome  not available in demo dataset  not available in demo dataset        desktop  not available in demo dataset     False  not available in demo dataset  not available in demo dataset  not available in demo dataset  not available in demo dataset  not available in demo dataset  not available in demo dataset         Windows  not available in demo dataset  not available in demo dataset  not available in demo dataset\n",
            "3  Organic Search  20160902  {\"browser\": \"UC Browser\", \"browserVersion\": \"n...  4763447161404445595  {\"continent\": \"Asia\", \"subContinent\": \"Southea...  4763447161404445595_1472881213  Not Socially Engaged  {\"visits\": \"1\", \"hits\": \"1\", \"pageviews\": \"1\",...  {\"campaign\": \"(not set)\", \"source\": \"google\", ...  1472881213            1      1472881213  UC Browser  not available in demo dataset  not available in demo dataset        desktop  not available in demo dataset     False  not available in demo dataset  not available in demo dataset  not available in demo dataset  not available in demo dataset  not available in demo dataset  not available in demo dataset           Linux  not available in demo dataset  not available in demo dataset  not available in demo dataset\n",
            "4  Organic Search  20160902  {\"browser\": \"Chrome\", \"browserVersion\": \"not a...    27294437909732085  {\"continent\": \"Europe\", \"subContinent\": \"North...    27294437909732085_1472822600  Not Socially Engaged  {\"visits\": \"1\", \"hits\": \"1\", \"pageviews\": \"1\",...  {\"campaign\": \"(not set)\", \"source\": \"google\", ...  1472822600            2      1472822600      Chrome  not available in demo dataset  not available in demo dataset         mobile  not available in demo dataset      True  not available in demo dataset  not available in demo dataset  not available in demo dataset  not available in demo dataset  not available in demo dataset  not available in demo dataset         Android  not available in demo dataset  not available in demo dataset  not available in demo dataset\n"
          ],
          "name": "stdout"
        }
      ]
    },
    {
      "metadata": {
        "id": "g0Ki9TagEq_m",
        "colab_type": "code",
        "colab": {
          "base_uri": "https://localhost:8080/",
          "height": 263
        },
        "outputId": "213cf7f7-57b9-4b74-dc65-627d1af8b553"
      },
      "cell_type": "code",
      "source": [
        "df = df.join(df['geoNetwork'].apply(json.loads).apply(pd.Series))\n",
        "print(df.tail())"
      ],
      "execution_count": 33,
      "outputs": [
        {
          "output_type": "stream",
          "text": [
            "       channelGrouping      date                                             device        fullVisitorId                                         geoNetwork                       sessionId  socialEngagementType                                             totals                                      trafficSource     visitId  visitNumber  visitStartTime browser                    browserSize                 browserVersion deviceCategory                   flashVersion  isMobile                       language           mobileDeviceBranding               mobileDeviceInfo      mobileDeviceMarketingName              mobileDeviceModel            mobileInputSelector operatingSystem         operatingSystemVersion                   screenColors               screenResolution                           city                         cityId continent        country                       latitude                      longitude                              metro     networkDomain  \\\n",
            "657451          Direct  20161206  {\"browser\": \"Chrome\", \"browserVersion\": \"not a...  8447855092564615017  {\"continent\": \"Americas\", \"subContinent\": \"Nor...  8447855092564615017_1481056239  Not Socially Engaged     {\"visits\": \"1\", \"hits\": \"2\", \"pageviews\": \"2\"}  {\"campaign\": \"(not set)\", \"source\": \"(direct)\"...  1481056239            6      1481056239  Chrome  not available in demo dataset  not available in demo dataset        desktop  not available in demo dataset     False  not available in demo dataset  not available in demo dataset  not available in demo dataset  not available in demo dataset  not available in demo dataset  not available in demo dataset           Linux  not available in demo dataset  not available in demo dataset  not available in demo dataset                  Mountain View  not available in demo dataset  Americas  United States  not available in demo dataset  not available in demo dataset  San Francisco-Oakland-San Jose CA         (not set)   \n",
            "657452          Direct  20161206  {\"browser\": \"Chrome\", \"browserVersion\": \"not a...    45274722054512410  {\"continent\": \"Americas\", \"subContinent\": \"Nor...    45274722054512410_1481041080  Not Socially Engaged  {\"visits\": \"1\", \"hits\": \"2\", \"pageviews\": \"2\",...  {\"campaign\": \"(not set)\", \"source\": \"(direct)\"...  1481041080            1      1481041084  Chrome  not available in demo dataset  not available in demo dataset        desktop  not available in demo dataset     False  not available in demo dataset  not available in demo dataset  not available in demo dataset  not available in demo dataset  not available in demo dataset  not available in demo dataset         Windows  not available in demo dataset  not available in demo dataset  not available in demo dataset  not available in demo dataset  not available in demo dataset  Americas  United States  not available in demo dataset  not available in demo dataset      not available in demo dataset           cox.net   \n",
            "657453          Social  20161206  {\"browser\": \"Chrome\", \"browserVersion\": \"not a...  9471424167600644666  {\"continent\": \"Asia\", \"subContinent\": \"Western...  9471424167600644666_1481012383  Not Socially Engaged  {\"visits\": \"1\", \"hits\": \"2\", \"pageviews\": \"2\",...  {\"referralPath\": \"/yt/about/\", \"campaign\": \"(n...  1481012383            1      1481012383  Chrome  not available in demo dataset  not available in demo dataset        desktop  not available in demo dataset     False  not available in demo dataset  not available in demo dataset  not available in demo dataset  not available in demo dataset  not available in demo dataset  not available in demo dataset         Windows  not available in demo dataset  not available in demo dataset  not available in demo dataset  not available in demo dataset  not available in demo dataset      Asia           Oman  not available in demo dataset  not available in demo dataset      not available in demo dataset   unknown.unknown   \n",
            "657454          Social  20161206  {\"browser\": \"Chrome\", \"browserVersion\": \"not a...  1067597013244099130  {\"continent\": \"Asia\", \"subContinent\": \"Southea...  1067597013244099130_1481062242  Not Socially Engaged  {\"visits\": \"1\", \"hits\": \"2\", \"pageviews\": \"2\",...  {\"referralPath\": \"/yt/about/\", \"campaign\": \"(n...  1481062242            1      1481062242  Chrome  not available in demo dataset  not available in demo dataset        desktop  not available in demo dataset     False  not available in demo dataset  not available in demo dataset  not available in demo dataset  not available in demo dataset  not available in demo dataset  not available in demo dataset         Windows  not available in demo dataset  not available in demo dataset  not available in demo dataset  not available in demo dataset  not available in demo dataset      Asia       Cambodia  not available in demo dataset  not available in demo dataset      not available in demo dataset   unknown.unknown   \n",
            "657455          Direct  20161206  {\"browser\": \"Chrome\", \"browserVersion\": \"not a...  9970697343589370728  {\"continent\": \"Americas\", \"subContinent\": \"Nor...  9970697343589370728_1481045888  Not Socially Engaged     {\"visits\": \"1\", \"hits\": \"2\", \"pageviews\": \"2\"}  {\"campaign\": \"(not set)\", \"source\": \"(direct)\"...  1481045888            2      1481045888  Chrome  not available in demo dataset  not available in demo dataset        desktop  not available in demo dataset     False  not available in demo dataset  not available in demo dataset  not available in demo dataset  not available in demo dataset  not available in demo dataset  not available in demo dataset       Macintosh  not available in demo dataset  not available in demo dataset  not available in demo dataset  not available in demo dataset  not available in demo dataset  Americas  United States  not available in demo dataset  not available in demo dataset      not available in demo dataset  thousandeyes.com   \n",
            "\n",
            "                      networkLocation                         region      subContinent  \n",
            "657451  not available in demo dataset                     California  Northern America  \n",
            "657452  not available in demo dataset  not available in demo dataset  Northern America  \n",
            "657453  not available in demo dataset  not available in demo dataset      Western Asia  \n",
            "657454  not available in demo dataset  not available in demo dataset    Southeast Asia  \n",
            "657455  not available in demo dataset  not available in demo dataset  Northern America  \n"
          ],
          "name": "stdout"
        }
      ]
    },
    {
      "metadata": {
        "id": "XZjLjitMEtMv",
        "colab_type": "code",
        "colab": {
          "base_uri": "https://localhost:8080/",
          "height": 263
        },
        "outputId": "3c2b5517-f182-412d-cd00-515fde76bc90"
      },
      "cell_type": "code",
      "source": [
        "df = df.join(df['totals'].apply(json.loads).apply(pd.Series))\n",
        "print(df.head())"
      ],
      "execution_count": 34,
      "outputs": [
        {
          "output_type": "stream",
          "text": [
            "  channelGrouping      date                                             device        fullVisitorId                                         geoNetwork                       sessionId  socialEngagementType                                             totals                                      trafficSource     visitId  visitNumber  visitStartTime     browser                    browserSize                 browserVersion deviceCategory                   flashVersion  isMobile                       language           mobileDeviceBranding               mobileDeviceInfo      mobileDeviceMarketingName              mobileDeviceModel            mobileInputSelector operatingSystem         operatingSystemVersion                   screenColors               screenResolution                           city                         cityId continent         country                       latitude                      longitude                          metro    networkDomain  \\\n",
            "0  Organic Search  20160902  {\"browser\": \"Chrome\", \"browserVersion\": \"not a...  1131660440785968503  {\"continent\": \"Asia\", \"subContinent\": \"Western...  1131660440785968503_1472830385  Not Socially Engaged  {\"visits\": \"1\", \"hits\": \"1\", \"pageviews\": \"1\",...  {\"campaign\": \"(not set)\", \"source\": \"google\", ...  1472830385            1      1472830385      Chrome  not available in demo dataset  not available in demo dataset        desktop  not available in demo dataset     False  not available in demo dataset  not available in demo dataset  not available in demo dataset  not available in demo dataset  not available in demo dataset  not available in demo dataset         Windows  not available in demo dataset  not available in demo dataset  not available in demo dataset                          Izmir  not available in demo dataset      Asia          Turkey  not available in demo dataset  not available in demo dataset                      (not set)     ttnet.com.tr   \n",
            "1  Organic Search  20160902  {\"browser\": \"Firefox\", \"browserVersion\": \"not ...   377306020877927890  {\"continent\": \"Oceania\", \"subContinent\": \"Aust...   377306020877927890_1472880147  Not Socially Engaged  {\"visits\": \"1\", \"hits\": \"1\", \"pageviews\": \"1\",...  {\"campaign\": \"(not set)\", \"source\": \"google\", ...  1472880147            1      1472880147     Firefox  not available in demo dataset  not available in demo dataset        desktop  not available in demo dataset     False  not available in demo dataset  not available in demo dataset  not available in demo dataset  not available in demo dataset  not available in demo dataset  not available in demo dataset       Macintosh  not available in demo dataset  not available in demo dataset  not available in demo dataset  not available in demo dataset  not available in demo dataset   Oceania       Australia  not available in demo dataset  not available in demo dataset  not available in demo dataset      dodo.net.au   \n",
            "2  Organic Search  20160902  {\"browser\": \"Chrome\", \"browserVersion\": \"not a...  3895546263509774583  {\"continent\": \"Europe\", \"subContinent\": \"South...  3895546263509774583_1472865386  Not Socially Engaged  {\"visits\": \"1\", \"hits\": \"1\", \"pageviews\": \"1\",...  {\"campaign\": \"(not set)\", \"source\": \"google\", ...  1472865386            1      1472865386      Chrome  not available in demo dataset  not available in demo dataset        desktop  not available in demo dataset     False  not available in demo dataset  not available in demo dataset  not available in demo dataset  not available in demo dataset  not available in demo dataset  not available in demo dataset         Windows  not available in demo dataset  not available in demo dataset  not available in demo dataset                         Madrid  not available in demo dataset    Europe           Spain  not available in demo dataset  not available in demo dataset                      (not set)  unknown.unknown   \n",
            "3  Organic Search  20160902  {\"browser\": \"UC Browser\", \"browserVersion\": \"n...  4763447161404445595  {\"continent\": \"Asia\", \"subContinent\": \"Southea...  4763447161404445595_1472881213  Not Socially Engaged  {\"visits\": \"1\", \"hits\": \"1\", \"pageviews\": \"1\",...  {\"campaign\": \"(not set)\", \"source\": \"google\", ...  1472881213            1      1472881213  UC Browser  not available in demo dataset  not available in demo dataset        desktop  not available in demo dataset     False  not available in demo dataset  not available in demo dataset  not available in demo dataset  not available in demo dataset  not available in demo dataset  not available in demo dataset           Linux  not available in demo dataset  not available in demo dataset  not available in demo dataset  not available in demo dataset  not available in demo dataset      Asia       Indonesia  not available in demo dataset  not available in demo dataset  not available in demo dataset  unknown.unknown   \n",
            "4  Organic Search  20160902  {\"browser\": \"Chrome\", \"browserVersion\": \"not a...    27294437909732085  {\"continent\": \"Europe\", \"subContinent\": \"North...    27294437909732085_1472822600  Not Socially Engaged  {\"visits\": \"1\", \"hits\": \"1\", \"pageviews\": \"1\",...  {\"campaign\": \"(not set)\", \"source\": \"google\", ...  1472822600            2      1472822600      Chrome  not available in demo dataset  not available in demo dataset         mobile  not available in demo dataset      True  not available in demo dataset  not available in demo dataset  not available in demo dataset  not available in demo dataset  not available in demo dataset  not available in demo dataset         Android  not available in demo dataset  not available in demo dataset  not available in demo dataset  not available in demo dataset  not available in demo dataset    Europe  United Kingdom  not available in demo dataset  not available in demo dataset  not available in demo dataset  unknown.unknown   \n",
            "\n",
            "                 networkLocation                         region     subContinent bounces hits newVisits pageviews transactionRevenue visits  \n",
            "0  not available in demo dataset                          Izmir     Western Asia       1    1         1         1                NaN      1  \n",
            "1  not available in demo dataset  not available in demo dataset      Australasia       1    1         1         1                NaN      1  \n",
            "2  not available in demo dataset            Community of Madrid  Southern Europe       1    1         1         1                NaN      1  \n",
            "3  not available in demo dataset  not available in demo dataset   Southeast Asia       1    1         1         1                NaN      1  \n",
            "4  not available in demo dataset  not available in demo dataset  Northern Europe       1    1       NaN         1                NaN      1  \n"
          ],
          "name": "stdout"
        }
      ]
    },
    {
      "metadata": {
        "id": "gXfdvrEU5mnX",
        "colab_type": "code",
        "colab": {
          "base_uri": "https://localhost:8080/",
          "height": 263
        },
        "outputId": "e9fbb59d-dfbb-4b7b-b877-c19955952426"
      },
      "cell_type": "code",
      "source": [
        "df = df.join(df['trafficSource'].apply(json.loads).apply(pd.Series))\n",
        "print(df.tail())"
      ],
      "execution_count": 35,
      "outputs": [
        {
          "output_type": "stream",
          "text": [
            "       channelGrouping      date                                             device        fullVisitorId                                         geoNetwork                       sessionId  socialEngagementType                                             totals                                      trafficSource     visitId  visitNumber  visitStartTime browser                    browserSize                 browserVersion deviceCategory                   flashVersion  isMobile                       language           mobileDeviceBranding               mobileDeviceInfo      mobileDeviceMarketingName              mobileDeviceModel            mobileInputSelector operatingSystem         operatingSystemVersion                   screenColors               screenResolution                           city                         cityId continent        country                       latitude                      longitude                              metro     networkDomain  \\\n",
            "657451          Direct  20161206  {\"browser\": \"Chrome\", \"browserVersion\": \"not a...  8447855092564615017  {\"continent\": \"Americas\", \"subContinent\": \"Nor...  8447855092564615017_1481056239  Not Socially Engaged     {\"visits\": \"1\", \"hits\": \"2\", \"pageviews\": \"2\"}  {\"campaign\": \"(not set)\", \"source\": \"(direct)\"...  1481056239            6      1481056239  Chrome  not available in demo dataset  not available in demo dataset        desktop  not available in demo dataset     False  not available in demo dataset  not available in demo dataset  not available in demo dataset  not available in demo dataset  not available in demo dataset  not available in demo dataset           Linux  not available in demo dataset  not available in demo dataset  not available in demo dataset                  Mountain View  not available in demo dataset  Americas  United States  not available in demo dataset  not available in demo dataset  San Francisco-Oakland-San Jose CA         (not set)   \n",
            "657452          Direct  20161206  {\"browser\": \"Chrome\", \"browserVersion\": \"not a...    45274722054512410  {\"continent\": \"Americas\", \"subContinent\": \"Nor...    45274722054512410_1481041080  Not Socially Engaged  {\"visits\": \"1\", \"hits\": \"2\", \"pageviews\": \"2\",...  {\"campaign\": \"(not set)\", \"source\": \"(direct)\"...  1481041080            1      1481041084  Chrome  not available in demo dataset  not available in demo dataset        desktop  not available in demo dataset     False  not available in demo dataset  not available in demo dataset  not available in demo dataset  not available in demo dataset  not available in demo dataset  not available in demo dataset         Windows  not available in demo dataset  not available in demo dataset  not available in demo dataset  not available in demo dataset  not available in demo dataset  Americas  United States  not available in demo dataset  not available in demo dataset      not available in demo dataset           cox.net   \n",
            "657453          Social  20161206  {\"browser\": \"Chrome\", \"browserVersion\": \"not a...  9471424167600644666  {\"continent\": \"Asia\", \"subContinent\": \"Western...  9471424167600644666_1481012383  Not Socially Engaged  {\"visits\": \"1\", \"hits\": \"2\", \"pageviews\": \"2\",...  {\"referralPath\": \"/yt/about/\", \"campaign\": \"(n...  1481012383            1      1481012383  Chrome  not available in demo dataset  not available in demo dataset        desktop  not available in demo dataset     False  not available in demo dataset  not available in demo dataset  not available in demo dataset  not available in demo dataset  not available in demo dataset  not available in demo dataset         Windows  not available in demo dataset  not available in demo dataset  not available in demo dataset  not available in demo dataset  not available in demo dataset      Asia           Oman  not available in demo dataset  not available in demo dataset      not available in demo dataset   unknown.unknown   \n",
            "657454          Social  20161206  {\"browser\": \"Chrome\", \"browserVersion\": \"not a...  1067597013244099130  {\"continent\": \"Asia\", \"subContinent\": \"Southea...  1067597013244099130_1481062242  Not Socially Engaged  {\"visits\": \"1\", \"hits\": \"2\", \"pageviews\": \"2\",...  {\"referralPath\": \"/yt/about/\", \"campaign\": \"(n...  1481062242            1      1481062242  Chrome  not available in demo dataset  not available in demo dataset        desktop  not available in demo dataset     False  not available in demo dataset  not available in demo dataset  not available in demo dataset  not available in demo dataset  not available in demo dataset  not available in demo dataset         Windows  not available in demo dataset  not available in demo dataset  not available in demo dataset  not available in demo dataset  not available in demo dataset      Asia       Cambodia  not available in demo dataset  not available in demo dataset      not available in demo dataset   unknown.unknown   \n",
            "657455          Direct  20161206  {\"browser\": \"Chrome\", \"browserVersion\": \"not a...  9970697343589370728  {\"continent\": \"Americas\", \"subContinent\": \"Nor...  9970697343589370728_1481045888  Not Socially Engaged     {\"visits\": \"1\", \"hits\": \"2\", \"pageviews\": \"2\"}  {\"campaign\": \"(not set)\", \"source\": \"(direct)\"...  1481045888            2      1481045888  Chrome  not available in demo dataset  not available in demo dataset        desktop  not available in demo dataset     False  not available in demo dataset  not available in demo dataset  not available in demo dataset  not available in demo dataset  not available in demo dataset  not available in demo dataset       Macintosh  not available in demo dataset  not available in demo dataset  not available in demo dataset  not available in demo dataset  not available in demo dataset  Americas  United States  not available in demo dataset  not available in demo dataset      not available in demo dataset  thousandeyes.com   \n",
            "\n",
            "                      networkLocation                         region      subContinent bounces hits newVisits pageviews transactionRevenue visits adContent                                   adwordsClickInfo   campaign campaignCode isTrueDirect keyword    medium referralPath       source  \n",
            "657451  not available in demo dataset                     California  Northern America     NaN    2       NaN         2                NaN      1       NaN  {'criteriaParameters': 'not available in demo ...  (not set)          NaN         True     NaN    (none)          NaN     (direct)  \n",
            "657452  not available in demo dataset  not available in demo dataset  Northern America     NaN    2         1         2                NaN      1       NaN  {'criteriaParameters': 'not available in demo ...  (not set)          NaN         True     NaN    (none)          NaN     (direct)  \n",
            "657453  not available in demo dataset  not available in demo dataset      Western Asia     NaN    2         1         2                NaN      1       NaN  {'criteriaParameters': 'not available in demo ...  (not set)          NaN          NaN     NaN  referral   /yt/about/  youtube.com  \n",
            "657454  not available in demo dataset  not available in demo dataset    Southeast Asia     NaN    2         1         2                NaN      1       NaN  {'criteriaParameters': 'not available in demo ...  (not set)          NaN          NaN     NaN  referral   /yt/about/  youtube.com  \n",
            "657455  not available in demo dataset  not available in demo dataset  Northern America     NaN    2       NaN         2                NaN      1       NaN  {'criteriaParameters': 'not available in demo ...  (not set)          NaN         True     NaN    (none)          NaN     (direct)  \n"
          ],
          "name": "stdout"
        }
      ]
    },
    {
      "metadata": {
        "id": "eZCQb9yIHV9j",
        "colab_type": "code",
        "colab": {
          "base_uri": "https://localhost:8080/",
          "height": 953
        },
        "outputId": "cbbe1bd4-983e-4ea0-c747-520bebdac6ae"
      },
      "cell_type": "code",
      "source": [
        "list(df)"
      ],
      "execution_count": 36,
      "outputs": [
        {
          "output_type": "execute_result",
          "data": {
            "text/plain": [
              "['channelGrouping',\n",
              " 'date',\n",
              " 'device',\n",
              " 'fullVisitorId',\n",
              " 'geoNetwork',\n",
              " 'sessionId',\n",
              " 'socialEngagementType',\n",
              " 'totals',\n",
              " 'trafficSource',\n",
              " 'visitId',\n",
              " 'visitNumber',\n",
              " 'visitStartTime',\n",
              " 'browser',\n",
              " 'browserSize',\n",
              " 'browserVersion',\n",
              " 'deviceCategory',\n",
              " 'flashVersion',\n",
              " 'isMobile',\n",
              " 'language',\n",
              " 'mobileDeviceBranding',\n",
              " 'mobileDeviceInfo',\n",
              " 'mobileDeviceMarketingName',\n",
              " 'mobileDeviceModel',\n",
              " 'mobileInputSelector',\n",
              " 'operatingSystem',\n",
              " 'operatingSystemVersion',\n",
              " 'screenColors',\n",
              " 'screenResolution',\n",
              " 'city',\n",
              " 'cityId',\n",
              " 'continent',\n",
              " 'country',\n",
              " 'latitude',\n",
              " 'longitude',\n",
              " 'metro',\n",
              " 'networkDomain',\n",
              " 'networkLocation',\n",
              " 'region',\n",
              " 'subContinent',\n",
              " 'bounces',\n",
              " 'hits',\n",
              " 'newVisits',\n",
              " 'pageviews',\n",
              " 'transactionRevenue',\n",
              " 'visits',\n",
              " 'adContent',\n",
              " 'adwordsClickInfo',\n",
              " 'campaign',\n",
              " 'campaignCode',\n",
              " 'isTrueDirect',\n",
              " 'keyword',\n",
              " 'medium',\n",
              " 'referralPath',\n",
              " 'source']"
            ]
          },
          "metadata": {
            "tags": []
          },
          "execution_count": 36
        }
      ]
    },
    {
      "metadata": {
        "id": "1FfxLg9BH5GG",
        "colab_type": "text"
      },
      "cell_type": "markdown",
      "source": [
        "Full column list:\n",
        "'channelGrouping',\n",
        " 'date',\n",
        " 'device',\n",
        " 'fullVisitorId',\n",
        " 'geoNetwork',\n",
        " 'sessionId',\n",
        " 'socialEngagementType',\n",
        " 'totals',\n",
        " 'trafficSource',\n",
        " 'visitId',\n",
        " 'visitNumber',\n",
        " 'visitStartTime',\n",
        " 'browser',\n",
        " 'browserSize',\n",
        " 'browserVersion',\n",
        " 'deviceCategory',\n",
        " 'flashVersion',\n",
        " 'isMobile',\n",
        " 'language',\n",
        " 'mobileDeviceBranding',\n",
        " 'mobileDeviceInfo',\n",
        " 'mobileDeviceMarketingName',\n",
        " 'mobileDeviceModel',\n",
        " 'mobileInputSelector',\n",
        " 'operatingSystem',\n",
        " 'operatingSystemVersion',\n",
        " 'screenColors',\n",
        " 'screenResolution',\n",
        " 'city',\n",
        " 'cityId',\n",
        " 'continent',\n",
        " 'country',\n",
        " 'latitude',\n",
        " 'longitude',\n",
        " 'metro',\n",
        " 'networkDomain',\n",
        " 'networkLocation',\n",
        " 'region',\n",
        " 'subContinent',\n",
        " 'bounces',\n",
        " 'hits',\n",
        " 'newVisits',\n",
        " 'pageviews',\n",
        " 'transactionRevenue',\n",
        " 'visits',\n",
        " 'adContent',\n",
        " 'adwordsClickInfo',\n",
        " 'campaign',\n",
        " 'campaignCode',\n",
        " 'isTrueDirect',\n",
        " 'keyword',\n",
        " 'medium',\n",
        " 'referralPath',\n",
        " 'source'"
      ]
    },
    {
      "metadata": {
        "id": "b2P_n2-OJJc2",
        "colab_type": "code",
        "colab": {
          "base_uri": "https://localhost:8080/",
          "height": 263
        },
        "outputId": "3dbe75ef-d078-4ca1-cb81-2c4a7f5abd1f"
      },
      "cell_type": "code",
      "source": [
        "columns = ['device', 'geoNetwork', 'totals', 'trafficSource']\n",
        "df.drop(columns, inplace=True, axis=1)\n",
        "print(df.head())"
      ],
      "execution_count": 38,
      "outputs": [
        {
          "output_type": "stream",
          "text": [
            "  channelGrouping      date        fullVisitorId                       sessionId  socialEngagementType     visitId  visitNumber  visitStartTime     browser                    browserSize                 browserVersion deviceCategory                   flashVersion  isMobile                       language           mobileDeviceBranding               mobileDeviceInfo      mobileDeviceMarketingName              mobileDeviceModel            mobileInputSelector operatingSystem         operatingSystemVersion                   screenColors               screenResolution                           city                         cityId continent         country                       latitude                      longitude                          metro    networkDomain                networkLocation                         region     subContinent bounces hits newVisits pageviews transactionRevenue visits adContent                                   adwordsClickInfo   campaign campaignCode  \\\n",
            "0  Organic Search  20160902  1131660440785968503  1131660440785968503_1472830385  Not Socially Engaged  1472830385            1      1472830385      Chrome  not available in demo dataset  not available in demo dataset        desktop  not available in demo dataset     False  not available in demo dataset  not available in demo dataset  not available in demo dataset  not available in demo dataset  not available in demo dataset  not available in demo dataset         Windows  not available in demo dataset  not available in demo dataset  not available in demo dataset                          Izmir  not available in demo dataset      Asia          Turkey  not available in demo dataset  not available in demo dataset                      (not set)     ttnet.com.tr  not available in demo dataset                          Izmir     Western Asia       1    1         1         1                NaN      1       NaN  {'criteriaParameters': 'not available in demo ...  (not set)          NaN   \n",
            "1  Organic Search  20160902   377306020877927890   377306020877927890_1472880147  Not Socially Engaged  1472880147            1      1472880147     Firefox  not available in demo dataset  not available in demo dataset        desktop  not available in demo dataset     False  not available in demo dataset  not available in demo dataset  not available in demo dataset  not available in demo dataset  not available in demo dataset  not available in demo dataset       Macintosh  not available in demo dataset  not available in demo dataset  not available in demo dataset  not available in demo dataset  not available in demo dataset   Oceania       Australia  not available in demo dataset  not available in demo dataset  not available in demo dataset      dodo.net.au  not available in demo dataset  not available in demo dataset      Australasia       1    1         1         1                NaN      1       NaN  {'criteriaParameters': 'not available in demo ...  (not set)          NaN   \n",
            "2  Organic Search  20160902  3895546263509774583  3895546263509774583_1472865386  Not Socially Engaged  1472865386            1      1472865386      Chrome  not available in demo dataset  not available in demo dataset        desktop  not available in demo dataset     False  not available in demo dataset  not available in demo dataset  not available in demo dataset  not available in demo dataset  not available in demo dataset  not available in demo dataset         Windows  not available in demo dataset  not available in demo dataset  not available in demo dataset                         Madrid  not available in demo dataset    Europe           Spain  not available in demo dataset  not available in demo dataset                      (not set)  unknown.unknown  not available in demo dataset            Community of Madrid  Southern Europe       1    1         1         1                NaN      1       NaN  {'criteriaParameters': 'not available in demo ...  (not set)          NaN   \n",
            "3  Organic Search  20160902  4763447161404445595  4763447161404445595_1472881213  Not Socially Engaged  1472881213            1      1472881213  UC Browser  not available in demo dataset  not available in demo dataset        desktop  not available in demo dataset     False  not available in demo dataset  not available in demo dataset  not available in demo dataset  not available in demo dataset  not available in demo dataset  not available in demo dataset           Linux  not available in demo dataset  not available in demo dataset  not available in demo dataset  not available in demo dataset  not available in demo dataset      Asia       Indonesia  not available in demo dataset  not available in demo dataset  not available in demo dataset  unknown.unknown  not available in demo dataset  not available in demo dataset   Southeast Asia       1    1         1         1                NaN      1       NaN  {'criteriaParameters': 'not available in demo ...  (not set)          NaN   \n",
            "4  Organic Search  20160902    27294437909732085    27294437909732085_1472822600  Not Socially Engaged  1472822600            2      1472822600      Chrome  not available in demo dataset  not available in demo dataset         mobile  not available in demo dataset      True  not available in demo dataset  not available in demo dataset  not available in demo dataset  not available in demo dataset  not available in demo dataset  not available in demo dataset         Android  not available in demo dataset  not available in demo dataset  not available in demo dataset  not available in demo dataset  not available in demo dataset    Europe  United Kingdom  not available in demo dataset  not available in demo dataset  not available in demo dataset  unknown.unknown  not available in demo dataset  not available in demo dataset  Northern Europe       1    1       NaN         1                NaN      1       NaN  {'criteriaParameters': 'not available in demo ...  (not set)          NaN   \n",
            "\n",
            "  isTrueDirect          keyword   medium referralPath  source  \n",
            "0          NaN   (not provided)  organic          NaN  google  \n",
            "1          NaN   (not provided)  organic          NaN  google  \n",
            "2          NaN   (not provided)  organic          NaN  google  \n",
            "3          NaN  google + online  organic          NaN  google  \n",
            "4         True   (not provided)  organic          NaN  google  \n"
          ],
          "name": "stdout"
        }
      ]
    },
    {
      "metadata": {
        "id": "G6wzyH5dKGkA",
        "colab_type": "code",
        "colab": {
          "base_uri": "https://localhost:8080/",
          "height": 263
        },
        "outputId": "91a61e14-a4a8-4e10-a0bc-715b7321c293"
      },
      "cell_type": "code",
      "source": [
        "#s1 = json.dumps(df)\n",
        "#df_sub = json.loads(s1)\n",
        "#df = df.join(df['adwordsClickInfo'].apply(json.dumps).apply(pd.Series))\n",
        "#print(df.tail())"
      ],
      "execution_count": 26,
      "outputs": [
        {
          "output_type": "stream",
          "text": [
            "       channelGrouping      date        fullVisitorId                       sessionId  socialEngagementType     visitId  visitNumber  visitStartTime browser                    browserSize                 browserVersion deviceCategory                   flashVersion  isMobile                       language           mobileDeviceBranding               mobileDeviceInfo      mobileDeviceMarketingName              mobileDeviceModel            mobileInputSelector operatingSystem         operatingSystemVersion                   screenColors               screenResolution                           city                         cityId continent        country                       latitude                      longitude                          metro networkDomain                networkLocation                         region      subContinent bounces hits newVisits pageviews transactionRevenue visits adContent                                   adwordsClickInfo   campaign campaignCode  \\\n",
            "375121  Organic Search  20170405   893143091204747845   893143091204747845_1491453115  Not Socially Engaged  1491453115            2      1491453115  Chrome  not available in demo dataset  not available in demo dataset         mobile  not available in demo dataset      True  not available in demo dataset  not available in demo dataset  not available in demo dataset  not available in demo dataset  not available in demo dataset  not available in demo dataset         Android  not available in demo dataset  not available in demo dataset  not available in demo dataset                           Pune  not available in demo dataset      Asia          India  not available in demo dataset  not available in demo dataset                      (not set)   vodafone.in  not available in demo dataset                    Maharashtra     Southern Asia     NaN   15       NaN         9                NaN      1       NaN  {'criteriaParameters': 'not available in demo ...  (not set)          NaN   \n",
            "375122  Organic Search  20170405  7469641396207188649  7469641396207188649_1491410348  Not Socially Engaged  1491410348            1      1491410348  Chrome  not available in demo dataset  not available in demo dataset        desktop  not available in demo dataset     False  not available in demo dataset  not available in demo dataset  not available in demo dataset  not available in demo dataset  not available in demo dataset  not available in demo dataset         Windows  not available in demo dataset  not available in demo dataset  not available in demo dataset  not available in demo dataset  not available in demo dataset  Americas  United States  not available in demo dataset  not available in demo dataset  not available in demo dataset     (not set)  not available in demo dataset  not available in demo dataset  Northern America     NaN   15         1        13           16990000      1       NaN  {'criteriaParameters': 'not available in demo ...  (not set)          NaN   \n",
            "375123          Direct  20170405  2725984500475758525  2725984500475758525_1491411823  Not Socially Engaged  1491411823            1      1491411823  Chrome  not available in demo dataset  not available in demo dataset        desktop  not available in demo dataset     False  not available in demo dataset  not available in demo dataset  not available in demo dataset  not available in demo dataset  not available in demo dataset  not available in demo dataset         Windows  not available in demo dataset  not available in demo dataset  not available in demo dataset                         Madrid  not available in demo dataset    Europe          Spain  not available in demo dataset  not available in demo dataset                      (not set)  rima-tde.net  not available in demo dataset            Community of Madrid   Southern Europe     NaN   15         1         7                NaN      1       NaN  {'criteriaParameters': 'not available in demo ...  (not set)          NaN   \n",
            "375124  Organic Search  20170405  3651038689350814500  3651038689350814500_1491422260  Not Socially Engaged  1491422260            1      1491422260  Chrome  not available in demo dataset  not available in demo dataset        desktop  not available in demo dataset     False  not available in demo dataset  not available in demo dataset  not available in demo dataset  not available in demo dataset  not available in demo dataset  not available in demo dataset       Macintosh  not available in demo dataset  not available in demo dataset  not available in demo dataset  not available in demo dataset  not available in demo dataset  Americas  United States  not available in demo dataset  not available in demo dataset  not available in demo dataset        rr.com  not available in demo dataset  not available in demo dataset  Northern America     NaN   15         1        15                NaN      1       NaN  {'criteriaParameters': 'not available in demo ...  (not set)          NaN   \n",
            "375125        Referral  20170405   234006696582066330   234006696582066330_1491426710  Not Socially Engaged  1491426710            4      1491426710  Chrome  not available in demo dataset  not available in demo dataset        desktop  not available in demo dataset     False  not available in demo dataset  not available in demo dataset  not available in demo dataset  not available in demo dataset  not available in demo dataset  not available in demo dataset       Macintosh  not available in demo dataset  not available in demo dataset  not available in demo dataset                       Kirkland  not available in demo dataset  Americas  United States  not available in demo dataset  not available in demo dataset              Seattle-Tacoma WA     (not set)  not available in demo dataset                     Washington  Northern America     NaN   15       NaN        12           55990000      1       NaN  {'criteriaParameters': 'not available in demo ...  (not set)          NaN   \n",
            "\n",
            "       isTrueDirect         keyword    medium referralPath               source                                                  0  \n",
            "375121         True  (not provided)   organic          NaN               google  {\"criteriaParameters\": \"not available in demo ...  \n",
            "375122          NaN  (not provided)   organic          NaN               google  {\"criteriaParameters\": \"not available in demo ...  \n",
            "375123         True             NaN    (none)          NaN             (direct)  {\"criteriaParameters\": \"not available in demo ...  \n",
            "375124          NaN  (not provided)   organic          NaN               google  {\"criteriaParameters\": \"not available in demo ...  \n",
            "375125         True             NaN  referral            /  mall.googleplex.com  {\"criteriaParameters\": \"not available in demo ...  \n"
          ],
          "name": "stdout"
        }
      ]
    },
    {
      "metadata": {
        "id": "AmymW2evKJbq",
        "colab_type": "code",
        "colab": {
          "base_uri": "https://localhost:8080/",
          "height": 121
        },
        "outputId": "0ba0c7e5-bed0-4a48-b4bf-267b9df5f7d5"
      },
      "cell_type": "code",
      "source": [
        "#df.drop('0', inplace=True, axis=1)\n",
        "#df = df.iloc[,:-1]\n",
        "#print(df.head())"
      ],
      "execution_count": 28,
      "outputs": [
        {
          "output_type": "stream",
          "text": [
            "0    {\"criteriaParameters\": \"not available in demo ...\n",
            "1    {\"criteriaParameters\": \"not available in demo ...\n",
            "2    {\"criteriaParameters\": \"not available in demo ...\n",
            "3    {\"criteriaParameters\": \"not available in demo ...\n",
            "4    {\"criteriaParameters\": \"not available in demo ...\n",
            "Name: 0, dtype: object\n"
          ],
          "name": "stdout"
        }
      ]
    }
  ]
}