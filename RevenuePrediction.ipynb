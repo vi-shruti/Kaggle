{
  "nbformat": 4,
  "nbformat_minor": 0,
  "metadata": {
    "colab": {
      "name": "RevenuePrediction.ipynb",
      "version": "0.3.2",
      "provenance": [],
      "include_colab_link": true
    },
    "kernelspec": {
      "name": "python3",
      "display_name": "Python 3"
    }
  },
  "cells": [
    {
      "cell_type": "markdown",
      "metadata": {
        "id": "view-in-github",
        "colab_type": "text"
      },
      "source": [
        "<a href=\"https://colab.research.google.com/github/vi-shruti/Kaggle/blob/master/RevenuePrediction.ipynb\" target=\"_parent\"><img src=\"https://colab.research.google.com/assets/colab-badge.svg\" alt=\"Open In Colab\"/></a>"
      ]
    },
    {
      "metadata": {
        "id": "Lo4qduXwKXLZ",
        "colab_type": "text"
      },
      "cell_type": "markdown",
      "source": [
        "Important Note\n",
        "As noted in this forum post, we are in the process of updating the data. The information below pertains to the data we will be adding by November 9, 2018, but you can already start working toward a forward-looking revenue prediction using the data that is currently available. Announcements will be made to the forum thread when the data update is complete.\n",
        "\n",
        "What files do I need?\n",
        "You will need to download train_v2.csv and test_v2.csv. These contain the data necessary to make predictions for each fullVisitorId listed in sample_submission_v2.csv.\n",
        "\n",
        "You can also access a subset of this data via BigQuery, using the example notebook provided as a way to get started. These subsets are contained in the BigQuery ga_train_set and ga_test_set datasets, under the kaggle-public-datasets project, accessible through Kernels. In those BigQuery datasets, each day's worth of data is a separate table for more efficient EDA / download.\n",
        "\n",
        "All information below pertains to the data in both CSV and BigQuery format.\n",
        "\n",
        "What should I expect the data format to be?\n",
        "Both train_v2.csv and test_v2.csv contain the columns listed under Data Fields. Each row in the dataset is one visit to the store. Because we are predicting the log of the total revenue per user, be aware that not all rows in test_v2.csv will correspond to a row in the submission, but all unique fullVisitorIds will correspond to a row in the submission.\n",
        "\n",
        "IMPORTANT: Due to the formatting of fullVisitorId you must load the Id's as strings in order for all Id's to be properly unique!\n",
        "There are multiple columns which contain JSON blobs of varying depth. In one of those JSON columns, totals, the sub-column transactionRevenue contains the revenue information we are trying to predict. This sub-column exists only for the training data.\n",
        "\n",
        "What am I predicting?\n",
        "We are predicting the natural log of the sum of all transactions per user. Once the data is updated, as noted above, this will be for all users in test_v2.csv for December 1st, 2018 to January 31st, 2019. For every user in the test set, the target is:\n",
        "yuser=∑i=1ntransactionuseri\n",
        "targetuser=ln(yuser+1)\n",
        "Note that the dataset does NOT contain data for December 1st 2018 to January 31st 2019. You must identify the unique fullVisitorIds in the provided test_v2.csv and make predictions for them for those unseen months.\n",
        "\n",
        "File Descriptions\n",
        "Note: These have not yet been updated, per the \"Important Note\" above.\n",
        "\n",
        "train.csv - the old training set - contains the same data as the BigQuery rstudio_train_set. Contains user transactions from August 1st 2016 to August 1st 2017.\n",
        "test.csv - the old test set - contains the same data as the BigQuery rstudio_test_set. Contains user transactions from August 2nd 2017 to April 30th 2018.\n",
        "sampleSubmission.csv - the old sample submission file in the correct format. Contains all fullVisitorIds in test.csv.\n",
        "\n",
        "train_v2.csv - the updated training set - contains user transactions from August 1st 2016 to April 30th 2018.\n",
        "\n",
        "test_v2.csv - the updated test set - contains user transactions from May 1st 2018 to October 15th 2018.\n",
        "sample_submission_v2.csv - a updated sample submission file in the correct format. Contains all fullVisitorIds in test_v2.csv. Your submission's PredictedLogRevenue column should make forward-looking predictions for each of these fullVisitorIds for the timeframe of December 1st 2018 to January 31st 2019. Review \"What am I predicting?\" above for details.\n",
        "Data Fields\n",
        "fullVisitorId- A unique identifier for each user of the Google Merchandise Store.\n",
        "channelGrouping - The channel via which the user came to the Store.\n",
        "date - The date on which the user visited the Store.\n",
        "device - The specifications for the device used to access the Store.\n",
        "geoNetwork - This section contains information about the geography of the user.\n",
        "sessionId - A unique identifier for this visit to the store.\n",
        "socialEngagementType - Engagement type, either \"Socially Engaged\" or \"Not Socially Engaged\".\n",
        "totals - This section contains aggregate values across the session.\n",
        "trafficSource - This section contains information about the Traffic Source from which the session originated.\n",
        "visitId - An identifier for this session. This is part of the value usually stored as the _utmb cookie. This is only unique to the user. For a completely unique ID, you should use a combination of fullVisitorId and visitId.\n",
        "visitNumber - The session number for this user. If this is the first session, then this is set to 1.\n",
        "visitStartTime - The timestamp (expressed as POSIX time).\n",
        "Removed Data Fields\n",
        "Some fields were censored to remove target leakage. The major censored fields are listed below.\n",
        "\n",
        "hits - This row and nested fields are populated for any and all types of hits. Provides a record of all page visits.\n",
        "customDimensions - This section contains any user-level or session-level custom dimensions that are set for a session. This is a repeated field and has an entry for each dimension that is set.\n",
        "totals - Multiple sub-columns were removed from the totals field.\n",
        "External Data\n",
        "External data is permitted for this competition, per this forum post. This includes the Google Merchandise Store Demo Account. Although the Demo Account contains the predicted variable, final standings will not benefit from access to this external data, because it requires future-looking predictions.\n",
        "\n"
      ]
    },
    {
      "metadata": {
        "id": "rjGex0PWASXA",
        "colab_type": "code",
        "colab": {}
      },
      "cell_type": "code",
      "source": [
        "import pandas as pd\n",
        "import json \n",
        "from pandas.io.json import json_normalize \n",
        "import gc\n",
        "import os\n",
        "#gc.collect()"
      ],
      "execution_count": 0,
      "outputs": []
    },
    {
      "metadata": {
        "id": "9AkY9FCLIS7T",
        "colab_type": "code",
        "colab": {}
      },
      "cell_type": "code",
      "source": [
        "def CustomParser(data):\n",
        "    import json\n",
        "    j1 = json.loads(data)\n",
        "    return j1"
      ],
      "execution_count": 0,
      "outputs": []
    },
    {
      "metadata": {
        "id": "u59LR-Jm4rY4",
        "colab_type": "code",
        "colab": {}
      },
      "cell_type": "code",
      "source": [
        "#df = pd.read_csv('train.csv', engine='python',encoding='utf-8', error_bad_lines=False, converters={'device':CustomParser},header=0)\n",
        "#df = pd.read_csv('train.csv', engine='python',encoding='utf-8', error_bad_lines=False, converters={'geoNetwork':CustomParser},header=0)\n",
        "#df = pd.read_csv('train.csv', engine='python',encoding='utf-8', error_bad_lines=False, converters={'totals':CustomParser},header=0)\n",
        "#df = pd.read_csv('train.csv', engine='python',encoding='utf-8', error_bad_lines=False, converters={'trafficSource':CustomParser},header=0)\n",
        "#'device'\n",
        "#'geoNetwork'\n",
        "#'totals'\n",
        "#'trafficSource'"
      ],
      "execution_count": 0,
      "outputs": []
    },
    {
      "metadata": {
        "id": "jNGzasahlSlu",
        "colab_type": "code",
        "colab": {}
      },
      "cell_type": "code",
      "source": [
        "#!os.chdir('C:\\\\Users\\\\Shruti\\\\Desktop\\\\GoogleAnalyticsCustomerRevenuePrediction')\n",
        "#df= pd.read_csv('train.csv')\n",
        "#print(df.head())\n",
        "#converters={'device':CustomParser, 'geoNetwork':CustomParser, 'totals':CustomParser, 'trafficSource':CustomParser}, header=0\n",
        "#'device' 'geoNetwork' 'totals' 'trafficSource'"
      ],
      "execution_count": 0,
      "outputs": []
    },
    {
      "metadata": {
        "id": "Zpxs8Y_a_Nbz",
        "colab_type": "code",
        "colab": {}
      },
      "cell_type": "code",
      "source": [
        "df = pd.read_csv('train.csv', engine='python', encoding='utf-8', error_bad_lines=False)"
      ],
      "execution_count": 0,
      "outputs": []
    },
    {
      "metadata": {
        "id": "c6Vaw78NdUzE",
        "colab_type": "code",
        "colab": {}
      },
      "cell_type": "code",
      "source": [
        "for row in df\n",
        "  device_ = df[row]['device'][]\n",
        "  geonetwork_continent = df[row]['geoNetwork']['continent']\n",
        "  geonetwork_subContinent = df[row]['geoNetwork']['subContinent']\n",
        "  geonetwork_country = df[row]['geoNetwork']['country']\n",
        "  geonetwork_region = df[row]['geoNetwork']['region']\n",
        "  geonetwork_metro = df[row]['geoNetwork']['metro']\n",
        "  geonetwork_city = df[row]['geoNetwork']['city']\n",
        "  geonetwork_cityId = df[row]['geoNetwork']['cityId']\n",
        "  geonetwork_networkDomain = df[row]['geoNetwork']['networkDomain']\n",
        "  geonetwork_latitude = df[row]['geoNetwork']['latitude']\n",
        "  geonetwork_longitude = df[row]['geoNetwork']['longitude']\n",
        "  geonetwork_networkLocation = df[row]['geoNetwork']['networkLocation']\n",
        "  totals_visits = df[row]['totals']['visits']\n",
        "  totals_hits = df[row]['totals']['hits']\n",
        "  totals_pageviews = df[row]['totals']['pageviews']\n",
        "  totals_bounces = df[row]['totals']['bounces']\n",
        "  totals_newVisits = df[row]['totals']['newVisits']\n",
        "  trafficSource_ = df[row]['trafficSource'][]\n",
        "print(add_col.head())"
      ],
      "execution_count": 0,
      "outputs": []
    },
    {
      "metadata": {
        "id": "df87PpRLIZjO",
        "colab_type": "code",
        "colab": {
          "base_uri": "https://localhost:8080/",
          "height": 849
        },
        "outputId": "f6218b3e-127d-4cdc-9134-41979d0e1036"
      },
      "cell_type": "code",
      "source": [
        "print(df.head())"
      ],
      "execution_count": 43,
      "outputs": [
        {
          "output_type": "stream",
          "text": [
            "  channelGrouping      date  \\\n",
            "0  Organic Search  20160902   \n",
            "1  Organic Search  20160902   \n",
            "2  Organic Search  20160902   \n",
            "3  Organic Search  20160902   \n",
            "4  Organic Search  20160902   \n",
            "\n",
            "                                              device        fullVisitorId  \\\n",
            "0  {\"browser\": \"Chrome\", \"browserVersion\": \"not a...  1131660440785968503   \n",
            "1  {\"browser\": \"Firefox\", \"browserVersion\": \"not ...   377306020877927890   \n",
            "2  {\"browser\": \"Chrome\", \"browserVersion\": \"not a...  3895546263509774583   \n",
            "3  {\"browser\": \"UC Browser\", \"browserVersion\": \"n...  4763447161404445595   \n",
            "4  {\"browser\": \"Chrome\", \"browserVersion\": \"not a...    27294437909732085   \n",
            "\n",
            "                                          geoNetwork  \\\n",
            "0  {\"continent\": \"Asia\", \"subContinent\": \"Western...   \n",
            "1  {\"continent\": \"Oceania\", \"subContinent\": \"Aust...   \n",
            "2  {\"continent\": \"Europe\", \"subContinent\": \"South...   \n",
            "3  {\"continent\": \"Asia\", \"subContinent\": \"Southea...   \n",
            "4  {\"continent\": \"Europe\", \"subContinent\": \"North...   \n",
            "\n",
            "                        sessionId  socialEngagementType  \\\n",
            "0  1131660440785968503_1472830385  Not Socially Engaged   \n",
            "1   377306020877927890_1472880147  Not Socially Engaged   \n",
            "2  3895546263509774583_1472865386  Not Socially Engaged   \n",
            "3  4763447161404445595_1472881213  Not Socially Engaged   \n",
            "4    27294437909732085_1472822600  Not Socially Engaged   \n",
            "\n",
            "                                              totals  \\\n",
            "0  {\"visits\": \"1\", \"hits\": \"1\", \"pageviews\": \"1\",...   \n",
            "1  {\"visits\": \"1\", \"hits\": \"1\", \"pageviews\": \"1\",...   \n",
            "2  {\"visits\": \"1\", \"hits\": \"1\", \"pageviews\": \"1\",...   \n",
            "3  {\"visits\": \"1\", \"hits\": \"1\", \"pageviews\": \"1\",...   \n",
            "4  {\"visits\": \"1\", \"hits\": \"1\", \"pageviews\": \"1\",...   \n",
            "\n",
            "                                       trafficSource     visitId  visitNumber  \\\n",
            "0  {\"campaign\": \"(not set)\", \"source\": \"google\", ...  1472830385            1   \n",
            "1  {\"campaign\": \"(not set)\", \"source\": \"google\", ...  1472880147            1   \n",
            "2  {\"campaign\": \"(not set)\", \"source\": \"google\", ...  1472865386            1   \n",
            "3  {\"campaign\": \"(not set)\", \"source\": \"google\", ...  1472881213            1   \n",
            "4  {\"campaign\": \"(not set)\", \"source\": \"google\", ...  1472822600            2   \n",
            "\n",
            "   visitStartTime  \n",
            "0      1472830385  \n",
            "1      1472880147  \n",
            "2      1472865386  \n",
            "3      1472881213  \n",
            "4      1472822600  \n"
          ],
          "name": "stdout"
        }
      ]
    },
    {
      "metadata": {
        "id": "Hvus3Gr5ABOS",
        "colab_type": "code",
        "colab": {}
      },
      "cell_type": "code",
      "source": [
        "df = df.join(df['device'].apply(json.loads).apply(pd.Series))\n",
        "df = df.join(df['geoNetwork'].apply(json.loads).apply(pd.Series))\n",
        "df = df.join(df['totals'].apply(json.loads).apply(pd.Series))\n",
        "df = df.join(df['trafficSource'].apply(json.loads).apply(pd.Series))"
      ],
      "execution_count": 0,
      "outputs": []
    },
    {
      "metadata": {
        "id": "gXfdvrEU5mnX",
        "colab_type": "code",
        "colab": {
          "base_uri": "https://localhost:8080/",
          "height": 1127
        },
        "outputId": "1f2d65e6-e576-4468-8c73-f86cf6409658"
      },
      "cell_type": "code",
      "source": [
        "print(df.head())"
      ],
      "execution_count": 34,
      "outputs": [
        {
          "output_type": "stream",
          "text": [
            "  channelGrouping      date  \\\n",
            "0  Organic Search  20160902   \n",
            "1  Organic Search  20160902   \n",
            "2  Organic Search  20160902   \n",
            "3  Organic Search  20160902   \n",
            "4  Organic Search  20160902   \n",
            "\n",
            "                                              device        fullVisitorId  \\\n",
            "0  {\"browser\": \"Chrome\", \"browserVersion\": \"not a...  1131660440785968503   \n",
            "1  {\"browser\": \"Firefox\", \"browserVersion\": \"not ...   377306020877927890   \n",
            "2  {\"browser\": \"Chrome\", \"browserVersion\": \"not a...  3895546263509774583   \n",
            "3  {\"browser\": \"UC Browser\", \"browserVersion\": \"n...  4763447161404445595   \n",
            "4  {\"browser\": \"Chrome\", \"browserVersion\": \"not a...    27294437909732085   \n",
            "\n",
            "                                          geoNetwork  \\\n",
            "0  {\"continent\": \"Asia\", \"subContinent\": \"Western...   \n",
            "1  {\"continent\": \"Oceania\", \"subContinent\": \"Aust...   \n",
            "2  {\"continent\": \"Europe\", \"subContinent\": \"South...   \n",
            "3  {\"continent\": \"Asia\", \"subContinent\": \"Southea...   \n",
            "4  {\"continent\": \"Europe\", \"subContinent\": \"North...   \n",
            "\n",
            "                        sessionId  socialEngagementType  \\\n",
            "0  1131660440785968503_1472830385  Not Socially Engaged   \n",
            "1   377306020877927890_1472880147  Not Socially Engaged   \n",
            "2  3895546263509774583_1472865386  Not Socially Engaged   \n",
            "3  4763447161404445595_1472881213  Not Socially Engaged   \n",
            "4    27294437909732085_1472822600  Not Socially Engaged   \n",
            "\n",
            "                                              totals  \\\n",
            "0  {\"visits\": \"1\", \"hits\": \"1\", \"pageviews\": \"1\",...   \n",
            "1  {\"visits\": \"1\", \"hits\": \"1\", \"pageviews\": \"1\",...   \n",
            "2  {\"visits\": \"1\", \"hits\": \"1\", \"pageviews\": \"1\",...   \n",
            "3  {\"visits\": \"1\", \"hits\": \"1\", \"pageviews\": \"1\",...   \n",
            "4  {\"visits\": \"1\", \"hits\": \"1\", \"pageviews\": \"1\",...   \n",
            "\n",
            "                                       trafficSource     visitId   ...    \\\n",
            "0  {\"campaign\": \"(not set)\", \"source\": \"google\", ...  1472830385   ...     \n",
            "1  {\"campaign\": \"(not set)\", \"source\": \"google\", ...  1472880147   ...     \n",
            "2  {\"campaign\": \"(not set)\", \"source\": \"google\", ...  1472865386   ...     \n",
            "3  {\"campaign\": \"(not set)\", \"source\": \"google\", ...  1472881213   ...     \n",
            "4  {\"campaign\": \"(not set)\", \"source\": \"google\", ...  1472822600   ...     \n",
            "\n",
            "   visits  adContent                                   adwordsClickInfo  \\\n",
            "0       1        NaN  {'criteriaParameters': 'not available in demo ...   \n",
            "1       1        NaN  {'criteriaParameters': 'not available in demo ...   \n",
            "2       1        NaN  {'criteriaParameters': 'not available in demo ...   \n",
            "3       1        NaN  {'criteriaParameters': 'not available in demo ...   \n",
            "4       1        NaN  {'criteriaParameters': 'not available in demo ...   \n",
            "\n",
            "    campaign campaignCode isTrueDirect          keyword   medium referralPath  \\\n",
            "0  (not set)          NaN          NaN   (not provided)  organic          NaN   \n",
            "1  (not set)          NaN          NaN   (not provided)  organic          NaN   \n",
            "2  (not set)          NaN          NaN   (not provided)  organic          NaN   \n",
            "3  (not set)          NaN          NaN  google + online  organic          NaN   \n",
            "4  (not set)          NaN         True   (not provided)  organic          NaN   \n",
            "\n",
            "   source  \n",
            "0  google  \n",
            "1  google  \n",
            "2  google  \n",
            "3  google  \n",
            "4  google  \n",
            "\n",
            "[5 rows x 54 columns]\n"
          ],
          "name": "stdout"
        }
      ]
    }
  ]
}