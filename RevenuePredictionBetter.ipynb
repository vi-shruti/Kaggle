{
  "nbformat": 4,
  "nbformat_minor": 0,
  "metadata": {
    "colab": {
      "name": "RevenuePredictionBetter.ipynb",
      "version": "0.3.2",
      "provenance": []
    },
    "kernelspec": {
      "name": "python3",
      "display_name": "Python 3"
    }
  },
  "cells": [
    {
      "metadata": {
        "id": "R0JUuQQgNum_",
        "colab_type": "code",
        "colab": {}
      },
      "cell_type": "code",
      "source": [
        "import pandas as pd\n",
        "import numpy as np\n",
        "import matplotlib.pyplot as plt\n",
        "import seaborn as sns\n",
        "import json\n",
        "import gc\n",
        "import sys\n",
        "import math\n",
        "\n",
        "from pandas.io.json import json_normalize\n",
        "from datetime import datetime\n",
        "\n",
        "import os\n",
        "#print(os.listdir(\"/content/drive\"))"
      ],
      "execution_count": 0,
      "outputs": []
    },
    {
      "metadata": {
        "id": "gPG6a0FnOOOW",
        "colab_type": "code",
        "outputId": "b3a9ef71-44dd-4db0-b69f-6f3e0ccfd1a8",
        "colab": {
          "base_uri": "https://localhost:8080/",
          "height": 124
        }
      },
      "cell_type": "code",
      "source": [
        "from google.colab import drive\n",
        "drive.mount('/content/drive')\n",
        "os.chdir(\"/content/drive/My Drive\")"
      ],
      "execution_count": 0,
      "outputs": [
        {
          "output_type": "stream",
          "text": [
            "Go to this URL in a browser: https://accounts.google.com/o/oauth2/auth?client_id=947318989803-6bn6qk8qdgf4n4g3pfee6491hc0brc4i.apps.googleusercontent.com&redirect_uri=urn%3Aietf%3Awg%3Aoauth%3A2.0%3Aoob&scope=email%20https%3A%2F%2Fwww.googleapis.com%2Fauth%2Fdocs.test%20https%3A%2F%2Fwww.googleapis.com%2Fauth%2Fdrive%20https%3A%2F%2Fwww.googleapis.com%2Fauth%2Fdrive.photos.readonly%20https%3A%2F%2Fwww.googleapis.com%2Fauth%2Fpeopleapi.readonly&response_type=code\n",
            "\n",
            "Enter your authorization code:\n",
            "··········\n",
            "Mounted at /content/drive\n"
          ],
          "name": "stdout"
        }
      ]
    },
    {
      "metadata": {
        "id": "BYYGQ_TlWpQq",
        "colab_type": "code",
        "colab": {}
      },
      "cell_type": "code",
      "source": [
        "def load_df(csv_path, nrows=None):\n",
        "    JSON_COLUMNS = ['device', 'geoNetwork', 'totals', 'trafficSource']\n",
        "    \n",
        "    df = pd.read_csv(csv_path, \n",
        "                     converters={column: json.loads for column in JSON_COLUMNS}, \n",
        "                     dtype={'fullVisitorId': 'str'}, # Important!!\n",
        "                     nrows=nrows)\n",
        "    \n",
        "    for column in JSON_COLUMNS:\n",
        "        column_as_df = json_normalize(df[column].tolist())\n",
        "        column_as_df.columns = [f\"{column}.{subcolumn}\" for subcolumn in column_as_df.columns]\n",
        "        df = df.drop(column, axis=1).merge(column_as_df, right_index=True, left_index=True)\n",
        "    print(f\"Loaded {os.path.basename(csv_path)}. Shape: {df.shape}\")\n",
        "    return df"
      ],
      "execution_count": 0,
      "outputs": []
    },
    {
      "metadata": {
        "id": "wkl18ABZN7cB",
        "colab_type": "code",
        "outputId": "1f56f9c8-a841-4c7d-eba7-de71f927e109",
        "colab": {
          "base_uri": "https://localhost:8080/",
          "height": 121
        }
      },
      "cell_type": "code",
      "source": [
        "%%time\n",
        "train = load_df('../My Drive/train.csv')\n",
        "test = load_df('../My Drive/test.csv')\n",
        "\n",
        "print('train date:', min(train['date']), 'to', max(train['date']))\n",
        "print('test date:', min(test['date']), 'to', max(test['date']))"
      ],
      "execution_count": 0,
      "outputs": [
        {
          "output_type": "stream",
          "text": [
            "Loaded train.csv. Shape: (903653, 55)\n",
            "Loaded test.csv. Shape: (804684, 53)\n",
            "train date: 20160801 to 20170801\n",
            "test date: 20170802 to 20180430\n",
            "CPU times: user 2min 46s, sys: 14.4 s, total: 3min 1s\n",
            "Wall time: 3min 17s\n"
          ],
          "name": "stdout"
        }
      ]
    },
    {
      "metadata": {
        "id": "i4RGmY0KWPJK",
        "colab_type": "code",
        "outputId": "8b09423c-d7ea-44ec-d681-6931b4f4904e",
        "colab": {
          "base_uri": "https://localhost:8080/",
          "height": 338
        }
      },
      "cell_type": "code",
      "source": [
        "train.head()"
      ],
      "execution_count": 0,
      "outputs": [
        {
          "output_type": "execute_result",
          "data": {
            "text/html": [
              "<div>\n",
              "<style scoped>\n",
              "    .dataframe tbody tr th:only-of-type {\n",
              "        vertical-align: middle;\n",
              "    }\n",
              "\n",
              "    .dataframe tbody tr th {\n",
              "        vertical-align: top;\n",
              "    }\n",
              "\n",
              "    .dataframe thead th {\n",
              "        text-align: right;\n",
              "    }\n",
              "</style>\n",
              "<table border=\"1\" class=\"dataframe\">\n",
              "  <thead>\n",
              "    <tr style=\"text-align: right;\">\n",
              "      <th></th>\n",
              "      <th>channelGrouping</th>\n",
              "      <th>date</th>\n",
              "      <th>fullVisitorId</th>\n",
              "      <th>sessionId</th>\n",
              "      <th>socialEngagementType</th>\n",
              "      <th>visitId</th>\n",
              "      <th>visitNumber</th>\n",
              "      <th>visitStartTime</th>\n",
              "      <th>device.browser</th>\n",
              "      <th>device.browserSize</th>\n",
              "      <th>...</th>\n",
              "      <th>trafficSource.adwordsClickInfo.isVideoAd</th>\n",
              "      <th>trafficSource.adwordsClickInfo.page</th>\n",
              "      <th>trafficSource.adwordsClickInfo.slot</th>\n",
              "      <th>trafficSource.campaign</th>\n",
              "      <th>trafficSource.campaignCode</th>\n",
              "      <th>trafficSource.isTrueDirect</th>\n",
              "      <th>trafficSource.keyword</th>\n",
              "      <th>trafficSource.medium</th>\n",
              "      <th>trafficSource.referralPath</th>\n",
              "      <th>trafficSource.source</th>\n",
              "    </tr>\n",
              "  </thead>\n",
              "  <tbody>\n",
              "    <tr>\n",
              "      <th>0</th>\n",
              "      <td>Organic Search</td>\n",
              "      <td>20160902</td>\n",
              "      <td>1131660440785968503</td>\n",
              "      <td>1131660440785968503_1472830385</td>\n",
              "      <td>Not Socially Engaged</td>\n",
              "      <td>1472830385</td>\n",
              "      <td>1</td>\n",
              "      <td>1472830385</td>\n",
              "      <td>Chrome</td>\n",
              "      <td>not available in demo dataset</td>\n",
              "      <td>...</td>\n",
              "      <td>NaN</td>\n",
              "      <td>NaN</td>\n",
              "      <td>NaN</td>\n",
              "      <td>(not set)</td>\n",
              "      <td>NaN</td>\n",
              "      <td>NaN</td>\n",
              "      <td>(not provided)</td>\n",
              "      <td>organic</td>\n",
              "      <td>NaN</td>\n",
              "      <td>google</td>\n",
              "    </tr>\n",
              "    <tr>\n",
              "      <th>1</th>\n",
              "      <td>Organic Search</td>\n",
              "      <td>20160902</td>\n",
              "      <td>377306020877927890</td>\n",
              "      <td>377306020877927890_1472880147</td>\n",
              "      <td>Not Socially Engaged</td>\n",
              "      <td>1472880147</td>\n",
              "      <td>1</td>\n",
              "      <td>1472880147</td>\n",
              "      <td>Firefox</td>\n",
              "      <td>not available in demo dataset</td>\n",
              "      <td>...</td>\n",
              "      <td>NaN</td>\n",
              "      <td>NaN</td>\n",
              "      <td>NaN</td>\n",
              "      <td>(not set)</td>\n",
              "      <td>NaN</td>\n",
              "      <td>NaN</td>\n",
              "      <td>(not provided)</td>\n",
              "      <td>organic</td>\n",
              "      <td>NaN</td>\n",
              "      <td>google</td>\n",
              "    </tr>\n",
              "    <tr>\n",
              "      <th>2</th>\n",
              "      <td>Organic Search</td>\n",
              "      <td>20160902</td>\n",
              "      <td>3895546263509774583</td>\n",
              "      <td>3895546263509774583_1472865386</td>\n",
              "      <td>Not Socially Engaged</td>\n",
              "      <td>1472865386</td>\n",
              "      <td>1</td>\n",
              "      <td>1472865386</td>\n",
              "      <td>Chrome</td>\n",
              "      <td>not available in demo dataset</td>\n",
              "      <td>...</td>\n",
              "      <td>NaN</td>\n",
              "      <td>NaN</td>\n",
              "      <td>NaN</td>\n",
              "      <td>(not set)</td>\n",
              "      <td>NaN</td>\n",
              "      <td>NaN</td>\n",
              "      <td>(not provided)</td>\n",
              "      <td>organic</td>\n",
              "      <td>NaN</td>\n",
              "      <td>google</td>\n",
              "    </tr>\n",
              "    <tr>\n",
              "      <th>3</th>\n",
              "      <td>Organic Search</td>\n",
              "      <td>20160902</td>\n",
              "      <td>4763447161404445595</td>\n",
              "      <td>4763447161404445595_1472881213</td>\n",
              "      <td>Not Socially Engaged</td>\n",
              "      <td>1472881213</td>\n",
              "      <td>1</td>\n",
              "      <td>1472881213</td>\n",
              "      <td>UC Browser</td>\n",
              "      <td>not available in demo dataset</td>\n",
              "      <td>...</td>\n",
              "      <td>NaN</td>\n",
              "      <td>NaN</td>\n",
              "      <td>NaN</td>\n",
              "      <td>(not set)</td>\n",
              "      <td>NaN</td>\n",
              "      <td>NaN</td>\n",
              "      <td>google + online</td>\n",
              "      <td>organic</td>\n",
              "      <td>NaN</td>\n",
              "      <td>google</td>\n",
              "    </tr>\n",
              "    <tr>\n",
              "      <th>4</th>\n",
              "      <td>Organic Search</td>\n",
              "      <td>20160902</td>\n",
              "      <td>27294437909732085</td>\n",
              "      <td>27294437909732085_1472822600</td>\n",
              "      <td>Not Socially Engaged</td>\n",
              "      <td>1472822600</td>\n",
              "      <td>2</td>\n",
              "      <td>1472822600</td>\n",
              "      <td>Chrome</td>\n",
              "      <td>not available in demo dataset</td>\n",
              "      <td>...</td>\n",
              "      <td>NaN</td>\n",
              "      <td>NaN</td>\n",
              "      <td>NaN</td>\n",
              "      <td>(not set)</td>\n",
              "      <td>NaN</td>\n",
              "      <td>True</td>\n",
              "      <td>(not provided)</td>\n",
              "      <td>organic</td>\n",
              "      <td>NaN</td>\n",
              "      <td>google</td>\n",
              "    </tr>\n",
              "  </tbody>\n",
              "</table>\n",
              "<p>5 rows × 55 columns</p>\n",
              "</div>"
            ],
            "text/plain": [
              "  channelGrouping      date        fullVisitorId  \\\n",
              "0  Organic Search  20160902  1131660440785968503   \n",
              "1  Organic Search  20160902   377306020877927890   \n",
              "2  Organic Search  20160902  3895546263509774583   \n",
              "3  Organic Search  20160902  4763447161404445595   \n",
              "4  Organic Search  20160902    27294437909732085   \n",
              "\n",
              "                        sessionId  socialEngagementType     visitId  \\\n",
              "0  1131660440785968503_1472830385  Not Socially Engaged  1472830385   \n",
              "1   377306020877927890_1472880147  Not Socially Engaged  1472880147   \n",
              "2  3895546263509774583_1472865386  Not Socially Engaged  1472865386   \n",
              "3  4763447161404445595_1472881213  Not Socially Engaged  1472881213   \n",
              "4    27294437909732085_1472822600  Not Socially Engaged  1472822600   \n",
              "\n",
              "   visitNumber  visitStartTime device.browser             device.browserSize  \\\n",
              "0            1      1472830385         Chrome  not available in demo dataset   \n",
              "1            1      1472880147        Firefox  not available in demo dataset   \n",
              "2            1      1472865386         Chrome  not available in demo dataset   \n",
              "3            1      1472881213     UC Browser  not available in demo dataset   \n",
              "4            2      1472822600         Chrome  not available in demo dataset   \n",
              "\n",
              "          ...          trafficSource.adwordsClickInfo.isVideoAd  \\\n",
              "0         ...                                               NaN   \n",
              "1         ...                                               NaN   \n",
              "2         ...                                               NaN   \n",
              "3         ...                                               NaN   \n",
              "4         ...                                               NaN   \n",
              "\n",
              "  trafficSource.adwordsClickInfo.page trafficSource.adwordsClickInfo.slot  \\\n",
              "0                                 NaN                                 NaN   \n",
              "1                                 NaN                                 NaN   \n",
              "2                                 NaN                                 NaN   \n",
              "3                                 NaN                                 NaN   \n",
              "4                                 NaN                                 NaN   \n",
              "\n",
              "   trafficSource.campaign trafficSource.campaignCode  \\\n",
              "0               (not set)                        NaN   \n",
              "1               (not set)                        NaN   \n",
              "2               (not set)                        NaN   \n",
              "3               (not set)                        NaN   \n",
              "4               (not set)                        NaN   \n",
              "\n",
              "  trafficSource.isTrueDirect trafficSource.keyword trafficSource.medium  \\\n",
              "0                        NaN        (not provided)              organic   \n",
              "1                        NaN        (not provided)              organic   \n",
              "2                        NaN        (not provided)              organic   \n",
              "3                        NaN       google + online              organic   \n",
              "4                       True        (not provided)              organic   \n",
              "\n",
              "  trafficSource.referralPath trafficSource.source  \n",
              "0                        NaN               google  \n",
              "1                        NaN               google  \n",
              "2                        NaN               google  \n",
              "3                        NaN               google  \n",
              "4                        NaN               google  \n",
              "\n",
              "[5 rows x 55 columns]"
            ]
          },
          "metadata": {
            "tags": []
          },
          "execution_count": 6
        }
      ]
    },
    {
      "metadata": {
        "id": "n1UDcRzjN-G2",
        "colab_type": "code",
        "outputId": "76b7600f-6656-4d47-bde1-b9b320c3945e",
        "colab": {
          "base_uri": "https://localhost:8080/",
          "height": 52
        }
      },
      "cell_type": "code",
      "source": [
        "# only train feature\n",
        "for c in train.columns.values:\n",
        "    if c not in test.columns.values: print(c)"
      ],
      "execution_count": 0,
      "outputs": [
        {
          "output_type": "stream",
          "text": [
            "totals.transactionRevenue\n",
            "trafficSource.campaignCode\n"
          ],
          "name": "stdout"
        }
      ]
    },
    {
      "metadata": {
        "id": "pc6FGY92OdeU",
        "colab_type": "code",
        "outputId": "45ce8aa4-9084-41b3-cabc-eccc3f6372e3",
        "colab": {
          "base_uri": "https://localhost:8080/",
          "height": 173
        }
      },
      "cell_type": "code",
      "source": [
        "train['totals.transactionRevenue'].fillna(0, inplace=True)\n",
        "train['totals.transactionRevenue'] = np.log1p(train['totals.transactionRevenue'].astype(float))\n",
        "print(train['totals.transactionRevenue'].describe())"
      ],
      "execution_count": 0,
      "outputs": [
        {
          "output_type": "stream",
          "text": [
            "count    903653.000000\n",
            "mean          0.227118\n",
            "std           2.003710\n",
            "min           0.000000\n",
            "25%           0.000000\n",
            "50%           0.000000\n",
            "75%           0.000000\n",
            "max          23.864375\n",
            "Name: totals.transactionRevenue, dtype: float64\n"
          ],
          "name": "stdout"
        }
      ]
    },
    {
      "metadata": {
        "id": "BY4k_Z3iOfcQ",
        "colab_type": "code",
        "outputId": "fddc3a0a-2d4c-4b81-fbd9-54d9e766fd0d",
        "colab": {
          "base_uri": "https://localhost:8080/",
          "height": 1075
        }
      },
      "cell_type": "code",
      "source": [
        "all_data = train.append(test).reset_index(drop=True) #, sort = False\n",
        "print(all_data.info())"
      ],
      "execution_count": 0,
      "outputs": [
        {
          "output_type": "stream",
          "text": [
            "<class 'pandas.core.frame.DataFrame'>\n",
            "RangeIndex: 1708337 entries, 0 to 1708336\n",
            "Data columns (total 55 columns):\n",
            "channelGrouping                                      object\n",
            "date                                                 int64\n",
            "device.browser                                       object\n",
            "device.browserSize                                   object\n",
            "device.browserVersion                                object\n",
            "device.deviceCategory                                object\n",
            "device.flashVersion                                  object\n",
            "device.isMobile                                      bool\n",
            "device.language                                      object\n",
            "device.mobileDeviceBranding                          object\n",
            "device.mobileDeviceInfo                              object\n",
            "device.mobileDeviceMarketingName                     object\n",
            "device.mobileDeviceModel                             object\n",
            "device.mobileInputSelector                           object\n",
            "device.operatingSystem                               object\n",
            "device.operatingSystemVersion                        object\n",
            "device.screenColors                                  object\n",
            "device.screenResolution                              object\n",
            "fullVisitorId                                        object\n",
            "geoNetwork.city                                      object\n",
            "geoNetwork.cityId                                    object\n",
            "geoNetwork.continent                                 object\n",
            "geoNetwork.country                                   object\n",
            "geoNetwork.latitude                                  object\n",
            "geoNetwork.longitude                                 object\n",
            "geoNetwork.metro                                     object\n",
            "geoNetwork.networkDomain                             object\n",
            "geoNetwork.networkLocation                           object\n",
            "geoNetwork.region                                    object\n",
            "geoNetwork.subContinent                              object\n",
            "sessionId                                            object\n",
            "socialEngagementType                                 object\n",
            "totals.bounces                                       object\n",
            "totals.hits                                          object\n",
            "totals.newVisits                                     object\n",
            "totals.pageviews                                     object\n",
            "totals.transactionRevenue                            float64\n",
            "totals.visits                                        object\n",
            "trafficSource.adContent                              object\n",
            "trafficSource.adwordsClickInfo.adNetworkType         object\n",
            "trafficSource.adwordsClickInfo.criteriaParameters    object\n",
            "trafficSource.adwordsClickInfo.gclId                 object\n",
            "trafficSource.adwordsClickInfo.isVideoAd             object\n",
            "trafficSource.adwordsClickInfo.page                  object\n",
            "trafficSource.adwordsClickInfo.slot                  object\n",
            "trafficSource.campaign                               object\n",
            "trafficSource.campaignCode                           object\n",
            "trafficSource.isTrueDirect                           object\n",
            "trafficSource.keyword                                object\n",
            "trafficSource.medium                                 object\n",
            "trafficSource.referralPath                           object\n",
            "trafficSource.source                                 object\n",
            "visitId                                              int64\n",
            "visitNumber                                          int64\n",
            "visitStartTime                                       int64\n",
            "dtypes: bool(1), float64(1), int64(4), object(49)\n",
            "memory usage: 705.4+ MB\n",
            "None\n"
          ],
          "name": "stdout"
        }
      ]
    },
    {
      "metadata": {
        "id": "jZhSUG9JOj2p",
        "colab_type": "code",
        "outputId": "83e0c7eb-853d-44e6-da91-202ec006d299",
        "colab": {
          "base_uri": "https://localhost:8080/",
          "height": 260
        }
      },
      "cell_type": "code",
      "source": [
        "null_cnt = train.isnull().sum().sort_values()\n",
        "print(null_cnt[null_cnt > 0])"
      ],
      "execution_count": 0,
      "outputs": [
        {
          "output_type": "stream",
          "text": [
            "totals.pageviews                                   100\n",
            "totals.newVisits                                200593\n",
            "totals.bounces                                  453023\n",
            "trafficSource.keyword                           502929\n",
            "trafficSource.referralPath                      572712\n",
            "trafficSource.isTrueDirect                      629648\n",
            "trafficSource.adwordsClickInfo.gclId            882092\n",
            "trafficSource.adwordsClickInfo.adNetworkType    882193\n",
            "trafficSource.adwordsClickInfo.isVideoAd        882193\n",
            "trafficSource.adwordsClickInfo.page             882193\n",
            "trafficSource.adwordsClickInfo.slot             882193\n",
            "trafficSource.adContent                         892707\n",
            "trafficSource.campaignCode                      903652\n",
            "dtype: int64\n"
          ],
          "name": "stdout"
        }
      ]
    },
    {
      "metadata": {
        "id": "SZnShrBPOklf",
        "colab_type": "code",
        "colab": {}
      },
      "cell_type": "code",
      "source": [
        "# fillna object feature\n",
        "for col in ['trafficSource.keyword',\n",
        "            'trafficSource.referralPath',\n",
        "            'trafficSource.adwordsClickInfo.gclId',\n",
        "            'trafficSource.adwordsClickInfo.adNetworkType',\n",
        "            'trafficSource.adwordsClickInfo.isVideoAd',\n",
        "            'trafficSource.adwordsClickInfo.page',\n",
        "            'trafficSource.adwordsClickInfo.slot',\n",
        "            'trafficSource.adContent']:\n",
        "    all_data[col].fillna('unknown', inplace=True)\n",
        "\n",
        "# fillna numeric feature\n",
        "all_data['totals.pageviews'].fillna(1, inplace=True)\n",
        "all_data['totals.newVisits'].fillna(0, inplace=True)\n",
        "all_data['totals.bounces'].fillna(0, inplace=True)\n",
        "all_data['totals.pageviews'] = all_data['totals.pageviews'].astype(int)\n",
        "all_data['totals.newVisits'] = all_data['totals.newVisits'].astype(int)\n",
        "all_data['totals.bounces'] = all_data['totals.bounces'].astype(int)\n",
        "\n",
        "# fillna boolean feature\n",
        "all_data['trafficSource.isTrueDirect'].fillna(False, inplace=True)"
      ],
      "execution_count": 0,
      "outputs": []
    },
    {
      "metadata": {
        "id": "EwJ-d8XHOuB2",
        "colab_type": "code",
        "outputId": "ca655971-dd02-4717-c449-aecefe82aca6",
        "colab": {
          "base_uri": "https://localhost:8080/",
          "height": 55
        }
      },
      "cell_type": "code",
      "source": [
        "# drop constant column\n",
        "constant_column = [col for col in all_data.columns if all_data[col].nunique() == 1]\n",
        "#for c in constant_column:\n",
        "#    print(c + ':', train[c].unique())\n",
        "\n",
        "print('drop columns:', constant_column)\n",
        "all_data.drop(constant_column, axis=1, inplace=True)"
      ],
      "execution_count": 0,
      "outputs": [
        {
          "output_type": "stream",
          "text": [
            "drop columns: ['device.browserSize', 'device.browserVersion', 'device.flashVersion', 'device.language', 'device.mobileDeviceBranding', 'device.mobileDeviceInfo', 'device.mobileDeviceMarketingName', 'device.mobileDeviceModel', 'device.mobileInputSelector', 'device.operatingSystemVersion', 'device.screenColors', 'device.screenResolution', 'geoNetwork.cityId', 'geoNetwork.latitude', 'geoNetwork.longitude', 'geoNetwork.networkLocation', 'socialEngagementType', 'totals.visits', 'trafficSource.adwordsClickInfo.criteriaParameters', 'trafficSource.campaignCode']\n"
          ],
          "name": "stdout"
        }
      ]
    },
    {
      "metadata": {
        "id": "hDJZSUrEOwQZ",
        "colab_type": "code",
        "outputId": "32226d8c-c085-45f5-c215-e37cfda41d13",
        "colab": {
          "base_uri": "https://localhost:8080/",
          "height": 662
        }
      },
      "cell_type": "code",
      "source": [
        "# pickup any visitor\n",
        "all_data[all_data['fullVisitorId'] == '7813149961404844386'].sort_values(by='visitNumber')[\n",
        "    ['date','visitId','visitNumber','totals.hits','totals.pageviews']].head(20)"
      ],
      "execution_count": 0,
      "outputs": [
        {
          "output_type": "execute_result",
          "data": {
            "text/html": [
              "<div>\n",
              "<style scoped>\n",
              "    .dataframe tbody tr th:only-of-type {\n",
              "        vertical-align: middle;\n",
              "    }\n",
              "\n",
              "    .dataframe tbody tr th {\n",
              "        vertical-align: top;\n",
              "    }\n",
              "\n",
              "    .dataframe thead th {\n",
              "        text-align: right;\n",
              "    }\n",
              "</style>\n",
              "<table border=\"1\" class=\"dataframe\">\n",
              "  <thead>\n",
              "    <tr style=\"text-align: right;\">\n",
              "      <th></th>\n",
              "      <th>date</th>\n",
              "      <th>visitId</th>\n",
              "      <th>visitNumber</th>\n",
              "      <th>totals.hits</th>\n",
              "      <th>totals.pageviews</th>\n",
              "    </tr>\n",
              "  </thead>\n",
              "  <tbody>\n",
              "    <tr>\n",
              "      <th>174824</th>\n",
              "      <td>20161117</td>\n",
              "      <td>1479408977</td>\n",
              "      <td>1</td>\n",
              "      <td>37</td>\n",
              "      <td>33</td>\n",
              "    </tr>\n",
              "    <tr>\n",
              "      <th>20708</th>\n",
              "      <td>20161118</td>\n",
              "      <td>1479496350</td>\n",
              "      <td>2</td>\n",
              "      <td>2</td>\n",
              "      <td>2</td>\n",
              "    </tr>\n",
              "    <tr>\n",
              "      <th>21246</th>\n",
              "      <td>20161118</td>\n",
              "      <td>1479507825</td>\n",
              "      <td>3</td>\n",
              "      <td>14</td>\n",
              "      <td>12</td>\n",
              "    </tr>\n",
              "    <tr>\n",
              "      <th>191751</th>\n",
              "      <td>20161122</td>\n",
              "      <td>1479831970</td>\n",
              "      <td>4</td>\n",
              "      <td>3</td>\n",
              "      <td>3</td>\n",
              "    </tr>\n",
              "    <tr>\n",
              "      <th>191883</th>\n",
              "      <td>20161122</td>\n",
              "      <td>1479842287</td>\n",
              "      <td>5</td>\n",
              "      <td>4</td>\n",
              "      <td>4</td>\n",
              "    </tr>\n",
              "    <tr>\n",
              "      <th>294426</th>\n",
              "      <td>20161202</td>\n",
              "      <td>1480691778</td>\n",
              "      <td>13</td>\n",
              "      <td>1</td>\n",
              "      <td>1</td>\n",
              "    </tr>\n",
              "    <tr>\n",
              "      <th>655608</th>\n",
              "      <td>20161206</td>\n",
              "      <td>1481036817</td>\n",
              "      <td>14</td>\n",
              "      <td>12</td>\n",
              "      <td>10</td>\n",
              "    </tr>\n",
              "    <tr>\n",
              "      <th>656641</th>\n",
              "      <td>20161206</td>\n",
              "      <td>1481040342</td>\n",
              "      <td>15</td>\n",
              "      <td>1</td>\n",
              "      <td>1</td>\n",
              "    </tr>\n",
              "    <tr>\n",
              "      <th>655799</th>\n",
              "      <td>20161206</td>\n",
              "      <td>1481061263</td>\n",
              "      <td>16</td>\n",
              "      <td>28</td>\n",
              "      <td>19</td>\n",
              "    </tr>\n",
              "    <tr>\n",
              "      <th>655801</th>\n",
              "      <td>20161206</td>\n",
              "      <td>1481065071</td>\n",
              "      <td>17</td>\n",
              "      <td>28</td>\n",
              "      <td>26</td>\n",
              "    </tr>\n",
              "    <tr>\n",
              "      <th>69023</th>\n",
              "      <td>20161209</td>\n",
              "      <td>1481296334</td>\n",
              "      <td>20</td>\n",
              "      <td>2</td>\n",
              "      <td>2</td>\n",
              "    </tr>\n",
              "    <tr>\n",
              "      <th>69657</th>\n",
              "      <td>20161209</td>\n",
              "      <td>1481302820</td>\n",
              "      <td>21</td>\n",
              "      <td>6</td>\n",
              "      <td>6</td>\n",
              "    </tr>\n",
              "    <tr>\n",
              "      <th>69020</th>\n",
              "      <td>20161209</td>\n",
              "      <td>1481305812</td>\n",
              "      <td>22</td>\n",
              "      <td>2</td>\n",
              "      <td>2</td>\n",
              "    </tr>\n",
              "    <tr>\n",
              "      <th>69022</th>\n",
              "      <td>20161209</td>\n",
              "      <td>1481308967</td>\n",
              "      <td>23</td>\n",
              "      <td>2</td>\n",
              "      <td>2</td>\n",
              "    </tr>\n",
              "    <tr>\n",
              "      <th>69273</th>\n",
              "      <td>20161209</td>\n",
              "      <td>1481311109</td>\n",
              "      <td>24</td>\n",
              "      <td>3</td>\n",
              "      <td>3</td>\n",
              "    </tr>\n",
              "    <tr>\n",
              "      <th>628791</th>\n",
              "      <td>20161212</td>\n",
              "      <td>1481563972</td>\n",
              "      <td>25</td>\n",
              "      <td>3</td>\n",
              "      <td>3</td>\n",
              "    </tr>\n",
              "    <tr>\n",
              "      <th>793726</th>\n",
              "      <td>20161214</td>\n",
              "      <td>1481747552</td>\n",
              "      <td>26</td>\n",
              "      <td>25</td>\n",
              "      <td>17</td>\n",
              "    </tr>\n",
              "    <tr>\n",
              "      <th>420329</th>\n",
              "      <td>20170109</td>\n",
              "      <td>1483974128</td>\n",
              "      <td>28</td>\n",
              "      <td>1</td>\n",
              "      <td>1</td>\n",
              "    </tr>\n",
              "    <tr>\n",
              "      <th>481646</th>\n",
              "      <td>20170110</td>\n",
              "      <td>1484075970</td>\n",
              "      <td>29</td>\n",
              "      <td>10</td>\n",
              "      <td>10</td>\n",
              "    </tr>\n",
              "    <tr>\n",
              "      <th>48460</th>\n",
              "      <td>20170111</td>\n",
              "      <td>1484170311</td>\n",
              "      <td>30</td>\n",
              "      <td>16</td>\n",
              "      <td>13</td>\n",
              "    </tr>\n",
              "  </tbody>\n",
              "</table>\n",
              "</div>"
            ],
            "text/plain": [
              "            date     visitId  visitNumber totals.hits  totals.pageviews\n",
              "174824  20161117  1479408977            1          37                33\n",
              "20708   20161118  1479496350            2           2                 2\n",
              "21246   20161118  1479507825            3          14                12\n",
              "191751  20161122  1479831970            4           3                 3\n",
              "191883  20161122  1479842287            5           4                 4\n",
              "294426  20161202  1480691778           13           1                 1\n",
              "655608  20161206  1481036817           14          12                10\n",
              "656641  20161206  1481040342           15           1                 1\n",
              "655799  20161206  1481061263           16          28                19\n",
              "655801  20161206  1481065071           17          28                26\n",
              "69023   20161209  1481296334           20           2                 2\n",
              "69657   20161209  1481302820           21           6                 6\n",
              "69020   20161209  1481305812           22           2                 2\n",
              "69022   20161209  1481308967           23           2                 2\n",
              "69273   20161209  1481311109           24           3                 3\n",
              "628791  20161212  1481563972           25           3                 3\n",
              "793726  20161214  1481747552           26          25                17\n",
              "420329  20170109  1483974128           28           1                 1\n",
              "481646  20170110  1484075970           29          10                10\n",
              "48460   20170111  1484170311           30          16                13"
            ]
          },
          "metadata": {
            "tags": []
          },
          "execution_count": 13
        }
      ]
    },
    {
      "metadata": {
        "id": "OMRMWDULOymn",
        "colab_type": "code",
        "outputId": "17fddf55-c5d9-40fc-c6df-ba504babba75",
        "colab": {
          "base_uri": "https://localhost:8080/",
          "height": 286
        }
      },
      "cell_type": "code",
      "source": [
        "train_rev = all_data[all_data['totals.transactionRevenue'] > 0].copy()\n",
        "print(len(train_rev))\n",
        "train_rev.head()"
      ],
      "execution_count": 0,
      "outputs": [
        {
          "output_type": "stream",
          "text": [
            "11515\n"
          ],
          "name": "stdout"
        },
        {
          "output_type": "execute_result",
          "data": {
            "text/html": [
              "<div>\n",
              "<style scoped>\n",
              "    .dataframe tbody tr th:only-of-type {\n",
              "        vertical-align: middle;\n",
              "    }\n",
              "\n",
              "    .dataframe tbody tr th {\n",
              "        vertical-align: top;\n",
              "    }\n",
              "\n",
              "    .dataframe thead th {\n",
              "        text-align: right;\n",
              "    }\n",
              "</style>\n",
              "<table border=\"1\" class=\"dataframe\">\n",
              "  <thead>\n",
              "    <tr style=\"text-align: right;\">\n",
              "      <th></th>\n",
              "      <th>channelGrouping</th>\n",
              "      <th>date</th>\n",
              "      <th>device.browser</th>\n",
              "      <th>device.deviceCategory</th>\n",
              "      <th>device.isMobile</th>\n",
              "      <th>device.operatingSystem</th>\n",
              "      <th>fullVisitorId</th>\n",
              "      <th>geoNetwork.city</th>\n",
              "      <th>geoNetwork.continent</th>\n",
              "      <th>geoNetwork.country</th>\n",
              "      <th>...</th>\n",
              "      <th>trafficSource.adwordsClickInfo.slot</th>\n",
              "      <th>trafficSource.campaign</th>\n",
              "      <th>trafficSource.isTrueDirect</th>\n",
              "      <th>trafficSource.keyword</th>\n",
              "      <th>trafficSource.medium</th>\n",
              "      <th>trafficSource.referralPath</th>\n",
              "      <th>trafficSource.source</th>\n",
              "      <th>visitId</th>\n",
              "      <th>visitNumber</th>\n",
              "      <th>visitStartTime</th>\n",
              "    </tr>\n",
              "  </thead>\n",
              "  <tbody>\n",
              "    <tr>\n",
              "      <th>752</th>\n",
              "      <td>Direct</td>\n",
              "      <td>20160902</td>\n",
              "      <td>Chrome</td>\n",
              "      <td>desktop</td>\n",
              "      <td>False</td>\n",
              "      <td>Linux</td>\n",
              "      <td>6194193421514403509</td>\n",
              "      <td>Ann Arbor</td>\n",
              "      <td>Americas</td>\n",
              "      <td>United States</td>\n",
              "      <td>...</td>\n",
              "      <td>unknown</td>\n",
              "      <td>(not set)</td>\n",
              "      <td>True</td>\n",
              "      <td>unknown</td>\n",
              "      <td>(none)</td>\n",
              "      <td>unknown</td>\n",
              "      <td>(direct)</td>\n",
              "      <td>1472843572</td>\n",
              "      <td>1</td>\n",
              "      <td>1472843572</td>\n",
              "    </tr>\n",
              "    <tr>\n",
              "      <th>753</th>\n",
              "      <td>Organic Search</td>\n",
              "      <td>20160902</td>\n",
              "      <td>Chrome</td>\n",
              "      <td>desktop</td>\n",
              "      <td>False</td>\n",
              "      <td>Macintosh</td>\n",
              "      <td>5327166854580374902</td>\n",
              "      <td>New York</td>\n",
              "      <td>Americas</td>\n",
              "      <td>United States</td>\n",
              "      <td>...</td>\n",
              "      <td>unknown</td>\n",
              "      <td>(not set)</td>\n",
              "      <td>True</td>\n",
              "      <td>(not provided)</td>\n",
              "      <td>organic</td>\n",
              "      <td>unknown</td>\n",
              "      <td>google</td>\n",
              "      <td>1472844906</td>\n",
              "      <td>3</td>\n",
              "      <td>1472844906</td>\n",
              "    </tr>\n",
              "    <tr>\n",
              "      <th>799</th>\n",
              "      <td>Referral</td>\n",
              "      <td>20160902</td>\n",
              "      <td>Chrome</td>\n",
              "      <td>desktop</td>\n",
              "      <td>False</td>\n",
              "      <td>Linux</td>\n",
              "      <td>8885051388942907862</td>\n",
              "      <td>New York</td>\n",
              "      <td>Americas</td>\n",
              "      <td>United States</td>\n",
              "      <td>...</td>\n",
              "      <td>unknown</td>\n",
              "      <td>(not set)</td>\n",
              "      <td>True</td>\n",
              "      <td>unknown</td>\n",
              "      <td>referral</td>\n",
              "      <td>/</td>\n",
              "      <td>mall.googleplex.com</td>\n",
              "      <td>1472827393</td>\n",
              "      <td>7</td>\n",
              "      <td>1472827393</td>\n",
              "    </tr>\n",
              "    <tr>\n",
              "      <th>802</th>\n",
              "      <td>Referral</td>\n",
              "      <td>20160902</td>\n",
              "      <td>Chrome</td>\n",
              "      <td>desktop</td>\n",
              "      <td>False</td>\n",
              "      <td>Windows</td>\n",
              "      <td>0185467632009737931</td>\n",
              "      <td>Mountain View</td>\n",
              "      <td>Americas</td>\n",
              "      <td>United States</td>\n",
              "      <td>...</td>\n",
              "      <td>unknown</td>\n",
              "      <td>(not set)</td>\n",
              "      <td>True</td>\n",
              "      <td>unknown</td>\n",
              "      <td>referral</td>\n",
              "      <td>/</td>\n",
              "      <td>mall.googleplex.com</td>\n",
              "      <td>1472846398</td>\n",
              "      <td>6</td>\n",
              "      <td>1472846398</td>\n",
              "    </tr>\n",
              "    <tr>\n",
              "      <th>859</th>\n",
              "      <td>Referral</td>\n",
              "      <td>20160902</td>\n",
              "      <td>Chrome</td>\n",
              "      <td>desktop</td>\n",
              "      <td>False</td>\n",
              "      <td>Macintosh</td>\n",
              "      <td>3244885836845029978</td>\n",
              "      <td>not available in demo dataset</td>\n",
              "      <td>Americas</td>\n",
              "      <td>United States</td>\n",
              "      <td>...</td>\n",
              "      <td>unknown</td>\n",
              "      <td>(not set)</td>\n",
              "      <td>True</td>\n",
              "      <td>unknown</td>\n",
              "      <td>referral</td>\n",
              "      <td>/</td>\n",
              "      <td>mall.googleplex.com</td>\n",
              "      <td>1472824817</td>\n",
              "      <td>4</td>\n",
              "      <td>1472824817</td>\n",
              "    </tr>\n",
              "  </tbody>\n",
              "</table>\n",
              "<p>5 rows × 35 columns</p>\n",
              "</div>"
            ],
            "text/plain": [
              "    channelGrouping      date device.browser device.deviceCategory  \\\n",
              "752          Direct  20160902         Chrome               desktop   \n",
              "753  Organic Search  20160902         Chrome               desktop   \n",
              "799        Referral  20160902         Chrome               desktop   \n",
              "802        Referral  20160902         Chrome               desktop   \n",
              "859        Referral  20160902         Chrome               desktop   \n",
              "\n",
              "     device.isMobile device.operatingSystem        fullVisitorId  \\\n",
              "752            False                  Linux  6194193421514403509   \n",
              "753            False              Macintosh  5327166854580374902   \n",
              "799            False                  Linux  8885051388942907862   \n",
              "802            False                Windows  0185467632009737931   \n",
              "859            False              Macintosh  3244885836845029978   \n",
              "\n",
              "                   geoNetwork.city geoNetwork.continent geoNetwork.country  \\\n",
              "752                      Ann Arbor             Americas      United States   \n",
              "753                       New York             Americas      United States   \n",
              "799                       New York             Americas      United States   \n",
              "802                  Mountain View             Americas      United States   \n",
              "859  not available in demo dataset             Americas      United States   \n",
              "\n",
              "          ...       trafficSource.adwordsClickInfo.slot  \\\n",
              "752       ...                                   unknown   \n",
              "753       ...                                   unknown   \n",
              "799       ...                                   unknown   \n",
              "802       ...                                   unknown   \n",
              "859       ...                                   unknown   \n",
              "\n",
              "    trafficSource.campaign trafficSource.isTrueDirect trafficSource.keyword  \\\n",
              "752              (not set)                       True               unknown   \n",
              "753              (not set)                       True        (not provided)   \n",
              "799              (not set)                       True               unknown   \n",
              "802              (not set)                       True               unknown   \n",
              "859              (not set)                       True               unknown   \n",
              "\n",
              "    trafficSource.medium  trafficSource.referralPath trafficSource.source  \\\n",
              "752               (none)                     unknown             (direct)   \n",
              "753              organic                     unknown               google   \n",
              "799             referral                           /  mall.googleplex.com   \n",
              "802             referral                           /  mall.googleplex.com   \n",
              "859             referral                           /  mall.googleplex.com   \n",
              "\n",
              "        visitId  visitNumber  visitStartTime  \n",
              "752  1472843572            1      1472843572  \n",
              "753  1472844906            3      1472844906  \n",
              "799  1472827393            7      1472827393  \n",
              "802  1472846398            6      1472846398  \n",
              "859  1472824817            4      1472824817  \n",
              "\n",
              "[5 rows x 35 columns]"
            ]
          },
          "metadata": {
            "tags": []
          },
          "execution_count": 14
        }
      ]
    },
    {
      "metadata": {
        "id": "U33KtPhcO0qy",
        "colab_type": "code",
        "colab": {}
      },
      "cell_type": "code",
      "source": [
        "def plotCategoryRateBar(a, b, colName, topN=np.nan):\n",
        "    if topN == topN: # isNotNan\n",
        "        vals = b[colName].value_counts()[:topN]\n",
        "        subA = a.loc[a[colName].isin(vals.index.values), colName]\n",
        "        df = pd.DataFrame({'All':subA.value_counts() / len(a), 'Revenue':vals / len(b)})\n",
        "    else:\n",
        "        df = pd.DataFrame({'All':a[colName].value_counts() / len(a), 'Revenue':b[colName].value_counts() / len(b)})\n",
        "    df.sort_values('Revenue').plot.barh()"
      ],
      "execution_count": 0,
      "outputs": []
    },
    {
      "metadata": {
        "id": "gDPuyWE6O35a",
        "colab_type": "code",
        "colab": {}
      },
      "cell_type": "code",
      "source": [
        "format_str = '%Y%m%d'\n",
        "all_data['formated_date'] = all_data['date'].apply(lambda x: datetime.strptime(str(x), format_str))\n",
        "all_data['_year'] = all_data['formated_date'].apply(lambda x:x.year)\n",
        "all_data['_month'] = all_data['formated_date'].apply(lambda x:x.month)\n",
        "all_data['_quarterMonth'] = all_data['formated_date'].apply(lambda x:x.day//8)\n",
        "all_data['_day'] = all_data['formated_date'].apply(lambda x:x.day)\n",
        "all_data['_weekday'] = all_data['formated_date'].apply(lambda x:x.weekday())\n",
        "# remember these features were equal, but not always? May be it means something...\n",
        "all_data[\"_id_incoherence\"] = pd.to_datetime(all_data['visitId'], unit='s') != all_data['formated_date']\n",
        "\n",
        "all_data.drop(['date','formated_date'], axis=1, inplace=True)"
      ],
      "execution_count": 0,
      "outputs": []
    },
    {
      "metadata": {
        "id": "JoEzlwWWO5ls",
        "colab_type": "code",
        "outputId": "062812e3-099c-4c20-c965-9ba63ca7618e",
        "colab": {
          "base_uri": "https://localhost:8080/",
          "height": 347
        }
      },
      "cell_type": "code",
      "source": [
        "plotCategoryRateBar(all_data, train_rev, 'channelGrouping')"
      ],
      "execution_count": 0,
      "outputs": [
        {
          "output_type": "display_data",
          "data": {
            "image/png": "[encoded data removed]",
            "text/plain": [
              "<matplotlib.figure.Figure at 0x7fcce427fc18>"
            ]
          },
          "metadata": {
            "tags": []
          }
        }
      ]
    },
    {
      "metadata": {
        "id": "uwpcTaXtO8_p",
        "colab_type": "code",
        "outputId": "96b47c03-aff1-411b-8ef6-9516e8425254",
        "colab": {
          "base_uri": "https://localhost:8080/",
          "height": 139
        }
      },
      "cell_type": "code",
      "source": [
        "print('train all:', len(train))\n",
        "print('train unique fullVisitorId:', train['fullVisitorId'].nunique())\n",
        "print('train unique visitId:', train['visitId'].nunique())\n",
        "print('-' * 30)\n",
        "print('test all:', len(test))\n",
        "print('test unique fullVisitorId:', test['fullVisitorId'].nunique())\n",
        "print('test unique visitId:', test['visitId'].nunique())\n",
        "\n",
        "#print('common fullVisitorId:', len(pd.merge(train, test, how='inner', on='fullVisitorId'))) # 183434"
      ],
      "execution_count": 0,
      "outputs": [
        {
          "output_type": "stream",
          "text": [
            "train all: 903653\n",
            "train unique fullVisitorId: 714167\n",
            "train unique visitId: 886303\n",
            "------------------------------\n",
            "test all: 804684\n",
            "test unique fullVisitorId: 617242\n",
            "test unique visitId: 779504\n"
          ],
          "name": "stdout"
        }
      ]
    },
    {
      "metadata": {
        "id": "XQFRm_SnO_fM",
        "colab_type": "code",
        "outputId": "739bf048-189d-4e3f-fdb5-d2fd7bb59151",
        "colab": {
          "base_uri": "https://localhost:8080/",
          "height": 260
        }
      },
      "cell_type": "code",
      "source": [
        "print(all_data['visitNumber'].value_counts()[:5])\n",
        "print('-' * 30)\n",
        "print(all_data['totals.newVisits'].value_counts())\n",
        "print('-' * 30)\n",
        "print(all_data['totals.bounces'].value_counts())"
      ],
      "execution_count": 0,
      "outputs": [
        {
          "output_type": "stream",
          "text": [
            "1    1307430\n",
            "2     182542\n",
            "3      70962\n",
            "4      37886\n",
            "5      23314\n",
            "Name: visitNumber, dtype: int64\n",
            "------------------------------\n",
            "1    1307430\n",
            "0     400907\n",
            "Name: totals.newVisits, dtype: int64\n",
            "------------------------------\n",
            "1    871578\n",
            "0    836759\n",
            "Name: totals.bounces, dtype: int64\n"
          ],
          "name": "stdout"
        }
      ]
    },
    {
      "metadata": {
        "id": "cDAuEFItPCTU",
        "colab_type": "code",
        "colab": {}
      },
      "cell_type": "code",
      "source": [
        "all_data['_visitStartHour'] = all_data['visitStartTime'].apply(\n",
        "    lambda x: str(datetime.fromtimestamp(x).hour))"
      ],
      "execution_count": 0,
      "outputs": []
    },
    {
      "metadata": {
        "id": "oJcOG5mIPFMy",
        "colab_type": "code",
        "outputId": "b872daca-42c7-46f5-bd30-7901021700af",
        "colab": {
          "base_uri": "https://localhost:8080/",
          "height": 52
        }
      },
      "cell_type": "code",
      "source": [
        "print('train all sessionId:', len(train['sessionId']))\n",
        "print('train unique sessionId:', train['sessionId'].nunique())"
      ],
      "execution_count": 0,
      "outputs": [
        {
          "output_type": "stream",
          "text": [
            "train all sessionId: 903653\n",
            "train unique sessionId: 902755\n"
          ],
          "name": "stdout"
        }
      ]
    },
    {
      "metadata": {
        "id": "cxHa0-r6PHFl",
        "colab_type": "code",
        "outputId": "1bb076d1-c63a-449e-d0ad-7d334d0445c3",
        "colab": {
          "base_uri": "https://localhost:8080/",
          "height": 365
        }
      },
      "cell_type": "code",
      "source": [
        "print('unique browser count:', train['device.browser'].nunique())\n",
        "plotCategoryRateBar(all_data, train_rev, 'device.browser', 10)"
      ],
      "execution_count": 0,
      "outputs": [
        {
          "output_type": "stream",
          "text": [
            "unique browser count: 54\n"
          ],
          "name": "stdout"
        },
        {
          "output_type": "display_data",
          "data": {
            "image/png": "[encoded data removed]",
            "text/plain": [
              "<matplotlib.figure.Figure at 0x7fcbbe444f60>"
            ]
          },
          "metadata": {
            "tags": []
          }
        }
      ]
    },
    {
      "metadata": {
        "id": "Pc7rAkxfPJ4r",
        "colab_type": "code",
        "outputId": "d0336ed2-7d3b-4baf-f7be-392738c16f03",
        "colab": {
          "base_uri": "https://localhost:8080/",
          "height": 171
        }
      },
      "cell_type": "code",
      "source": [
        "pd.crosstab(all_data['device.deviceCategory'], all_data['device.isMobile'], margins=False)"
      ],
      "execution_count": 0,
      "outputs": [
        {
          "output_type": "execute_result",
          "data": {
            "text/html": [
              "<div>\n",
              "<style scoped>\n",
              "    .dataframe tbody tr th:only-of-type {\n",
              "        vertical-align: middle;\n",
              "    }\n",
              "\n",
              "    .dataframe tbody tr th {\n",
              "        vertical-align: top;\n",
              "    }\n",
              "\n",
              "    .dataframe thead th {\n",
              "        text-align: right;\n",
              "    }\n",
              "</style>\n",
              "<table border=\"1\" class=\"dataframe\">\n",
              "  <thead>\n",
              "    <tr style=\"text-align: right;\">\n",
              "      <th>device.isMobile</th>\n",
              "      <th>False</th>\n",
              "      <th>True</th>\n",
              "    </tr>\n",
              "    <tr>\n",
              "      <th>device.deviceCategory</th>\n",
              "      <th></th>\n",
              "      <th></th>\n",
              "    </tr>\n",
              "  </thead>\n",
              "  <tbody>\n",
              "    <tr>\n",
              "      <th>desktop</th>\n",
              "      <td>1171330</td>\n",
              "      <td>249</td>\n",
              "    </tr>\n",
              "    <tr>\n",
              "      <th>mobile</th>\n",
              "      <td>317</td>\n",
              "      <td>471019</td>\n",
              "    </tr>\n",
              "    <tr>\n",
              "      <th>tablet</th>\n",
              "      <td>23</td>\n",
              "      <td>65399</td>\n",
              "    </tr>\n",
              "  </tbody>\n",
              "</table>\n",
              "</div>"
            ],
            "text/plain": [
              "device.isMobile          False   True \n",
              "device.deviceCategory                 \n",
              "desktop                1171330     249\n",
              "mobile                     317  471019\n",
              "tablet                      23   65399"
            ]
          },
          "metadata": {
            "tags": []
          },
          "execution_count": 23
        }
      ]
    },
    {
      "metadata": {
        "id": "UhFdhfanPMLt",
        "colab_type": "code",
        "colab": {}
      },
      "cell_type": "code",
      "source": [
        "all_data['isMobile'] = True\n",
        "all_data.loc[all_data['device.deviceCategory'] == 'desktop', 'isMobile'] = False"
      ],
      "execution_count": 0,
      "outputs": []
    },
    {
      "metadata": {
        "id": "qiCKwiZvPRvT",
        "colab_type": "code",
        "outputId": "cdf8f006-62e0-451b-8a15-748a9f9134db",
        "colab": {
          "base_uri": "https://localhost:8080/",
          "height": 365
        }
      },
      "cell_type": "code",
      "source": [
        "print('unique operatingSystem count:', train['device.operatingSystem'].nunique())\n",
        "plotCategoryRateBar(all_data, train_rev, 'device.operatingSystem', 10)"
      ],
      "execution_count": 0,
      "outputs": [
        {
          "output_type": "stream",
          "text": [
            "unique operatingSystem count: 20\n"
          ],
          "name": "stdout"
        },
        {
          "output_type": "display_data",
          "data": {
            "image/png": "[encoded data removed]",
            "text/plain": [
              "<matplotlib.figure.Figure at 0x7fcbbe3bf780>"
            ]
          },
          "metadata": {
            "tags": []
          }
        }
      ]
    },
    {
      "metadata": {
        "id": "coF9zaCkPVBp",
        "colab_type": "code",
        "outputId": "ff4e5caf-b45c-435c-d1d4-300a98260b7a",
        "colab": {
          "base_uri": "https://localhost:8080/",
          "height": 365
        }
      },
      "cell_type": "code",
      "source": [
        "print('unique geoNetwork.city count:', train['geoNetwork.city'].nunique())\n",
        "plotCategoryRateBar(all_data, train_rev, 'geoNetwork.city', 10)"
      ],
      "execution_count": 0,
      "outputs": [
        {
          "output_type": "stream",
          "text": [
            "unique geoNetwork.city count: 649\n"
          ],
          "name": "stdout"
        },
        {
          "output_type": "display_data",
          "data": {
            "image/png": "[encoded data removed]",
            "text/plain": [
              "<matplotlib.figure.Figure at 0x7fcb261c05f8>"
            ]
          },
          "metadata": {
            "tags": []
          }
        }
      ]
    },
    {
      "metadata": {
        "id": "J8NHjs3wPV92",
        "colab_type": "code",
        "outputId": "ef14f7f3-061d-40a1-8ffc-98cb2760c5c3",
        "colab": {
          "base_uri": "https://localhost:8080/",
          "height": 365
        }
      },
      "cell_type": "code",
      "source": [
        "print('unique geoNetwork.region count:', train['geoNetwork.region'].nunique())\n",
        "plotCategoryRateBar(all_data, train_rev, 'geoNetwork.region', 10)"
      ],
      "execution_count": 0,
      "outputs": [
        {
          "output_type": "stream",
          "text": [
            "unique geoNetwork.region count: 376\n"
          ],
          "name": "stdout"
        },
        {
          "output_type": "display_data",
          "data": {
            "image/png": "[encoded data removed]",
            "text/plain": [
              "<matplotlib.figure.Figure at 0x7fcbbe2f2da0>"
            ]
          },
          "metadata": {
            "tags": []
          }
        }
      ]
    },
    {
      "metadata": {
        "id": "fg_Bm-0TPX1K",
        "colab_type": "code",
        "outputId": "ca0d0cc6-922b-476d-b1eb-0dd02915f7af",
        "colab": {
          "base_uri": "https://localhost:8080/",
          "height": 365
        }
      },
      "cell_type": "code",
      "source": [
        "print('unique geoNetwork.subContinent count:', train['geoNetwork.subContinent'].nunique())\n",
        "plotCategoryRateBar(all_data, train_rev, 'geoNetwork.subContinent', 10)"
      ],
      "execution_count": 0,
      "outputs": [
        {
          "output_type": "stream",
          "text": [
            "unique geoNetwork.subContinent count: 23\n"
          ],
          "name": "stdout"
        },
        {
          "output_type": "display_data",
          "data": {
            "image/png": "[encoded data removed]",
            "text/plain": [
              "<matplotlib.figure.Figure at 0x7fcb2619db70>"
            ]
          },
          "metadata": {
            "tags": []
          }
        }
      ]
    },
    {
      "metadata": {
        "id": "fTlhynpaPZtX",
        "colab_type": "code",
        "outputId": "3da901d9-c042-4491-8aaa-2f7b2a0fa6e1",
        "colab": {
          "base_uri": "https://localhost:8080/",
          "height": 347
        }
      },
      "cell_type": "code",
      "source": [
        "plotCategoryRateBar(all_data, train_rev, 'geoNetwork.continent')"
      ],
      "execution_count": 0,
      "outputs": [
        {
          "output_type": "display_data",
          "data": {
            "image/png": "[encoded data removed]",
            "text/plain": [
              "<matplotlib.figure.Figure at 0x7fcbbe201588>"
            ]
          },
          "metadata": {
            "tags": []
          }
        }
      ]
    },
    {
      "metadata": {
        "id": "tIRCsAr8PbiS",
        "colab_type": "code",
        "outputId": "eba1d55e-2c8e-463b-dca8-b90a9ef18c71",
        "colab": {
          "base_uri": "https://localhost:8080/",
          "height": 365
        }
      },
      "cell_type": "code",
      "source": [
        "print('unique geoNetwork.metro count:', train['geoNetwork.metro'].nunique())\n",
        "plotCategoryRateBar(all_data, train_rev, 'geoNetwork.metro', 10)"
      ],
      "execution_count": 0,
      "outputs": [
        {
          "output_type": "stream",
          "text": [
            "unique geoNetwork.metro count: 94\n"
          ],
          "name": "stdout"
        },
        {
          "output_type": "display_data",
          "data": {
            "image/png": "[encoded data removed]",
            "text/plain": [
              "<matplotlib.figure.Figure at 0x7fcbbe15cb00>"
            ]
          },
          "metadata": {
            "tags": []
          }
        }
      ]
    },
    {
      "metadata": {
        "id": "RACk6VFRPeEB",
        "colab_type": "code",
        "outputId": "0ae2cca9-3643-4679-befd-4f7cc854bdd6",
        "colab": {
          "base_uri": "https://localhost:8080/",
          "height": 365
        }
      },
      "cell_type": "code",
      "source": [
        "print('unique geoNetwork.networkDomain count:', train['geoNetwork.networkDomain'].nunique())\n",
        "plotCategoryRateBar(all_data, train_rev, 'geoNetwork.networkDomain', 10)"
      ],
      "execution_count": 0,
      "outputs": [
        {
          "output_type": "stream",
          "text": [
            "unique geoNetwork.networkDomain count: 28064\n"
          ],
          "name": "stdout"
        },
        {
          "output_type": "display_data",
          "data": {
            "image/png": "[encoded data removed]",
            "text/plain": [
              "<matplotlib.figure.Figure at 0x7fcbbe0e96a0>"
            ]
          },
          "metadata": {
            "tags": []
          }
        }
      ]
    },
    {
      "metadata": {
        "id": "XzYfKoSmPi56",
        "colab_type": "code",
        "outputId": "9e0a1b0b-6adf-46da-b9c5-1ae659e90448",
        "colab": {
          "base_uri": "https://localhost:8080/",
          "height": 208
        }
      },
      "cell_type": "code",
      "source": [
        "print(all_data['totals.hits'].value_counts()[:10])\n",
        "\n",
        "all_data['totals.hits'] = all_data['totals.hits'].astype(int)"
      ],
      "execution_count": 0,
      "outputs": [
        {
          "output_type": "stream",
          "text": [
            "1     864064\n",
            "2     237499\n",
            "3     134435\n",
            "4      80875\n",
            "5      63687\n",
            "6      46598\n",
            "7      38137\n",
            "8      29717\n",
            "9      24999\n",
            "10     20306\n",
            "Name: totals.hits, dtype: int64\n"
          ],
          "name": "stdout"
        }
      ]
    },
    {
      "metadata": {
        "id": "QIhwZF1ePlTq",
        "colab_type": "code",
        "outputId": "94bf83ff-420a-4c05-8e72-6c94aa235569",
        "colab": {
          "base_uri": "https://localhost:8080/",
          "height": 208
        }
      },
      "cell_type": "code",
      "source": [
        "print(all_data['totals.pageviews'].value_counts()[:10])\n",
        "\n",
        "all_data['totals.pageviews'] = all_data['totals.pageviews'].astype(int)"
      ],
      "execution_count": 0,
      "outputs": [
        {
          "output_type": "stream",
          "text": [
            "1     876567\n",
            "2     249794\n",
            "3     142896\n",
            "4      86666\n",
            "5      64712\n",
            "6      47721\n",
            "7      37751\n",
            "8      29586\n",
            "9      24153\n",
            "10     19228\n",
            "Name: totals.pageviews, dtype: int64\n"
          ],
          "name": "stdout"
        }
      ]
    },
    {
      "metadata": {
        "id": "EpfdmlvoPoPy",
        "colab_type": "code",
        "outputId": "64f95a4e-2cef-475c-dbef-9c43d78cbd75",
        "colab": {
          "base_uri": "https://localhost:8080/",
          "height": 365
        }
      },
      "cell_type": "code",
      "source": [
        "print('unique trafficSource.adContent count:', train['trafficSource.adContent'].nunique())\n",
        "\n",
        "plotCategoryRateBar(all_data, train_rev, 'trafficSource.adContent', 10)\n",
        "\n",
        "all_data['_adContentGMC'] = (all_data['trafficSource.adContent'] == 'Google Merchandise Collection').astype(np.uint8)"
      ],
      "execution_count": 0,
      "outputs": [
        {
          "output_type": "stream",
          "text": [
            "unique trafficSource.adContent count: 44\n"
          ],
          "name": "stdout"
        },
        {
          "output_type": "display_data",
          "data": {
            "image/png": "[encoded data removed]",
            "text/plain": [
              "<matplotlib.figure.Figure at 0x7fcbbe086780>"
            ]
          },
          "metadata": {
            "tags": []
          }
        }
      ]
    },
    {
      "metadata": {
        "id": "miAwUg5KPpOh",
        "colab_type": "code",
        "outputId": "a6ce656b-48eb-4c86-b5f0-59fe4d56f29a",
        "colab": {
          "base_uri": "https://localhost:8080/",
          "height": 365
        }
      },
      "cell_type": "code",
      "source": [
        "print('unique trafficSource.campaign count:', train['trafficSource.campaign'].nunique())\n",
        "plotCategoryRateBar(all_data, train_rev, 'trafficSource.campaign', 10)\n",
        "\n",
        "all_data['_withCampaign'] = (all_data['trafficSource.campaign'] != '(not set)').astype(np.uint8)"
      ],
      "execution_count": 0,
      "outputs": [
        {
          "output_type": "stream",
          "text": [
            "unique trafficSource.campaign count: 10\n"
          ],
          "name": "stdout"
        },
        {
          "output_type": "display_data",
          "data": {
            "image/png": "[encoded data removed]",
            "text/plain": [
              "<matplotlib.figure.Figure at 0x7fcbbdf8dc50>"
            ]
          },
          "metadata": {
            "tags": []
          }
        }
      ]
    },
    {
      "metadata": {
        "id": "c8j3LerGPs7C",
        "colab_type": "code",
        "outputId": "17e2ba99-0272-4a50-d426-f702b53faa14",
        "colab": {
          "base_uri": "https://localhost:8080/",
          "height": 399
        }
      },
      "cell_type": "code",
      "source": [
        "print(all_data['trafficSource.isTrueDirect'].value_counts())\n",
        "plotCategoryRateBar(all_data, train_rev, 'trafficSource.isTrueDirect')"
      ],
      "execution_count": 0,
      "outputs": [
        {
          "output_type": "stream",
          "text": [
            "False    1173819\n",
            "True      534518\n",
            "Name: trafficSource.isTrueDirect, dtype: int64\n"
          ],
          "name": "stdout"
        },
        {
          "output_type": "display_data",
          "data": {
            "image/png": "[encoded data removed]",
            "text/plain": [
              "<matplotlib.figure.Figure at 0x7fcbbdee2080>"
            ]
          },
          "metadata": {
            "tags": []
          }
        }
      ]
    },
    {
      "metadata": {
        "id": "Llmo_6J5PtrZ",
        "colab_type": "code",
        "outputId": "f8ee5184-f340-4d78-cdf7-f44881c79a6c",
        "colab": {
          "base_uri": "https://localhost:8080/",
          "height": 365
        }
      },
      "cell_type": "code",
      "source": [
        "print('unique trafficSource.keyword count:', train['trafficSource.keyword'].nunique())\n",
        "plotCategoryRateBar(all_data, train_rev, 'trafficSource.keyword', 10)"
      ],
      "execution_count": 0,
      "outputs": [
        {
          "output_type": "stream",
          "text": [
            "unique trafficSource.keyword count: 3659\n"
          ],
          "name": "stdout"
        },
        {
          "output_type": "display_data",
          "data": {
            "image/png": "[encoded data removed]",
            "text/plain": [
              "<matplotlib.figure.Figure at 0x7fcbbdea9320>"
            ]
          },
          "metadata": {
            "tags": []
          }
        }
      ]
    },
    {
      "metadata": {
        "id": "3eTesjo6Pv3O",
        "colab_type": "code",
        "outputId": "f374a357-4a4f-4ff1-aa35-0a3bde7a9a7a",
        "colab": {
          "base_uri": "https://localhost:8080/",
          "height": 365
        }
      },
      "cell_type": "code",
      "source": [
        "print('unique trafficSource.medium count:', train['trafficSource.medium'].nunique())\n",
        "plotCategoryRateBar(all_data, train_rev, 'trafficSource.medium')"
      ],
      "execution_count": 0,
      "outputs": [
        {
          "output_type": "stream",
          "text": [
            "unique trafficSource.medium count: 7\n"
          ],
          "name": "stdout"
        },
        {
          "output_type": "display_data",
          "data": {
            "image/png": "[encoded data removed]",
            "text/plain": [
              "<matplotlib.figure.Figure at 0x7fcbbde1a1d0>"
            ]
          },
          "metadata": {
            "tags": []
          }
        }
      ]
    },
    {
      "metadata": {
        "id": "pNrzWqMIPyDY",
        "colab_type": "code",
        "outputId": "daa23ef5-ff3d-4cdb-888c-49a452aa7599",
        "colab": {
          "base_uri": "https://localhost:8080/",
          "height": 365
        }
      },
      "cell_type": "code",
      "source": [
        "print('unique trafficSource.referralPath count:', train['trafficSource.referralPath'].nunique())\n",
        "plotCategoryRateBar(all_data, train_rev, 'trafficSource.referralPath', 10)\n",
        "\n",
        "all_data['_referralRoot'] = (all_data['trafficSource.referralPath'] == '/').astype(np.uint8)"
      ],
      "execution_count": 0,
      "outputs": [
        {
          "output_type": "stream",
          "text": [
            "unique trafficSource.referralPath count: 1475\n"
          ],
          "name": "stdout"
        },
        {
          "output_type": "display_data",
          "data": {
            "image/png": "[encoded data removed]",
            "text/plain": [
              "<matplotlib.figure.Figure at 0x7fcbbdec6160>"
            ]
          },
          "metadata": {
            "tags": []
          }
        }
      ]
    },
    {
      "metadata": {
        "id": "NMeEx3iiP0UF",
        "colab_type": "code",
        "outputId": "5a7fa2d8-e49f-4f5b-fb2e-251f425927be",
        "colab": {
          "base_uri": "https://localhost:8080/",
          "height": 365
        }
      },
      "cell_type": "code",
      "source": [
        "print('unique trafficSource.source count:', train['trafficSource.source'].nunique())\n",
        "plotCategoryRateBar(all_data, train_rev, 'trafficSource.source', 10)\n",
        "\n",
        "all_data['_sourceGpmall'] = (all_data['trafficSource.source'] == 'mall.googleplex.com').astype(np.uint8)"
      ],
      "execution_count": 0,
      "outputs": [
        {
          "output_type": "stream",
          "text": [
            "unique trafficSource.source count: 380\n"
          ],
          "name": "stdout"
        },
        {
          "output_type": "display_data",
          "data": {
            "image/png": "[encoded data removed]",
            "text/plain": [
              "<matplotlib.figure.Figure at 0x7fcbbddae5c0>"
            ]
          },
          "metadata": {
            "tags": []
          }
        }
      ]
    },
    {
      "metadata": {
        "id": "OTB56O39P2h9",
        "colab_type": "code",
        "colab": {}
      },
      "cell_type": "code",
      "source": [
        "_='''\n",
        "'''\n",
        "all_data['_meanHitsPerDay'] = all_data.groupby(['_day'])['totals.hits'].transform('mean')\n",
        "all_data['_meanHitsPerWeekday'] = all_data.groupby(['_weekday'])['totals.hits'].transform('mean')\n",
        "all_data['_meanHitsPerMonth'] = all_data.groupby(['_month'])['totals.hits'].transform('mean')\n",
        "all_data['_sumHitsPerDay'] = all_data.groupby(['_day'])['totals.hits'].transform('sum')\n",
        "all_data['_sumHitsPerWeekday'] = all_data.groupby(['_weekday'])['totals.hits'].transform('sum')\n",
        "all_data['_sumHitsPerMonth'] = all_data.groupby(['_month'])['totals.hits'].transform('sum')\n",
        "\n",
        "for feature in ['totals.hits', 'totals.pageviews']:\n",
        "    info = all_data.groupby('fullVisitorId')[feature].mean()\n",
        "    all_data['_usermean_' + feature] = all_data.fullVisitorId.map(info)\n",
        "    \n",
        "for feature in ['visitNumber']:\n",
        "    info = all_data.groupby('fullVisitorId')[feature].max()\n",
        "    all_data['_usermax_' + feature] = all_data.fullVisitorId.map(info)"
      ],
      "execution_count": 0,
      "outputs": []
    },
    {
      "metadata": {
        "id": "4dPz1zxoP6bo",
        "colab_type": "code",
        "colab": {}
      },
      "cell_type": "code",
      "source": [
        "# remember visitId dublicates?\n",
        "all_data['_visitId_dublicates'] = all_data['visitId'].map(all_data['visitId'].value_counts())\n",
        "# remember session dublicates?\n",
        "all_data['_session_dublicates'] = all_data['sessionId'].map(all_data['sessionId'].value_counts())"
      ],
      "execution_count": 0,
      "outputs": []
    },
    {
      "metadata": {
        "id": "He0gfsM9P-dF",
        "colab_type": "code",
        "colab": {}
      },
      "cell_type": "code",
      "source": [
        "all_data['_source.country'] = all_data['trafficSource.source'] + '_' + all_data['geoNetwork.country']\n",
        "all_data['_campaign.medium'] = all_data['trafficSource.campaign'] + '_' + all_data['trafficSource.medium']\n",
        "all_data['_browser.category'] = all_data['device.browser'] + '_' + all_data['device.deviceCategory']\n",
        "all_data['_browser.os'] = all_data['device.browser'] + '_' + all_data['device.operatingSystem']\n"
      ],
      "execution_count": 0,
      "outputs": []
    },
    {
      "metadata": {
        "id": "qB-mcYfMP_Dw",
        "colab_type": "code",
        "outputId": "e2b45391-ac78-403f-c424-7974a3d89877",
        "colab": {
          "base_uri": "https://localhost:8080/",
          "height": 52
        }
      },
      "cell_type": "code",
      "source": [
        "null_cnt = all_data.isnull().sum().sort_values()\n",
        "print(null_cnt[null_cnt > 0])"
      ],
      "execution_count": 0,
      "outputs": [
        {
          "output_type": "stream",
          "text": [
            "totals.transactionRevenue    804684\n",
            "dtype: int64\n"
          ],
          "name": "stdout"
        }
      ]
    },
    {
      "metadata": {
        "id": "KlF2zzhJQBmH",
        "colab_type": "code",
        "colab": {}
      },
      "cell_type": "code",
      "source": [
        "all_data.drop([\n",
        "    'sessionId','visitId','visitStartTime',\n",
        "    'trafficSource.adwordsClickInfo.adNetworkType',\n",
        "    'trafficSource.adwordsClickInfo.gclId',\n",
        "    'trafficSource.adwordsClickInfo.page',\n",
        "    'trafficSource.adwordsClickInfo.slot'],axis=1,inplace=True)\n",
        "\n",
        "for i, t in all_data.loc[:, all_data.columns != 'fullVisitorId'].dtypes.iteritems():\n",
        "    if t == object:\n",
        "        all_data[i].fillna('unknown', inplace=True)\n",
        "        all_data[i] = pd.factorize(all_data[i])[0]\n",
        "        #all_data[i] = all_data[i].astype('category')"
      ],
      "execution_count": 0,
      "outputs": []
    },
    {
      "metadata": {
        "id": "SvOW6KX2QEdP",
        "colab_type": "code",
        "outputId": "46933960-8690-449e-9539-7412975fb436",
        "colab": {
          "base_uri": "https://localhost:8080/",
          "height": 1040
        }
      },
      "cell_type": "code",
      "source": [
        "all_data.info()"
      ],
      "execution_count": 0,
      "outputs": [
        {
          "output_type": "stream",
          "text": [
            "<class 'pandas.core.frame.DataFrame'>\n",
            "RangeIndex: 1708337 entries, 0 to 1708336\n",
            "Data columns (total 54 columns):\n",
            "channelGrouping                             int64\n",
            "device.browser                              int64\n",
            "device.deviceCategory                       int64\n",
            "device.isMobile                             bool\n",
            "device.operatingSystem                      int64\n",
            "fullVisitorId                               object\n",
            "geoNetwork.city                             int64\n",
            "geoNetwork.continent                        int64\n",
            "geoNetwork.country                          int64\n",
            "geoNetwork.metro                            int64\n",
            "geoNetwork.networkDomain                    int64\n",
            "geoNetwork.region                           int64\n",
            "geoNetwork.subContinent                     int64\n",
            "totals.bounces                              int64\n",
            "totals.hits                                 int64\n",
            "totals.newVisits                            int64\n",
            "totals.pageviews                            int64\n",
            "totals.transactionRevenue                   float64\n",
            "trafficSource.adContent                     int64\n",
            "trafficSource.adwordsClickInfo.isVideoAd    int64\n",
            "trafficSource.campaign                      int64\n",
            "trafficSource.isTrueDirect                  bool\n",
            "trafficSource.keyword                       int64\n",
            "trafficSource.medium                        int64\n",
            "trafficSource.referralPath                  int64\n",
            "trafficSource.source                        int64\n",
            "visitNumber                                 int64\n",
            "_year                                       int64\n",
            "_month                                      int64\n",
            "_quarterMonth                               int64\n",
            "_day                                        int64\n",
            "_weekday                                    int64\n",
            "_id_incoherence                             bool\n",
            "_visitStartHour                             int64\n",
            "isMobile                                    bool\n",
            "_adContentGMC                               uint8\n",
            "_withCampaign                               uint8\n",
            "_referralRoot                               uint8\n",
            "_sourceGpmall                               uint8\n",
            "_meanHitsPerDay                             float64\n",
            "_meanHitsPerWeekday                         float64\n",
            "_meanHitsPerMonth                           float64\n",
            "_sumHitsPerDay                              int64\n",
            "_sumHitsPerWeekday                          int64\n",
            "_sumHitsPerMonth                            int64\n",
            "_usermean_totals.hits                       float64\n",
            "_usermean_totals.pageviews                  float64\n",
            "_usermax_visitNumber                        int64\n",
            "_visitId_dublicates                         int64\n",
            "_session_dublicates                         int64\n",
            "_source.country                             int64\n",
            "_campaign.medium                            int64\n",
            "_browser.category                           int64\n",
            "_browser.os                                 int64\n",
            "dtypes: bool(4), float64(6), int64(39), object(1), uint8(4)\n",
            "memory usage: 612.6+ MB\n"
          ],
          "name": "stdout"
        }
      ]
    },
    {
      "metadata": {
        "id": "QGYZOWQsQJX0",
        "colab_type": "code",
        "colab": {}
      },
      "cell_type": "code",
      "source": [
        "train = all_data[all_data['totals.transactionRevenue'].notnull()]\n",
        "test = all_data[all_data['totals.transactionRevenue'].isnull()].drop(['totals.transactionRevenue'], axis=1)"
      ],
      "execution_count": 0,
      "outputs": []
    },
    {
      "metadata": {
        "id": "jEAuUyIZQLns",
        "colab_type": "code",
        "outputId": "7678a87d-d524-42a9-cee4-52a42aa22f3e",
        "colab": {
          "base_uri": "https://localhost:8080/",
          "height": 35
        }
      },
      "cell_type": "code",
      "source": [
        "train_id = train['fullVisitorId']\n",
        "test_id = test['fullVisitorId']\n",
        "\n",
        "Y_train_reg = train.pop('totals.transactionRevenue')\n",
        "#Y_train_cls = (Y_train_reg.fillna(0) > 0).astype(np.uint8)\n",
        "X_train = train.drop(['fullVisitorId'], axis=1)\n",
        "X_test  = test.drop(['fullVisitorId'], axis=1)\n",
        "\n",
        "print(X_train.shape, X_test.shape)"
      ],
      "execution_count": 0,
      "outputs": [
        {
          "output_type": "stream",
          "text": [
            "(903653, 52) (804684, 52)\n"
          ],
          "name": "stdout"
        }
      ]
    },
    {
      "metadata": {
        "id": "HspFw7I5QMQj",
        "colab_type": "code",
        "outputId": "66c7a1e6-b17a-4ce9-8496-45e7493bdf50",
        "colab": {
          "base_uri": "https://localhost:8080/",
          "height": 208
        }
      },
      "cell_type": "code",
      "source": [
        "import sys\n",
        "import gc\n",
        "\n",
        "del all_data, train, test, train_rev\n",
        "gc.collect()\n",
        "\n",
        "print(pd.DataFrame([[val for val in dir()], [sys.getsizeof(eval(val)) for val in dir()]],\n",
        "                   index=['name','size']).T.sort_values('size', ascending=False).reset_index(drop=True)[:10])"
      ],
      "execution_count": 0,
      "outputs": [
        {
          "output_type": "stream",
          "text": [
            "          name       size\n",
            "0      X_train  332544328\n",
            "1       X_test  296123736\n",
            "2         info  152975875\n",
            "3     train_id   75797496\n",
            "4      test_id   67496214\n",
            "5  Y_train_reg   14458472\n",
            "6           _6      18558\n",
            "7     null_cnt      10594\n",
            "8          _14      10166\n",
            "9           __      10166\n"
          ],
          "name": "stdout"
        }
      ]
    },
    {
      "metadata": {
        "id": "HJWe0KDbQQ8P",
        "colab_type": "code",
        "outputId": "16fb826b-43ec-44fc-fca2-1d5cab9db0fe",
        "colab": {
          "base_uri": "https://localhost:8080/",
          "height": 176
        }
      },
      "cell_type": "code",
      "source": [
        "from sklearn.model_selection import StratifiedKFold, GroupKFold\n",
        "from sklearn.metrics import roc_auc_score\n",
        "!pip install lightgbm\n",
        "import lightgbm as lgb"
      ],
      "execution_count": 0,
      "outputs": [
        {
          "output_type": "stream",
          "text": [
            "Collecting lightgbm\n",
            "\u001b[?25l  Downloading https://files.pythonhosted.org/packages/4c/3b/4ae113193b4ee01387ed76d5eea32788aec0589df9ae7378a8b7443eaa8b/lightgbm-2.2.2-py2.py3-none-manylinux1_x86_64.whl (1.2MB)\n",
            "\u001b[K    100% |████████████████████████████████| 1.2MB 8.8MB/s \n",
            "\u001b[?25hRequirement already satisfied: scipy in /usr/local/lib/python3.6/dist-packages (from lightgbm) (1.1.0)\n",
            "Requirement already satisfied: scikit-learn in /usr/local/lib/python3.6/dist-packages (from lightgbm) (0.19.2)\n",
            "Requirement already satisfied: numpy in /usr/local/lib/python3.6/dist-packages (from lightgbm) (1.14.6)\n",
            "Installing collected packages: lightgbm\n",
            "Successfully installed lightgbm-2.2.2\n"
          ],
          "name": "stdout"
        }
      ]
    },
    {
      "metadata": {
        "id": "wO240-LeQRpg",
        "colab_type": "code",
        "outputId": "e7c30519-5170-4415-eb4f-bb92ee89b077",
        "colab": {
          "base_uri": "https://localhost:8080/",
          "height": 364
        }
      },
      "cell_type": "code",
      "source": [
        "params={'learning_rate': 0.03,\n",
        "        'objective':'regression',\n",
        "        'metric':'rmse',\n",
        "        'num_leaves': 31,\n",
        "        'verbose': 1,\n",
        "        'random_state':42,\n",
        "        'bagging_fraction': 0.9,\n",
        "        'feature_fraction': 0.9\n",
        "       }\n",
        "\n",
        "folds = GroupKFold(n_splits=5)\n",
        "\n",
        "oof_preds = np.zeros(X_train.shape[0])\n",
        "sub_preds = np.zeros(X_test.shape[0])\n",
        "for fold_, (trn_, val_) in enumerate(folds.split(X_train, Y_train_reg, groups=train_id)):\n",
        "    trn_x, trn_y = X_train.iloc[trn_], Y_train_reg.iloc[trn_]\n",
        "    val_x, val_y = X_train.iloc[val_], Y_train_reg.iloc[val_]\n",
        "    \n",
        "    reg = lgb.LGBMRegressor(**params, n_estimators=3000)\n",
        "    reg.fit(trn_x, trn_y, eval_set=[(val_x, val_y)], early_stopping_rounds=50, verbose=500)\n",
        "    \n",
        "    oof_preds[val_] = reg.predict(val_x, num_iteration=reg.best_iteration_)\n",
        "    sub_preds += reg.predict(X_test, num_iteration=reg.best_iteration_) / folds.n_splits\n",
        "\n",
        "pred = sub_preds"
      ],
      "execution_count": 0,
      "outputs": [
        {
          "output_type": "stream",
          "text": [
            "Training until validation scores don't improve for 50 rounds.\n",
            "[500]\tvalid_0's rmse: 1.60232\n",
            "Early stopping, best iteration is:\n",
            "[785]\tvalid_0's rmse: 1.59982\n",
            "Training until validation scores don't improve for 50 rounds.\n",
            "[500]\tvalid_0's rmse: 1.63196\n",
            "Early stopping, best iteration is:\n",
            "[727]\tvalid_0's rmse: 1.62888\n",
            "Training until validation scores don't improve for 50 rounds.\n",
            "[500]\tvalid_0's rmse: 1.58535\n",
            "Early stopping, best iteration is:\n",
            "[824]\tvalid_0's rmse: 1.5816\n",
            "Training until validation scores don't improve for 50 rounds.\n",
            "[500]\tvalid_0's rmse: 1.63956\n",
            "Early stopping, best iteration is:\n",
            "[602]\tvalid_0's rmse: 1.63812\n",
            "Training until validation scores don't improve for 50 rounds.\n",
            "[500]\tvalid_0's rmse: 1.61995\n",
            "Early stopping, best iteration is:\n",
            "[766]\tvalid_0's rmse: 1.61687\n"
          ],
          "name": "stdout"
        }
      ]
    },
    {
      "metadata": {
        "id": "LkV94fF7QT73",
        "colab_type": "code",
        "outputId": "840e52ca-4acc-4273-bfe9-009fc5a3f96f",
        "colab": {
          "base_uri": "https://localhost:8080/",
          "height": 423
        }
      },
      "cell_type": "code",
      "source": [
        "# Plot feature importance\n",
        "feature_importance = reg.feature_importances_[:20]\n",
        "feature_importance = 100.0 * (feature_importance / feature_importance.max())\n",
        "sorted_idx = np.argsort(feature_importance)\n",
        "pos = np.arange(sorted_idx.shape[0]) + .5\n",
        "\n",
        "plt.figure(figsize=(12,6))\n",
        "plt.barh(pos, feature_importance[sorted_idx], align='center')\n",
        "plt.yticks(pos, X_train.columns[sorted_idx])\n",
        "plt.xlabel('Relative Importance')\n",
        "plt.title('Variable Importance')\n",
        "plt.show()"
      ],
      "execution_count": 0,
      "outputs": [
        {
          "output_type": "display_data",
          "data": {
            "image/png": "[encoded data removed]",
            "text/plain": [
              "<matplotlib.figure.Figure at 0x7fcc14b71d30>"
            ]
          },
          "metadata": {
            "tags": []
          }
        }
      ]
    },
    {
      "metadata": {
        "id": "iAPUr6WyQWjn",
        "colab_type": "code",
        "outputId": "294b2ad6-7c4a-450e-dce1-b601a2b70298",
        "colab": {
          "base_uri": "https://localhost:8080/",
          "height": 662
        }
      },
      "cell_type": "code",
      "source": [
        "submission = pd.DataFrame({'fullVisitorId':test_id, 'PredictedLogRevenue':pred})\n",
        "\n",
        "submission[\"PredictedLogRevenue\"] = np.expm1(submission[\"PredictedLogRevenue\"])\n",
        "submission[\"PredictedLogRevenue\"] = submission[\"PredictedLogRevenue\"].apply(lambda x : 0.0 if x < 0 else x)\n",
        "submission[\"PredictedLogRevenue\"] = submission[\"PredictedLogRevenue\"].fillna(0.0)\n",
        "\n",
        "submission_sum = submission[['fullVisitorId', 'PredictedLogRevenue']].groupby('fullVisitorId').sum().reset_index()\n",
        "submission_sum[\"PredictedLogRevenue\"] = np.log1p(submission_sum[\"PredictedLogRevenue\"])\n",
        "submission_sum.to_csv(\"submission.csv\", index=False)\n",
        "submission_sum.head(20)"
      ],
      "execution_count": 0,
      "outputs": [
        {
          "output_type": "execute_result",
          "data": {
            "text/html": [
              "<div>\n",
              "<style scoped>\n",
              "    .dataframe tbody tr th:only-of-type {\n",
              "        vertical-align: middle;\n",
              "    }\n",
              "\n",
              "    .dataframe tbody tr th {\n",
              "        vertical-align: top;\n",
              "    }\n",
              "\n",
              "    .dataframe thead th {\n",
              "        text-align: right;\n",
              "    }\n",
              "</style>\n",
              "<table border=\"1\" class=\"dataframe\">\n",
              "  <thead>\n",
              "    <tr style=\"text-align: right;\">\n",
              "      <th></th>\n",
              "      <th>fullVisitorId</th>\n",
              "      <th>PredictedLogRevenue</th>\n",
              "    </tr>\n",
              "  </thead>\n",
              "  <tbody>\n",
              "    <tr>\n",
              "      <th>0</th>\n",
              "      <td>0000000259678714014</td>\n",
              "      <td>0.202222</td>\n",
              "    </tr>\n",
              "    <tr>\n",
              "      <th>1</th>\n",
              "      <td>0000049363351866189</td>\n",
              "      <td>0.005676</td>\n",
              "    </tr>\n",
              "    <tr>\n",
              "      <th>2</th>\n",
              "      <td>0000053049821714864</td>\n",
              "      <td>0.000000</td>\n",
              "    </tr>\n",
              "    <tr>\n",
              "      <th>3</th>\n",
              "      <td>0000059488412965267</td>\n",
              "      <td>0.007243</td>\n",
              "    </tr>\n",
              "    <tr>\n",
              "      <th>4</th>\n",
              "      <td>0000085840370633780</td>\n",
              "      <td>0.000113</td>\n",
              "    </tr>\n",
              "    <tr>\n",
              "      <th>5</th>\n",
              "      <td>0000091131414287111</td>\n",
              "      <td>0.000000</td>\n",
              "    </tr>\n",
              "    <tr>\n",
              "      <th>6</th>\n",
              "      <td>0000117255350596610</td>\n",
              "      <td>6.480830</td>\n",
              "    </tr>\n",
              "    <tr>\n",
              "      <th>7</th>\n",
              "      <td>0000118334805178127</td>\n",
              "      <td>0.000000</td>\n",
              "    </tr>\n",
              "    <tr>\n",
              "      <th>8</th>\n",
              "      <td>0000130646294093000</td>\n",
              "      <td>0.000000</td>\n",
              "    </tr>\n",
              "    <tr>\n",
              "      <th>9</th>\n",
              "      <td>0000150005271820273</td>\n",
              "      <td>0.000000</td>\n",
              "    </tr>\n",
              "    <tr>\n",
              "      <th>10</th>\n",
              "      <td>0000166374699289385</td>\n",
              "      <td>0.002966</td>\n",
              "    </tr>\n",
              "    <tr>\n",
              "      <th>11</th>\n",
              "      <td>0000174453501096099</td>\n",
              "      <td>0.000535</td>\n",
              "    </tr>\n",
              "    <tr>\n",
              "      <th>12</th>\n",
              "      <td>000018122977590134</td>\n",
              "      <td>5.636687</td>\n",
              "    </tr>\n",
              "    <tr>\n",
              "      <th>13</th>\n",
              "      <td>000020731284570628</td>\n",
              "      <td>0.000999</td>\n",
              "    </tr>\n",
              "    <tr>\n",
              "      <th>14</th>\n",
              "      <td>0000232022622082281</td>\n",
              "      <td>0.000944</td>\n",
              "    </tr>\n",
              "    <tr>\n",
              "      <th>15</th>\n",
              "      <td>0000271086753662651</td>\n",
              "      <td>0.001048</td>\n",
              "    </tr>\n",
              "    <tr>\n",
              "      <th>16</th>\n",
              "      <td>0000282648818935742</td>\n",
              "      <td>0.000000</td>\n",
              "    </tr>\n",
              "    <tr>\n",
              "      <th>17</th>\n",
              "      <td>00003038793126460</td>\n",
              "      <td>0.003618</td>\n",
              "    </tr>\n",
              "    <tr>\n",
              "      <th>18</th>\n",
              "      <td>0000313524203455157</td>\n",
              "      <td>0.002115</td>\n",
              "    </tr>\n",
              "    <tr>\n",
              "      <th>19</th>\n",
              "      <td>0000324924635296742</td>\n",
              "      <td>0.000000</td>\n",
              "    </tr>\n",
              "  </tbody>\n",
              "</table>\n",
              "</div>"
            ],
            "text/plain": [
              "          fullVisitorId  PredictedLogRevenue\n",
              "0   0000000259678714014             0.202222\n",
              "1   0000049363351866189             0.005676\n",
              "2   0000053049821714864             0.000000\n",
              "3   0000059488412965267             0.007243\n",
              "4   0000085840370633780             0.000113\n",
              "5   0000091131414287111             0.000000\n",
              "6   0000117255350596610             6.480830\n",
              "7   0000118334805178127             0.000000\n",
              "8   0000130646294093000             0.000000\n",
              "9   0000150005271820273             0.000000\n",
              "10  0000166374699289385             0.002966\n",
              "11  0000174453501096099             0.000535\n",
              "12   000018122977590134             5.636687\n",
              "13   000020731284570628             0.000999\n",
              "14  0000232022622082281             0.000944\n",
              "15  0000271086753662651             0.001048\n",
              "16  0000282648818935742             0.000000\n",
              "17    00003038793126460             0.003618\n",
              "18  0000313524203455157             0.002115\n",
              "19  0000324924635296742             0.000000"
            ]
          },
          "metadata": {
            "tags": []
          },
          "execution_count": 55
        }
      ]
    },
    {
      "metadata": {
        "id": "9DhMbOMNQYf8",
        "colab_type": "code",
        "outputId": "2df02410-a640-4b46-d3c3-914fa3d0f9e0",
        "colab": {
          "base_uri": "https://localhost:8080/",
          "height": 173
        }
      },
      "cell_type": "code",
      "source": [
        "submission_sum['PredictedLogRevenue'].describe()"
      ],
      "execution_count": 0,
      "outputs": [
        {
          "output_type": "execute_result",
          "data": {
            "text/plain": [
              "count    617242.000000\n",
              "mean          0.157554\n",
              "std           0.880736\n",
              "min           0.000000\n",
              "25%           0.000069\n",
              "50%           0.000747\n",
              "75%           0.002114\n",
              "max          16.922312\n",
              "Name: PredictedLogRevenue, dtype: float64"
            ]
          },
          "metadata": {
            "tags": []
          },
          "execution_count": 56
        }
      ]
    }
  ]
}