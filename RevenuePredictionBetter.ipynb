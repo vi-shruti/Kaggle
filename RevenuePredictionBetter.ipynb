{
  "nbformat": 4,
  "nbformat_minor": 0,
  "metadata": {
    "colab": {
      "name": "RevenuePredictionBetter.ipynb",
      "version": "0.3.2",
      "provenance": [],
      "include_colab_link": true
    },
    "kernelspec": {
      "name": "python3",
      "display_name": "Python 3"
    }
  },
  "cells": [
    {
      "cell_type": "markdown",
      "metadata": {
        "id": "view-in-github",
        "colab_type": "text"
      },
      "source": [
        "<a href=\"https://colab.research.google.com/github/vi-shruti/Kaggle/blob/master/RevenuePredictionBetter.ipynb\" target=\"_parent\"><img src=\"https://colab.research.google.com/assets/colab-badge.svg\" alt=\"Open In Colab\"/></a>"
      ]
    },
    {
      "metadata": {
        "id": "R0JUuQQgNum_",
        "colab_type": "code",
        "colab": {}
      },
      "cell_type": "code",
      "source": [
        "import pandas as pd\n",
        "import numpy as np\n",
        "import matplotlib.pyplot as plt\n",
        "import seaborn as sns\n",
        "import json\n",
        "import gc\n",
        "import sys\n",
        "import math\n",
        "\n",
        "from pandas.io.json import json_normalize\n",
        "from datetime import datetime\n",
        "\n",
        "import os\n",
        "print(os.listdir(\"../input\"))"
      ],
      "execution_count": 0,
      "outputs": []
    },
    {
      "metadata": {
        "id": "gPG6a0FnOOOW",
        "colab_type": "code",
        "colab": {}
      },
      "cell_type": "code",
      "source": [
        "from google.colab import drive\n",
        "drive.mount('/content/drive')\n",
        "os.chdir(\"/content/drive/My Drive\")"
      ],
      "execution_count": 0,
      "outputs": []
    },
    {
      "metadata": {
        "id": "IK1rJh_oN6la",
        "colab_type": "code",
        "colab": {}
      },
      "cell_type": "code",
      "source": [
        "def load_df(csv_path, nrows=None):\n",
        "    JSON_COLUMNS = ['device', 'geoNetwork', 'totals', 'trafficSource']\n",
        "    \n",
        "    df = pd.read_csv(csv_path, \n",
        "                     converters={column: json.loads for column in JSON_COLUMNS}, \n",
        "                     dtype={'fullVisitorId': 'str'}, # Important!!\n",
        "                     nrows=nrows)\n",
        "    \n",
        "    for column in JSON_COLUMNS:\n",
        "        column_as_df = json_normalize(df[column])\n",
        "        column_as_df.columns = [f\"{column}.{subcolumn}\" for subcolumn in column_as_df.columns]\n",
        "        df = df.drop(column, axis=1).merge(column_as_df, right_index=True, left_index=True)\n",
        "    print(f\"Loaded {os.path.basename(csv_path)}. Shape: {df.shape}\")\n",
        "    return df"
      ],
      "execution_count": 0,
      "outputs": []
    },
    {
      "metadata": {
        "id": "wkl18ABZN7cB",
        "colab_type": "code",
        "colab": {}
      },
      "cell_type": "code",
      "source": [
        "%%time\n",
        "train = load_df('..My Drive/train.csv')\n",
        "test = load_df('..My Drive/test.csv')\n",
        "\n",
        "print('train date:', min(train['date']), 'to', max(train['date']))\n",
        "print('test date:', min(test['date']), 'to', max(test['date']))"
      ],
      "execution_count": 0,
      "outputs": []
    },
    {
      "metadata": {
        "id": "n1UDcRzjN-G2",
        "colab_type": "code",
        "colab": {}
      },
      "cell_type": "code",
      "source": [
        "# only train feature\n",
        "for c in train.columns.values:\n",
        "    if c not in test.columns.values: print(c)"
      ],
      "execution_count": 0,
      "outputs": []
    },
    {
      "metadata": {
        "id": "pc6FGY92OdeU",
        "colab_type": "code",
        "colab": {}
      },
      "cell_type": "code",
      "source": [
        "train['totals.transactionRevenue'].fillna(0, inplace=True)\n",
        "train['totals.transactionRevenue'] = np.log1p(train['totals.transactionRevenue'].astype(float))\n",
        "print(train['totals.transactionRevenue'].describe())"
      ],
      "execution_count": 0,
      "outputs": []
    },
    {
      "metadata": {
        "id": "BY4k_Z3iOfcQ",
        "colab_type": "code",
        "colab": {}
      },
      "cell_type": "code",
      "source": [
        "all_data = train.append(test, sort=False).reset_index(drop=True)\n",
        "print(all_data.info())"
      ],
      "execution_count": 0,
      "outputs": []
    },
    {
      "metadata": {
        "id": "jZhSUG9JOj2p",
        "colab_type": "code",
        "colab": {}
      },
      "cell_type": "code",
      "source": [
        "null_cnt = train.isnull().sum().sort_values()\n",
        "print(null_cnt[null_cnt > 0])"
      ],
      "execution_count": 0,
      "outputs": []
    },
    {
      "metadata": {
        "id": "SZnShrBPOklf",
        "colab_type": "code",
        "colab": {}
      },
      "cell_type": "code",
      "source": [
        "# fillna object feature\n",
        "for col in ['trafficSource.keyword',\n",
        "            'trafficSource.referralPath',\n",
        "            'trafficSource.adwordsClickInfo.gclId',\n",
        "            'trafficSource.adwordsClickInfo.adNetworkType',\n",
        "            'trafficSource.adwordsClickInfo.isVideoAd',\n",
        "            'trafficSource.adwordsClickInfo.page',\n",
        "            'trafficSource.adwordsClickInfo.slot',\n",
        "            'trafficSource.adContent']:\n",
        "    all_data[col].fillna('unknown', inplace=True)\n",
        "\n",
        "# fillna numeric feature\n",
        "all_data['totals.pageviews'].fillna(1, inplace=True)\n",
        "all_data['totals.newVisits'].fillna(0, inplace=True)\n",
        "all_data['totals.bounces'].fillna(0, inplace=True)\n",
        "all_data['totals.pageviews'] = all_data['totals.pageviews'].astype(int)\n",
        "all_data['totals.newVisits'] = all_data['totals.newVisits'].astype(int)\n",
        "all_data['totals.bounces'] = all_data['totals.bounces'].astype(int)\n",
        "\n",
        "# fillna boolean feature\n",
        "all_data['trafficSource.isTrueDirect'].fillna(False, inplace=True)"
      ],
      "execution_count": 0,
      "outputs": []
    },
    {
      "metadata": {
        "id": "EwJ-d8XHOuB2",
        "colab_type": "code",
        "colab": {}
      },
      "cell_type": "code",
      "source": [
        "# drop constant column\n",
        "constant_column = [col for col in all_data.columns if all_data[col].nunique() == 1]\n",
        "#for c in constant_column:\n",
        "#    print(c + ':', train[c].unique())\n",
        "\n",
        "print('drop columns:', constant_column)\n",
        "all_data.drop(constant_column, axis=1, inplace=True)"
      ],
      "execution_count": 0,
      "outputs": []
    },
    {
      "metadata": {
        "id": "hDJZSUrEOwQZ",
        "colab_type": "code",
        "colab": {}
      },
      "cell_type": "code",
      "source": [
        "# pickup any visitor\n",
        "all_data[all_data['fullVisitorId'] == '7813149961404844386'].sort_values(by='visitNumber')[\n",
        "    ['date','visitId','visitNumber','totals.hits','totals.pageviews']].head(20)"
      ],
      "execution_count": 0,
      "outputs": []
    },
    {
      "metadata": {
        "id": "OMRMWDULOymn",
        "colab_type": "code",
        "colab": {}
      },
      "cell_type": "code",
      "source": [
        "train_rev = all_data[all_data['totals.transactionRevenue'] > 0].copy()\n",
        "print(len(train_rev))\n",
        "train_rev.head()"
      ],
      "execution_count": 0,
      "outputs": []
    },
    {
      "metadata": {
        "id": "U33KtPhcO0qy",
        "colab_type": "code",
        "colab": {}
      },
      "cell_type": "code",
      "source": [
        "def plotCategoryRateBar(a, b, colName, topN=np.nan):\n",
        "    if topN == topN: # isNotNan\n",
        "        vals = b[colName].value_counts()[:topN]\n",
        "        subA = a.loc[a[colName].isin(vals.index.values), colName]\n",
        "        df = pd.DataFrame({'All':subA.value_counts() / len(a), 'Revenue':vals / len(b)})\n",
        "    else:\n",
        "        df = pd.DataFrame({'All':a[colName].value_counts() / len(a), 'Revenue':b[colName].value_counts() / len(b)})\n",
        "    df.sort_values('Revenue').plot.barh()"
      ],
      "execution_count": 0,
      "outputs": []
    },
    {
      "metadata": {
        "id": "gDPuyWE6O35a",
        "colab_type": "code",
        "colab": {}
      },
      "cell_type": "code",
      "source": [
        "format_str = '%Y%m%d'\n",
        "all_data['formated_date'] = all_data['date'].apply(lambda x: datetime.strptime(str(x), format_str))\n",
        "all_data['_year'] = all_data['formated_date'].apply(lambda x:x.year)\n",
        "all_data['_month'] = all_data['formated_date'].apply(lambda x:x.month)\n",
        "all_data['_quarterMonth'] = all_data['formated_date'].apply(lambda x:x.day//8)\n",
        "all_data['_day'] = all_data['formated_date'].apply(lambda x:x.day)\n",
        "all_data['_weekday'] = all_data['formated_date'].apply(lambda x:x.weekday())\n",
        "# remember these features were equal, but not always? May be it means something...\n",
        "all_data[\"_id_incoherence\"] = pd.to_datetime(all_data['visitId'], unit='s') != all_data['formated_date']\n",
        "\n",
        "all_data.drop(['date','formated_date'], axis=1, inplace=True)"
      ],
      "execution_count": 0,
      "outputs": []
    },
    {
      "metadata": {
        "id": "JoEzlwWWO5ls",
        "colab_type": "code",
        "colab": {}
      },
      "cell_type": "code",
      "source": [
        "plotCategoryRateBar(all_data, train_rev, 'channelGrouping')"
      ],
      "execution_count": 0,
      "outputs": []
    },
    {
      "metadata": {
        "id": "uwpcTaXtO8_p",
        "colab_type": "code",
        "colab": {}
      },
      "cell_type": "code",
      "source": [
        "print('train all:', len(train))\n",
        "print('train unique fullVisitorId:', train['fullVisitorId'].nunique())\n",
        "print('train unique visitId:', train['visitId'].nunique())\n",
        "print('-' * 30)\n",
        "print('test all:', len(test))\n",
        "print('test unique fullVisitorId:', test['fullVisitorId'].nunique())\n",
        "print('test unique visitId:', test['visitId'].nunique())\n",
        "\n",
        "#print('common fullVisitorId:', len(pd.merge(train, test, how='inner', on='fullVisitorId'))) # 183434"
      ],
      "execution_count": 0,
      "outputs": []
    },
    {
      "metadata": {
        "id": "XQFRm_SnO_fM",
        "colab_type": "code",
        "colab": {}
      },
      "cell_type": "code",
      "source": [
        "print(all_data['visitNumber'].value_counts()[:5])\n",
        "print('-' * 30)\n",
        "print(all_data['totals.newVisits'].value_counts())\n",
        "print('-' * 30)\n",
        "print(all_data['totals.bounces'].value_counts())"
      ],
      "execution_count": 0,
      "outputs": []
    },
    {
      "metadata": {
        "id": "cDAuEFItPCTU",
        "colab_type": "code",
        "colab": {}
      },
      "cell_type": "code",
      "source": [
        "all_data['_visitStartHour'] = all_data['visitStartTime'].apply(\n",
        "    lambda x: str(datetime.fromtimestamp(x).hour))"
      ],
      "execution_count": 0,
      "outputs": []
    },
    {
      "metadata": {
        "id": "oJcOG5mIPFMy",
        "colab_type": "code",
        "colab": {}
      },
      "cell_type": "code",
      "source": [
        "print('train all sessionId:', len(train['sessionId']))\n",
        "print('train unique sessionId:', train['sessionId'].nunique())"
      ],
      "execution_count": 0,
      "outputs": []
    },
    {
      "metadata": {
        "id": "cxHa0-r6PHFl",
        "colab_type": "code",
        "colab": {}
      },
      "cell_type": "code",
      "source": [
        "print('unique browser count:', train['device.browser'].nunique())\n",
        "plotCategoryRateBar(all_data, train_rev, 'device.browser', 10)"
      ],
      "execution_count": 0,
      "outputs": []
    },
    {
      "metadata": {
        "id": "Pc7rAkxfPJ4r",
        "colab_type": "code",
        "colab": {}
      },
      "cell_type": "code",
      "source": [
        "pd.crosstab(all_data['device.deviceCategory'], all_data['device.isMobile'], margins=False)"
      ],
      "execution_count": 0,
      "outputs": []
    },
    {
      "metadata": {
        "id": "UhFdhfanPMLt",
        "colab_type": "code",
        "colab": {}
      },
      "cell_type": "code",
      "source": [
        "all_data['isMobile'] = True\n",
        "all_data.loc[all_data['device.deviceCategory'] == 'desktop', 'isMobile'] = False"
      ],
      "execution_count": 0,
      "outputs": []
    },
    {
      "metadata": {
        "id": "qiCKwiZvPRvT",
        "colab_type": "code",
        "colab": {}
      },
      "cell_type": "code",
      "source": [
        "print('unique operatingSystem count:', train['device.operatingSystem'].nunique())\n",
        "plotCategoryRateBar(all_data, train_rev, 'device.operatingSystem', 10)"
      ],
      "execution_count": 0,
      "outputs": []
    },
    {
      "metadata": {
        "id": "coF9zaCkPVBp",
        "colab_type": "code",
        "colab": {}
      },
      "cell_type": "code",
      "source": [
        "print('unique geoNetwork.city count:', train['geoNetwork.city'].nunique())\n",
        "plotCategoryRateBar(all_data, train_rev, 'geoNetwork.city', 10)"
      ],
      "execution_count": 0,
      "outputs": []
    },
    {
      "metadata": {
        "id": "J8NHjs3wPV92",
        "colab_type": "code",
        "colab": {}
      },
      "cell_type": "code",
      "source": [
        "print('unique geoNetwork.region count:', train['geoNetwork.region'].nunique())\n",
        "plotCategoryRateBar(all_data, train_rev, 'geoNetwork.region', 10)"
      ],
      "execution_count": 0,
      "outputs": []
    },
    {
      "metadata": {
        "id": "fg_Bm-0TPX1K",
        "colab_type": "code",
        "colab": {}
      },
      "cell_type": "code",
      "source": [
        "print('unique geoNetwork.subContinent count:', train['geoNetwork.subContinent'].nunique())\n",
        "plotCategoryRateBar(all_data, train_rev, 'geoNetwork.subContinent', 10)"
      ],
      "execution_count": 0,
      "outputs": []
    },
    {
      "metadata": {
        "id": "fTlhynpaPZtX",
        "colab_type": "code",
        "colab": {}
      },
      "cell_type": "code",
      "source": [
        "plotCategoryRateBar(all_data, train_rev, 'geoNetwork.continent')"
      ],
      "execution_count": 0,
      "outputs": []
    },
    {
      "metadata": {
        "id": "tIRCsAr8PbiS",
        "colab_type": "code",
        "colab": {}
      },
      "cell_type": "code",
      "source": [
        "print('unique geoNetwork.metro count:', train['geoNetwork.metro'].nunique())\n",
        "plotCategoryRateBar(all_data, train_rev, 'geoNetwork.metro', 10)"
      ],
      "execution_count": 0,
      "outputs": []
    },
    {
      "metadata": {
        "id": "RACk6VFRPeEB",
        "colab_type": "code",
        "colab": {}
      },
      "cell_type": "code",
      "source": [
        "print('unique geoNetwork.networkDomain count:', train['geoNetwork.networkDomain'].nunique())\n",
        "plotCategoryRateBar(all_data, train_rev, 'geoNetwork.networkDomain', 10)"
      ],
      "execution_count": 0,
      "outputs": []
    },
    {
      "metadata": {
        "id": "XzYfKoSmPi56",
        "colab_type": "code",
        "colab": {}
      },
      "cell_type": "code",
      "source": [
        "print(all_data['totals.hits'].value_counts()[:10])\n",
        "\n",
        "all_data['totals.hits'] = all_data['totals.hits'].astype(int)"
      ],
      "execution_count": 0,
      "outputs": []
    },
    {
      "metadata": {
        "id": "QIhwZF1ePlTq",
        "colab_type": "code",
        "colab": {}
      },
      "cell_type": "code",
      "source": [
        "print(all_data['totals.pageviews'].value_counts()[:10])\n",
        "\n",
        "all_data['totals.pageviews'] = all_data['totals.pageviews'].astype(int)"
      ],
      "execution_count": 0,
      "outputs": []
    },
    {
      "metadata": {
        "id": "EpfdmlvoPoPy",
        "colab_type": "code",
        "colab": {}
      },
      "cell_type": "code",
      "source": [
        "print('unique trafficSource.adContent count:', train['trafficSource.adContent'].nunique())\n",
        "\n",
        "plotCategoryRateBar(all_data, train_rev, 'trafficSource.adContent', 10)\n",
        "\n",
        "all_data['_adContentGMC'] = (all_data['trafficSource.adContent'] == 'Google Merchandise Collection').astype(np.uint8)"
      ],
      "execution_count": 0,
      "outputs": []
    },
    {
      "metadata": {
        "id": "miAwUg5KPpOh",
        "colab_type": "code",
        "colab": {}
      },
      "cell_type": "code",
      "source": [
        "print('unique trafficSource.campaign count:', train['trafficSource.campaign'].nunique())\n",
        "plotCategoryRateBar(all_data, train_rev, 'trafficSource.campaign', 10)\n",
        "\n",
        "all_data['_withCampaign'] = (all_data['trafficSource.campaign'] != '(not set)').astype(np.uint8)"
      ],
      "execution_count": 0,
      "outputs": []
    },
    {
      "metadata": {
        "id": "c8j3LerGPs7C",
        "colab_type": "code",
        "colab": {}
      },
      "cell_type": "code",
      "source": [
        "print(all_data['trafficSource.isTrueDirect'].value_counts())\n",
        "plotCategoryRateBar(all_data, train_rev, 'trafficSource.isTrueDirect')"
      ],
      "execution_count": 0,
      "outputs": []
    },
    {
      "metadata": {
        "id": "Llmo_6J5PtrZ",
        "colab_type": "code",
        "colab": {}
      },
      "cell_type": "code",
      "source": [
        "print('unique trafficSource.keyword count:', train['trafficSource.keyword'].nunique())\n",
        "plotCategoryRateBar(all_data, train_rev, 'trafficSource.keyword', 10)"
      ],
      "execution_count": 0,
      "outputs": []
    },
    {
      "metadata": {
        "id": "3eTesjo6Pv3O",
        "colab_type": "code",
        "colab": {}
      },
      "cell_type": "code",
      "source": [
        "print('unique trafficSource.medium count:', train['trafficSource.medium'].nunique())\n",
        "plotCategoryRateBar(all_data, train_rev, 'trafficSource.medium')"
      ],
      "execution_count": 0,
      "outputs": []
    },
    {
      "metadata": {
        "id": "pNrzWqMIPyDY",
        "colab_type": "code",
        "colab": {}
      },
      "cell_type": "code",
      "source": [
        "print('unique trafficSource.referralPath count:', train['trafficSource.referralPath'].nunique())\n",
        "plotCategoryRateBar(all_data, train_rev, 'trafficSource.referralPath', 10)\n",
        "\n",
        "all_data['_referralRoot'] = (all_data['trafficSource.referralPath'] == '/').astype(np.uint8)"
      ],
      "execution_count": 0,
      "outputs": []
    },
    {
      "metadata": {
        "id": "NMeEx3iiP0UF",
        "colab_type": "code",
        "colab": {}
      },
      "cell_type": "code",
      "source": [
        "print('unique trafficSource.source count:', train['trafficSource.source'].nunique())\n",
        "plotCategoryRateBar(all_data, train_rev, 'trafficSource.source', 10)\n",
        "\n",
        "all_data['_sourceGpmall'] = (all_data['trafficSource.source'] == 'mall.googleplex.com').astype(np.uint8)"
      ],
      "execution_count": 0,
      "outputs": []
    },
    {
      "metadata": {
        "id": "OTB56O39P2h9",
        "colab_type": "code",
        "colab": {}
      },
      "cell_type": "code",
      "source": [
        "_='''\n",
        "'''\n",
        "all_data['_meanHitsPerDay'] = all_data.groupby(['_day'])['totals.hits'].transform('mean')\n",
        "all_data['_meanHitsPerWeekday'] = all_data.groupby(['_weekday'])['totals.hits'].transform('mean')\n",
        "all_data['_meanHitsPerMonth'] = all_data.groupby(['_month'])['totals.hits'].transform('mean')\n",
        "all_data['_sumHitsPerDay'] = all_data.groupby(['_day'])['totals.hits'].transform('sum')\n",
        "all_data['_sumHitsPerWeekday'] = all_data.groupby(['_weekday'])['totals.hits'].transform('sum')\n",
        "all_data['_sumHitsPerMonth'] = all_data.groupby(['_month'])['totals.hits'].transform('sum')\n",
        "\n",
        "for feature in ['totals.hits', 'totals.pageviews']:\n",
        "    info = all_data.groupby('fullVisitorId')[feature].mean()\n",
        "    all_data['_usermean_' + feature] = all_data.fullVisitorId.map(info)\n",
        "    \n",
        "for feature in ['visitNumber']:\n",
        "    info = all_data.groupby('fullVisitorId')[feature].max()\n",
        "    all_data['_usermax_' + feature] = all_data.fullVisitorId.map(info)"
      ],
      "execution_count": 0,
      "outputs": []
    },
    {
      "metadata": {
        "id": "4dPz1zxoP6bo",
        "colab_type": "code",
        "colab": {}
      },
      "cell_type": "code",
      "source": [
        "# remember visitId dublicates?\n",
        "all_data['_visitId_dublicates'] = all_data['visitId'].map(all_data['visitId'].value_counts())\n",
        "# remember session dublicates?\n",
        "all_data['_session_dublicates'] = all_data['sessionId'].map(all_data['sessionId'].value_counts())"
      ],
      "execution_count": 0,
      "outputs": []
    },
    {
      "metadata": {
        "id": "He0gfsM9P-dF",
        "colab_type": "code",
        "colab": {}
      },
      "cell_type": "code",
      "source": [
        "all_data['_source.country'] = all_data['trafficSource.source'] + '_' + all_data['geoNetwork.country']\n",
        "all_data['_campaign.medium'] = all_data['trafficSource.campaign'] + '_' + all_data['trafficSource.medium']\n",
        "all_data['_browser.category'] = all_data['device.browser'] + '_' + all_data['device.deviceCategory']\n",
        "all_data['_browser.os'] = all_data['device.browser'] + '_' + all_data['device.operatingSystem']\n"
      ],
      "execution_count": 0,
      "outputs": []
    },
    {
      "metadata": {
        "id": "qB-mcYfMP_Dw",
        "colab_type": "code",
        "colab": {}
      },
      "cell_type": "code",
      "source": [
        "null_cnt = all_data.isnull().sum().sort_values()\n",
        "print(null_cnt[null_cnt > 0])"
      ],
      "execution_count": 0,
      "outputs": []
    },
    {
      "metadata": {
        "id": "KlF2zzhJQBmH",
        "colab_type": "code",
        "colab": {}
      },
      "cell_type": "code",
      "source": [
        "all_data.drop([\n",
        "    'sessionId','visitId','visitStartTime',\n",
        "    'trafficSource.adwordsClickInfo.adNetworkType',\n",
        "    'trafficSource.adwordsClickInfo.gclId',\n",
        "    'trafficSource.adwordsClickInfo.page',\n",
        "    'trafficSource.adwordsClickInfo.slot'],axis=1,inplace=True)\n",
        "\n",
        "for i, t in all_data.loc[:, all_data.columns != 'fullVisitorId'].dtypes.iteritems():\n",
        "    if t == object:\n",
        "        all_data[i].fillna('unknown', inplace=True)\n",
        "        all_data[i] = pd.factorize(all_data[i])[0]\n",
        "        #all_data[i] = all_data[i].astype('category')"
      ],
      "execution_count": 0,
      "outputs": []
    },
    {
      "metadata": {
        "id": "SvOW6KX2QEdP",
        "colab_type": "code",
        "colab": {}
      },
      "cell_type": "code",
      "source": [
        "all_data.info()"
      ],
      "execution_count": 0,
      "outputs": []
    },
    {
      "metadata": {
        "id": "QGYZOWQsQJX0",
        "colab_type": "code",
        "colab": {}
      },
      "cell_type": "code",
      "source": [
        "train = all_data[all_data['totals.transactionRevenue'].notnull()]\n",
        "test = all_data[all_data['totals.transactionRevenue'].isnull()].drop(['totals.transactionRevenue'], axis=1)"
      ],
      "execution_count": 0,
      "outputs": []
    },
    {
      "metadata": {
        "id": "jEAuUyIZQLns",
        "colab_type": "code",
        "colab": {}
      },
      "cell_type": "code",
      "source": [
        "train_id = train['fullVisitorId']\n",
        "test_id = test['fullVisitorId']\n",
        "\n",
        "Y_train_reg = train.pop('totals.transactionRevenue')\n",
        "#Y_train_cls = (Y_train_reg.fillna(0) > 0).astype(np.uint8)\n",
        "X_train = train.drop(['fullVisitorId'], axis=1)\n",
        "X_test  = test.drop(['fullVisitorId'], axis=1)\n",
        "\n",
        "print(X_train.shape, X_test.shape)"
      ],
      "execution_count": 0,
      "outputs": []
    },
    {
      "metadata": {
        "id": "HspFw7I5QMQj",
        "colab_type": "code",
        "colab": {}
      },
      "cell_type": "code",
      "source": [
        "import sys\n",
        "import gc\n",
        "\n",
        "del all_data, train, test, train_rev\n",
        "gc.collect()\n",
        "\n",
        "print(pd.DataFrame([[val for val in dir()], [sys.getsizeof(eval(val)) for val in dir()]],\n",
        "                   index=['name','size']).T.sort_values('size', ascending=False).reset_index(drop=True)[:10])"
      ],
      "execution_count": 0,
      "outputs": []
    },
    {
      "metadata": {
        "id": "HJWe0KDbQQ8P",
        "colab_type": "code",
        "colab": {}
      },
      "cell_type": "code",
      "source": [
        "from sklearn.model_selection import StratifiedKFold, GroupKFold\n",
        "from sklearn.metrics import roc_auc_score\n",
        "import lightgbm as lgb"
      ],
      "execution_count": 0,
      "outputs": []
    },
    {
      "metadata": {
        "id": "wO240-LeQRpg",
        "colab_type": "code",
        "colab": {}
      },
      "cell_type": "code",
      "source": [
        "params={'learning_rate': 0.03,\n",
        "        'objective':'regression',\n",
        "        'metric':'rmse',\n",
        "        'num_leaves': 31,\n",
        "        'verbose': 1,\n",
        "        'random_state':42,\n",
        "        'bagging_fraction': 0.9,\n",
        "        'feature_fraction': 0.9\n",
        "       }\n",
        "\n",
        "folds = GroupKFold(n_splits=5)\n",
        "\n",
        "oof_preds = np.zeros(X_train.shape[0])\n",
        "sub_preds = np.zeros(X_test.shape[0])\n",
        "for fold_, (trn_, val_) in enumerate(folds.split(X_train, Y_train_reg, groups=train_id)):\n",
        "    trn_x, trn_y = X_train.iloc[trn_], Y_train_reg.iloc[trn_]\n",
        "    val_x, val_y = X_train.iloc[val_], Y_train_reg.iloc[val_]\n",
        "    \n",
        "    reg = lgb.LGBMRegressor(**params, n_estimators=3000)\n",
        "    reg.fit(trn_x, trn_y, eval_set=[(val_x, val_y)], early_stopping_rounds=50, verbose=500)\n",
        "    \n",
        "    oof_preds[val_] = reg.predict(val_x, num_iteration=reg.best_iteration_)\n",
        "    sub_preds += reg.predict(X_test, num_iteration=reg.best_iteration_) / folds.n_splits\n",
        "\n",
        "pred = sub_preds"
      ],
      "execution_count": 0,
      "outputs": []
    },
    {
      "metadata": {
        "id": "LkV94fF7QT73",
        "colab_type": "code",
        "colab": {}
      },
      "cell_type": "code",
      "source": [
        "# Plot feature importance\n",
        "feature_importance = reg.feature_importances_[:20]\n",
        "feature_importance = 100.0 * (feature_importance / feature_importance.max())\n",
        "sorted_idx = np.argsort(feature_importance)\n",
        "pos = np.arange(sorted_idx.shape[0]) + .5\n",
        "\n",
        "plt.figure(figsize=(12,6))\n",
        "plt.barh(pos, feature_importance[sorted_idx], align='center')\n",
        "plt.yticks(pos, X_train.columns[sorted_idx])\n",
        "plt.xlabel('Relative Importance')\n",
        "plt.title('Variable Importance')\n",
        "plt.show()"
      ],
      "execution_count": 0,
      "outputs": []
    },
    {
      "metadata": {
        "id": "iAPUr6WyQWjn",
        "colab_type": "code",
        "colab": {}
      },
      "cell_type": "code",
      "source": [
        "submission = pd.DataFrame({'fullVisitorId':test_id, 'PredictedLogRevenue':pred})\n",
        "\n",
        "submission[\"PredictedLogRevenue\"] = np.expm1(submission[\"PredictedLogRevenue\"])\n",
        "submission[\"PredictedLogRevenue\"] = submission[\"PredictedLogRevenue\"].apply(lambda x : 0.0 if x < 0 else x)\n",
        "submission[\"PredictedLogRevenue\"] = submission[\"PredictedLogRevenue\"].fillna(0.0)\n",
        "\n",
        "submission_sum = submission[['fullVisitorId', 'PredictedLogRevenue']].groupby('fullVisitorId').sum().reset_index()\n",
        "submission_sum[\"PredictedLogRevenue\"] = np.log1p(submission_sum[\"PredictedLogRevenue\"])\n",
        "submission_sum.to_csv(\"submission.csv\", index=False)\n",
        "submission_sum.head(20)"
      ],
      "execution_count": 0,
      "outputs": []
    },
    {
      "metadata": {
        "id": "9DhMbOMNQYf8",
        "colab_type": "code",
        "colab": {}
      },
      "cell_type": "code",
      "source": [
        "submission_sum['PredictedLogRevenue'].describe()"
      ],
      "execution_count": 0,
      "outputs": []
    }
  ]
}