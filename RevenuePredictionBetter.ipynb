{
  "nbformat": 4,
  "nbformat_minor": 0,
  "metadata": {
    "colab": {
      "name": "RevenuePredictionBetter.ipynb",
      "version": "0.3.2",
      "provenance": [],
      "include_colab_link": true
    },
    "kernelspec": {
      "name": "python3",
      "display_name": "Python 3"
    }
  },
  "cells": [
    {
      "cell_type": "markdown",
      "metadata": {
        "id": "view-in-github",
        "colab_type": "text"
      },
      "source": [
        "<a href=\"https://colab.research.google.com/github/vi-shruti/Kaggle/blob/master/RevenuePredictionBetter.ipynb\" target=\"_parent\"><img src=\"https://colab.research.google.com/assets/colab-badge.svg\" alt=\"Open In Colab\"/></a>"
      ]
    },
    {
      "metadata": {
        "id": "R0JUuQQgNum_",
        "colab_type": "code",
        "colab": {}
      },
      "cell_type": "code",
      "source": [
        "import pandas as pd\n",
        "import numpy as np\n",
        "import matplotlib.pyplot as plt\n",
        "import seaborn as sns\n",
        "import json\n",
        "import gc\n",
        "import sys\n",
        "import math\n",
        "\n",
        "from pandas.io.json import json_normalize\n",
        "from datetime import datetime\n",
        "\n",
        "import os\n",
        "print(os.listdir(\"../input\"))"
      ],
      "execution_count": 0,
      "outputs": []
    },
    {
      "metadata": {
        "id": "gPG6a0FnOOOW",
        "colab_type": "code",
        "colab": {}
      },
      "cell_type": "code",
      "source": [
        "from google.colab import drive\n",
        "drive.mount('/content/drive')\n",
        "os.chdir(\"/content/drive/My Drive\")"
      ],
      "execution_count": 0,
      "outputs": []
    },
    {
      "metadata": {
        "id": "IK1rJh_oN6la",
        "colab_type": "code",
        "colab": {}
      },
      "cell_type": "code",
      "source": [
        "def load_df(csv_path, nrows=None):\n",
        "    JSON_COLUMNS = ['device', 'geoNetwork', 'totals', 'trafficSource']\n",
        "    \n",
        "    df = pd.read_csv(csv_path, \n",
        "                     converters={column: json.loads for column in JSON_COLUMNS}, \n",
        "                     dtype={'fullVisitorId': 'str'}, # Important!!\n",
        "                     nrows=nrows)\n",
        "    \n",
        "    for column in JSON_COLUMNS:\n",
        "        column_as_df = json_normalize(df[column])\n",
        "        column_as_df.columns = [f\"{column}.{subcolumn}\" for subcolumn in column_as_df.columns]\n",
        "        df = df.drop(column, axis=1).merge(column_as_df, right_index=True, left_index=True)\n",
        "    print(f\"Loaded {os.path.basename(csv_path)}. Shape: {df.shape}\")\n",
        "    return df"
      ],
      "execution_count": 0,
      "outputs": []
    },
    {
      "metadata": {
        "id": "wkl18ABZN7cB",
        "colab_type": "code",
        "colab": {}
      },
      "cell_type": "code",
      "source": [
        "%%time\n",
        "train = load_df('..My Drive/train.csv')\n",
        "test = load_df('..My Drive/test.csv')\n",
        "\n",
        "print('train date:', min(train['date']), 'to', max(train['date']))\n",
        "print('test date:', min(test['date']), 'to', max(test['date']))"
      ],
      "execution_count": 0,
      "outputs": []
    },
    {
      "metadata": {
        "id": "n1UDcRzjN-G2",
        "colab_type": "code",
        "colab": {}
      },
      "cell_type": "code",
      "source": [
        "# only train feature\n",
        "for c in train.columns.values:\n",
        "    if c not in test.columns.values: print(c)"
      ],
      "execution_count": 0,
      "outputs": []
    },
    {
      "metadata": {
        "id": "pc6FGY92OdeU",
        "colab_type": "code",
        "colab": {}
      },
      "cell_type": "code",
      "source": [
        "train['totals.transactionRevenue'].fillna(0, inplace=True)\n",
        "train['totals.transactionRevenue'] = np.log1p(train['totals.transactionRevenue'].astype(float))\n",
        "print(train['totals.transactionRevenue'].describe())"
      ],
      "execution_count": 0,
      "outputs": []
    },
    {
      "metadata": {
        "id": "BY4k_Z3iOfcQ",
        "colab_type": "code",
        "colab": {}
      },
      "cell_type": "code",
      "source": [
        "all_data = train.append(test, sort=False).reset_index(drop=True)\n",
        "print(all_data.info())"
      ],
      "execution_count": 0,
      "outputs": []
    },
    {
      "metadata": {
        "id": "jZhSUG9JOj2p",
        "colab_type": "code",
        "colab": {}
      },
      "cell_type": "code",
      "source": [
        "null_cnt = train.isnull().sum().sort_values()\n",
        "print(null_cnt[null_cnt > 0])"
      ],
      "execution_count": 0,
      "outputs": []
    },
    {
      "metadata": {
        "id": "SZnShrBPOklf",
        "colab_type": "code",
        "colab": {}
      },
      "cell_type": "code",
      "source": [
        "# fillna object feature\n",
        "for col in ['trafficSource.keyword',\n",
        "            'trafficSource.referralPath',\n",
        "            'trafficSource.adwordsClickInfo.gclId',\n",
        "            'trafficSource.adwordsClickInfo.adNetworkType',\n",
        "            'trafficSource.adwordsClickInfo.isVideoAd',\n",
        "            'trafficSource.adwordsClickInfo.page',\n",
        "            'trafficSource.adwordsClickInfo.slot',\n",
        "            'trafficSource.adContent']:\n",
        "    all_data[col].fillna('unknown', inplace=True)\n",
        "\n",
        "# fillna numeric feature\n",
        "all_data['totals.pageviews'].fillna(1, inplace=True)\n",
        "all_data['totals.newVisits'].fillna(0, inplace=True)\n",
        "all_data['totals.bounces'].fillna(0, inplace=True)\n",
        "all_data['totals.pageviews'] = all_data['totals.pageviews'].astype(int)\n",
        "all_data['totals.newVisits'] = all_data['totals.newVisits'].astype(int)\n",
        "all_data['totals.bounces'] = all_data['totals.bounces'].astype(int)\n",
        "\n",
        "# fillna boolean feature\n",
        "all_data['trafficSource.isTrueDirect'].fillna(False, inplace=True)"
      ],
      "execution_count": 0,
      "outputs": []
    }
  ]
}