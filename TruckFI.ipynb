{
  "nbformat": 4,
  "nbformat_minor": 0,
  "metadata": {
    "colab": {
      "name": "TruckFI.ipynb",
      "version": "0.3.2",
      "provenance": [],
      "collapsed_sections": [],
      "include_colab_link": true
    },
    "kernelspec": {
      "name": "python3",
      "display_name": "Python 3"
    }
  },
  "cells": [
    {
      "cell_type": "markdown",
      "metadata": {
        "id": "view-in-github",
        "colab_type": "text"
      },
      "source": [
        "<a href=\"https://colab.research.google.com/github/vi-shruti/Kaggle/blob/master/TruckFI.ipynb\" target=\"_parent\"><img src=\"https://colab.research.google.com/assets/colab-badge.svg\" alt=\"Open In Colab\"/></a>"
      ]
    },
    {
      "metadata": {
        "id": "kbAKjOfE5Rjh",
        "colab_type": "code",
        "outputId": "79040175-9dcd-470f-cbcf-0f9f5d773aa7",
        "colab": {
          "base_uri": "https://localhost:8080/",
          "height": 35
        }
      },
      "cell_type": "code",
      "source": [
        "import pandas as pd\n",
        "import numpy as np\n",
        "import matplotlib.pyplot as plt\n",
        "import seaborn as sns\n",
        "import json\n",
        "import gc\n",
        "import sys\n",
        "import math\n",
        "\n",
        "from pandas.io.json import json_normalize\n",
        "from datetime import datetime\n",
        "\n",
        "!pip install xlrd\n",
        "import xlrd\n",
        "\n",
        "import os\n",
        "\n",
        "from pandas import Series, DataFrame, Panel\n",
        "pd.set_option('display.max_rows',15)\n",
        "\n",
        "pd.options.mode.chained_assignment = None\n",
        "pd.options.display.max_columns = 999\n",
        "gc.enable()"
      ],
      "execution_count": 0,
      "outputs": [
        {
          "output_type": "stream",
          "text": [
            "Requirement already satisfied: xlrd in /usr/local/lib/python3.6/dist-packages (1.1.0)\n"
          ],
          "name": "stdout"
        }
      ]
    },
    {
      "metadata": {
        "id": "XupbhIg3Vz6B",
        "colab_type": "code",
        "outputId": "d0239087-5ba7-4afa-cee4-a624ca966da6",
        "colab": {
          "base_uri": "https://localhost:8080/",
          "height": 124
        }
      },
      "cell_type": "code",
      "source": [
        "from google.colab import drive\n",
        "drive.mount('/content/drive')\n",
        "os.chdir(\"/content/drive/My Drive\")"
      ],
      "execution_count": 0,
      "outputs": [
        {
          "output_type": "stream",
          "text": [
            "Go to this URL in a browser: https://accounts.google.com/o/oauth2/auth?client_id=947318989803-6bn6qk8qdgf4n4g3pfee6491hc0brc4i.apps.googleusercontent.com&redirect_uri=urn%3Aietf%3Awg%3Aoauth%3A2.0%3Aoob&scope=email%20https%3A%2F%2Fwww.googleapis.com%2Fauth%2Fdocs.test%20https%3A%2F%2Fwww.googleapis.com%2Fauth%2Fdrive%20https%3A%2F%2Fwww.googleapis.com%2Fauth%2Fdrive.photos.readonly%20https%3A%2F%2Fwww.googleapis.com%2Fauth%2Fpeopleapi.readonly&response_type=code\n",
            "\n",
            "Enter your authorization code:\n",
            "··········\n",
            "Mounted at /content/drive\n"
          ],
          "name": "stdout"
        }
      ]
    },
    {
      "metadata": {
        "id": "Wa85TZpeV0lO",
        "colab_type": "code",
        "outputId": "ba161215-1528-4d3a-daf7-d75495a56b68",
        "colab": {
          "base_uri": "https://localhost:8080/",
          "height": 52
        }
      },
      "cell_type": "code",
      "source": [
        "%%time\n",
        "df = pd.read_excel('../My Drive/PeopleNetFaultCodes20181206.xlsx')"
      ],
      "execution_count": 0,
      "outputs": [
        {
          "output_type": "stream",
          "text": [
            "CPU times: user 682 ms, sys: 51.5 ms, total: 734 ms\n",
            "Wall time: 1.73 s\n"
          ],
          "name": "stdout"
        }
      ]
    },
    {
      "metadata": {
        "id": "YdPgSGhVV5XR",
        "colab_type": "code",
        "outputId": "d9b80574-7019-484e-ab5d-97fb4f693d17",
        "colab": {
          "base_uri": "https://localhost:8080/",
          "height": 309
        }
      },
      "cell_type": "code",
      "source": [
        "df.head()"
      ],
      "execution_count": 0,
      "outputs": [
        {
          "output_type": "execute_result",
          "data": {
            "text/html": [
              "<div>\n",
              "<style scoped>\n",
              "    .dataframe tbody tr th:only-of-type {\n",
              "        vertical-align: middle;\n",
              "    }\n",
              "\n",
              "    .dataframe tbody tr th {\n",
              "        vertical-align: top;\n",
              "    }\n",
              "\n",
              "    .dataframe thead th {\n",
              "        text-align: right;\n",
              "    }\n",
              "</style>\n",
              "<table border=\"1\" class=\"dataframe\">\n",
              "  <thead>\n",
              "    <tr style=\"text-align: right;\">\n",
              "      <th></th>\n",
              "      <th>uniqkey</th>\n",
              "      <th>status</th>\n",
              "      <th>userstatus1</th>\n",
              "      <th>userstatus2</th>\n",
              "      <th>cid</th>\n",
              "      <th>insert_datetime</th>\n",
              "      <th>update_datetime</th>\n",
              "      <th>updatekey</th>\n",
              "      <th>o_version</th>\n",
              "      <th>o_type</th>\n",
              "      <th>o_cid</th>\n",
              "      <th>o_fctype</th>\n",
              "      <th>o_senddate_gmt</th>\n",
              "      <th>o_senddate_local</th>\n",
              "      <th>o_vehicle_number</th>\n",
              "      <th>o_vin</th>\n",
              "      <th>o_dsn</th>\n",
              "      <th>o_pfmdriverid</th>\n",
              "      <th>o_fcmid</th>\n",
              "      <th>o_fcpidsid</th>\n",
              "      <th>o_fccode</th>\n",
              "      <th>o_fcsa</th>\n",
              "      <th>o_fcspn</th>\n",
              "      <th>o_fcfmi</th>\n",
              "      <th>o_triggerdate_gmt</th>\n",
              "      <th>o_triggerdate_local</th>\n",
              "      <th>o_urgentflag</th>\n",
              "      <th>o_fcodometer</th>\n",
              "      <th>o_fcrpm</th>\n",
              "      <th>o_fcspeed</th>\n",
              "      <th>o_occurrencecount</th>\n",
              "      <th>o_cruisestatus</th>\n",
              "      <th>o_ignitionstatus</th>\n",
              "      <th>o_gpsquality</th>\n",
              "      <th>o_latitude</th>\n",
              "      <th>o_longitude</th>\n",
              "      <th>c_version</th>\n",
              "      <th>c_type</th>\n",
              "      <th>c_cid</th>\n",
              "      <th>c_fctype</th>\n",
              "      <th>c_senddate_gmt</th>\n",
              "      <th>c_senddate_local</th>\n",
              "      <th>c_vehicle_number</th>\n",
              "      <th>c_dsn</th>\n",
              "      <th>c_pfmdriverid</th>\n",
              "      <th>c_fcmid</th>\n",
              "      <th>c_fcpidsid</th>\n",
              "      <th>c_fccode</th>\n",
              "      <th>c_fcsa</th>\n",
              "      <th>c_fcspn</th>\n",
              "      <th>c_fcfmi</th>\n",
              "      <th>c_cleareddate_gmt</th>\n",
              "      <th>c_cleareddate_local</th>\n",
              "      <th>c_clearedactionid</th>\n",
              "      <th>c_clearedactiondesc</th>\n",
              "    </tr>\n",
              "  </thead>\n",
              "  <tbody>\n",
              "    <tr>\n",
              "      <th>0</th>\n",
              "      <td>1543524341104</td>\n",
              "      <td>1</td>\n",
              "      <td>0</td>\n",
              "      <td>0</td>\n",
              "      <td>4477</td>\n",
              "      <td>2018-11-29 14:45:41</td>\n",
              "      <td>2018-12-06 15:20:20</td>\n",
              "      <td>1544131220232</td>\n",
              "      <td>1</td>\n",
              "      <td>Fault Codes</td>\n",
              "      <td>4477</td>\n",
              "      <td>2</td>\n",
              "      <td>2018-11-29 20:42:00</td>\n",
              "      <td>2018-11-29 14:42:00</td>\n",
              "      <td>940899</td>\n",
              "      <td>1XKDD49X6CJ333576</td>\n",
              "      <td>1674724</td>\n",
              "      <td>0</td>\n",
              "      <td>-1</td>\n",
              "      <td>-1</td>\n",
              "      <td>-1</td>\n",
              "      <td>49</td>\n",
              "      <td>2863</td>\n",
              "      <td>2</td>\n",
              "      <td>2018-11-29 20:41:57</td>\n",
              "      <td>2018-11-29 14:41:57</td>\n",
              "      <td>0</td>\n",
              "      <td>67262.0</td>\n",
              "      <td>1265</td>\n",
              "      <td>0.0</td>\n",
              "      <td>126</td>\n",
              "      <td>0</td>\n",
              "      <td>1</td>\n",
              "      <td>1</td>\n",
              "      <td>31.436558</td>\n",
              "      <td>-102.367120</td>\n",
              "      <td>1</td>\n",
              "      <td>Fault Codes</td>\n",
              "      <td>4477</td>\n",
              "      <td>3</td>\n",
              "      <td>2018-12-06 21:19:27</td>\n",
              "      <td>2018-12-06 15:19:27</td>\n",
              "      <td>940899</td>\n",
              "      <td>1674724</td>\n",
              "      <td>-1</td>\n",
              "      <td>-1</td>\n",
              "      <td>-1</td>\n",
              "      <td>-1</td>\n",
              "      <td>49</td>\n",
              "      <td>2863</td>\n",
              "      <td>2</td>\n",
              "      <td>2018-12-06 20:50:49</td>\n",
              "      <td>2018-12-06 14:50:49</td>\n",
              "      <td>1</td>\n",
              "      <td>AutoClear                                     ...</td>\n",
              "    </tr>\n",
              "    <tr>\n",
              "      <th>1</th>\n",
              "      <td>1543533022129</td>\n",
              "      <td>1</td>\n",
              "      <td>0</td>\n",
              "      <td>0</td>\n",
              "      <td>4477</td>\n",
              "      <td>2018-11-29 17:10:22</td>\n",
              "      <td>2018-12-06 15:10:18</td>\n",
              "      <td>1544130618133</td>\n",
              "      <td>1</td>\n",
              "      <td>Fault Codes</td>\n",
              "      <td>4477</td>\n",
              "      <td>2</td>\n",
              "      <td>2018-11-29 23:10:07</td>\n",
              "      <td>2018-11-29 17:10:07</td>\n",
              "      <td>940416</td>\n",
              "      <td>1M2AX07Y8CM011445</td>\n",
              "      <td>1710074</td>\n",
              "      <td>0</td>\n",
              "      <td>-1</td>\n",
              "      <td>-1</td>\n",
              "      <td>-1</td>\n",
              "      <td>0</td>\n",
              "      <td>647</td>\n",
              "      <td>5</td>\n",
              "      <td>2018-11-29 20:52:26</td>\n",
              "      <td>2018-11-29 14:52:26</td>\n",
              "      <td>0</td>\n",
              "      <td>287351.1</td>\n",
              "      <td>647</td>\n",
              "      <td>2.0</td>\n",
              "      <td>1</td>\n",
              "      <td>0</td>\n",
              "      <td>1</td>\n",
              "      <td>1</td>\n",
              "      <td>35.423864</td>\n",
              "      <td>-99.910157</td>\n",
              "      <td>1</td>\n",
              "      <td>Fault Codes</td>\n",
              "      <td>4477</td>\n",
              "      <td>3</td>\n",
              "      <td>2018-12-06 21:10:10</td>\n",
              "      <td>2018-12-06 15:10:10</td>\n",
              "      <td>940416</td>\n",
              "      <td>1710074</td>\n",
              "      <td>-1</td>\n",
              "      <td>-1</td>\n",
              "      <td>-1</td>\n",
              "      <td>-1</td>\n",
              "      <td>0</td>\n",
              "      <td>647</td>\n",
              "      <td>5</td>\n",
              "      <td>2018-12-06 21:03:51</td>\n",
              "      <td>2018-12-06 15:03:51</td>\n",
              "      <td>1</td>\n",
              "      <td>AutoClear                                     ...</td>\n",
              "    </tr>\n",
              "    <tr>\n",
              "      <th>2</th>\n",
              "      <td>1543533022175</td>\n",
              "      <td>1</td>\n",
              "      <td>0</td>\n",
              "      <td>0</td>\n",
              "      <td>4477</td>\n",
              "      <td>2018-11-29 17:10:22</td>\n",
              "      <td>2018-12-06 15:10:18</td>\n",
              "      <td>1544130618050</td>\n",
              "      <td>1</td>\n",
              "      <td>Fault Codes</td>\n",
              "      <td>4477</td>\n",
              "      <td>0</td>\n",
              "      <td>2018-11-29 23:10:07</td>\n",
              "      <td>2018-11-29 17:10:07</td>\n",
              "      <td>940416</td>\n",
              "      <td>1M2AX07Y8CM011445</td>\n",
              "      <td>1710074</td>\n",
              "      <td>0</td>\n",
              "      <td>128</td>\n",
              "      <td>1</td>\n",
              "      <td>33</td>\n",
              "      <td>-1</td>\n",
              "      <td>-1</td>\n",
              "      <td>5</td>\n",
              "      <td>2018-11-29 20:52:26</td>\n",
              "      <td>2018-11-29 14:52:26</td>\n",
              "      <td>0</td>\n",
              "      <td>287351.1</td>\n",
              "      <td>647</td>\n",
              "      <td>2.0</td>\n",
              "      <td>-1</td>\n",
              "      <td>0</td>\n",
              "      <td>1</td>\n",
              "      <td>1</td>\n",
              "      <td>35.423864</td>\n",
              "      <td>-99.910157</td>\n",
              "      <td>1</td>\n",
              "      <td>Fault Codes</td>\n",
              "      <td>4477</td>\n",
              "      <td>1</td>\n",
              "      <td>2018-12-06 21:10:10</td>\n",
              "      <td>2018-12-06 15:10:10</td>\n",
              "      <td>940416</td>\n",
              "      <td>1710074</td>\n",
              "      <td>-1</td>\n",
              "      <td>128</td>\n",
              "      <td>1</td>\n",
              "      <td>33</td>\n",
              "      <td>-1</td>\n",
              "      <td>-1</td>\n",
              "      <td>5</td>\n",
              "      <td>2018-12-06 21:03:51</td>\n",
              "      <td>2018-12-06 15:03:51</td>\n",
              "      <td>1</td>\n",
              "      <td>AutoClear                                     ...</td>\n",
              "    </tr>\n",
              "    <tr>\n",
              "      <th>3</th>\n",
              "      <td>1543533022514</td>\n",
              "      <td>1</td>\n",
              "      <td>0</td>\n",
              "      <td>0</td>\n",
              "      <td>4477</td>\n",
              "      <td>2018-11-29 17:10:22</td>\n",
              "      <td>2018-12-06 15:10:18</td>\n",
              "      <td>1544130618223</td>\n",
              "      <td>1</td>\n",
              "      <td>Fault Codes</td>\n",
              "      <td>4477</td>\n",
              "      <td>2</td>\n",
              "      <td>2018-11-29 23:10:07</td>\n",
              "      <td>2018-11-29 17:10:07</td>\n",
              "      <td>940416</td>\n",
              "      <td>1M2AX07Y8CM011445</td>\n",
              "      <td>1710074</td>\n",
              "      <td>0</td>\n",
              "      <td>-1</td>\n",
              "      <td>-1</td>\n",
              "      <td>-1</td>\n",
              "      <td>0</td>\n",
              "      <td>975</td>\n",
              "      <td>3</td>\n",
              "      <td>2018-11-29 20:52:26</td>\n",
              "      <td>2018-11-29 14:52:26</td>\n",
              "      <td>0</td>\n",
              "      <td>287351.1</td>\n",
              "      <td>647</td>\n",
              "      <td>2.0</td>\n",
              "      <td>1</td>\n",
              "      <td>0</td>\n",
              "      <td>1</td>\n",
              "      <td>1</td>\n",
              "      <td>35.423864</td>\n",
              "      <td>-99.910157</td>\n",
              "      <td>1</td>\n",
              "      <td>Fault Codes</td>\n",
              "      <td>4477</td>\n",
              "      <td>3</td>\n",
              "      <td>2018-12-06 21:10:10</td>\n",
              "      <td>2018-12-06 15:10:10</td>\n",
              "      <td>940416</td>\n",
              "      <td>1710074</td>\n",
              "      <td>-1</td>\n",
              "      <td>-1</td>\n",
              "      <td>-1</td>\n",
              "      <td>-1</td>\n",
              "      <td>0</td>\n",
              "      <td>975</td>\n",
              "      <td>3</td>\n",
              "      <td>2018-12-06 21:03:51</td>\n",
              "      <td>2018-12-06 15:03:51</td>\n",
              "      <td>1</td>\n",
              "      <td>AutoClear                                     ...</td>\n",
              "    </tr>\n",
              "    <tr>\n",
              "      <th>4</th>\n",
              "      <td>1543533022464</td>\n",
              "      <td>1</td>\n",
              "      <td>0</td>\n",
              "      <td>0</td>\n",
              "      <td>4477</td>\n",
              "      <td>2018-11-29 17:10:22</td>\n",
              "      <td>2018-12-06 15:10:17</td>\n",
              "      <td>1544130617816</td>\n",
              "      <td>1</td>\n",
              "      <td>Fault Codes</td>\n",
              "      <td>4477</td>\n",
              "      <td>0</td>\n",
              "      <td>2018-11-29 23:10:07</td>\n",
              "      <td>2018-11-29 17:10:07</td>\n",
              "      <td>940416</td>\n",
              "      <td>1M2AX07Y8CM011445</td>\n",
              "      <td>1710074</td>\n",
              "      <td>0</td>\n",
              "      <td>128</td>\n",
              "      <td>0</td>\n",
              "      <td>26</td>\n",
              "      <td>-1</td>\n",
              "      <td>-1</td>\n",
              "      <td>3</td>\n",
              "      <td>2018-11-29 20:52:26</td>\n",
              "      <td>2018-11-29 14:52:26</td>\n",
              "      <td>0</td>\n",
              "      <td>287351.1</td>\n",
              "      <td>647</td>\n",
              "      <td>2.0</td>\n",
              "      <td>-1</td>\n",
              "      <td>0</td>\n",
              "      <td>1</td>\n",
              "      <td>1</td>\n",
              "      <td>35.423864</td>\n",
              "      <td>-99.910157</td>\n",
              "      <td>1</td>\n",
              "      <td>Fault Codes</td>\n",
              "      <td>4477</td>\n",
              "      <td>1</td>\n",
              "      <td>2018-12-06 21:10:10</td>\n",
              "      <td>2018-12-06 15:10:10</td>\n",
              "      <td>940416</td>\n",
              "      <td>1710074</td>\n",
              "      <td>-1</td>\n",
              "      <td>128</td>\n",
              "      <td>0</td>\n",
              "      <td>26</td>\n",
              "      <td>-1</td>\n",
              "      <td>-1</td>\n",
              "      <td>3</td>\n",
              "      <td>2018-12-06 21:03:51</td>\n",
              "      <td>2018-12-06 15:03:51</td>\n",
              "      <td>1</td>\n",
              "      <td>AutoClear                                     ...</td>\n",
              "    </tr>\n",
              "  </tbody>\n",
              "</table>\n",
              "</div>"
            ],
            "text/plain": [
              "         uniqkey  status  userstatus1  userstatus2   cid     insert_datetime  \\\n",
              "0  1543524341104       1            0            0  4477 2018-11-29 14:45:41   \n",
              "1  1543533022129       1            0            0  4477 2018-11-29 17:10:22   \n",
              "2  1543533022175       1            0            0  4477 2018-11-29 17:10:22   \n",
              "3  1543533022514       1            0            0  4477 2018-11-29 17:10:22   \n",
              "4  1543533022464       1            0            0  4477 2018-11-29 17:10:22   \n",
              "\n",
              "      update_datetime      updatekey  o_version                     o_type  \\\n",
              "0 2018-12-06 15:20:20  1544131220232          1  Fault Codes                 \n",
              "1 2018-12-06 15:10:18  1544130618133          1  Fault Codes                 \n",
              "2 2018-12-06 15:10:18  1544130618050          1  Fault Codes                 \n",
              "3 2018-12-06 15:10:18  1544130618223          1  Fault Codes                 \n",
              "4 2018-12-06 15:10:17  1544130617816          1  Fault Codes                 \n",
              "\n",
              "   o_cid  o_fctype      o_senddate_gmt    o_senddate_local o_vehicle_number  \\\n",
              "0   4477         2 2018-11-29 20:42:00 2018-11-29 14:42:00           940899   \n",
              "1   4477         2 2018-11-29 23:10:07 2018-11-29 17:10:07           940416   \n",
              "2   4477         0 2018-11-29 23:10:07 2018-11-29 17:10:07           940416   \n",
              "3   4477         2 2018-11-29 23:10:07 2018-11-29 17:10:07           940416   \n",
              "4   4477         0 2018-11-29 23:10:07 2018-11-29 17:10:07           940416   \n",
              "\n",
              "                  o_vin    o_dsn  o_pfmdriverid  o_fcmid  o_fcpidsid  \\\n",
              "0  1XKDD49X6CJ333576     1674724              0       -1          -1   \n",
              "1  1M2AX07Y8CM011445     1710074              0       -1          -1   \n",
              "2  1M2AX07Y8CM011445     1710074              0      128           1   \n",
              "3  1M2AX07Y8CM011445     1710074              0       -1          -1   \n",
              "4  1M2AX07Y8CM011445     1710074              0      128           0   \n",
              "\n",
              "   o_fccode  o_fcsa  o_fcspn  o_fcfmi   o_triggerdate_gmt o_triggerdate_local  \\\n",
              "0        -1      49     2863        2 2018-11-29 20:41:57 2018-11-29 14:41:57   \n",
              "1        -1       0      647        5 2018-11-29 20:52:26 2018-11-29 14:52:26   \n",
              "2        33      -1       -1        5 2018-11-29 20:52:26 2018-11-29 14:52:26   \n",
              "3        -1       0      975        3 2018-11-29 20:52:26 2018-11-29 14:52:26   \n",
              "4        26      -1       -1        3 2018-11-29 20:52:26 2018-11-29 14:52:26   \n",
              "\n",
              "   o_urgentflag  o_fcodometer  o_fcrpm  o_fcspeed  o_occurrencecount  \\\n",
              "0             0       67262.0     1265        0.0                126   \n",
              "1             0      287351.1      647        2.0                  1   \n",
              "2             0      287351.1      647        2.0                 -1   \n",
              "3             0      287351.1      647        2.0                  1   \n",
              "4             0      287351.1      647        2.0                 -1   \n",
              "\n",
              "   o_cruisestatus  o_ignitionstatus  o_gpsquality  o_latitude  o_longitude  \\\n",
              "0               0                 1             1   31.436558  -102.367120   \n",
              "1               0                 1             1   35.423864   -99.910157   \n",
              "2               0                 1             1   35.423864   -99.910157   \n",
              "3               0                 1             1   35.423864   -99.910157   \n",
              "4               0                 1             1   35.423864   -99.910157   \n",
              "\n",
              "   c_version                     c_type  c_cid  c_fctype      c_senddate_gmt  \\\n",
              "0          1  Fault Codes                 4477         3 2018-12-06 21:19:27   \n",
              "1          1  Fault Codes                 4477         3 2018-12-06 21:10:10   \n",
              "2          1  Fault Codes                 4477         1 2018-12-06 21:10:10   \n",
              "3          1  Fault Codes                 4477         3 2018-12-06 21:10:10   \n",
              "4          1  Fault Codes                 4477         1 2018-12-06 21:10:10   \n",
              "\n",
              "     c_senddate_local c_vehicle_number    c_dsn  c_pfmdriverid  c_fcmid  \\\n",
              "0 2018-12-06 15:19:27           940899  1674724             -1       -1   \n",
              "1 2018-12-06 15:10:10           940416  1710074             -1       -1   \n",
              "2 2018-12-06 15:10:10           940416  1710074             -1      128   \n",
              "3 2018-12-06 15:10:10           940416  1710074             -1       -1   \n",
              "4 2018-12-06 15:10:10           940416  1710074             -1      128   \n",
              "\n",
              "   c_fcpidsid  c_fccode  c_fcsa  c_fcspn  c_fcfmi   c_cleareddate_gmt  \\\n",
              "0          -1        -1      49     2863        2 2018-12-06 20:50:49   \n",
              "1          -1        -1       0      647        5 2018-12-06 21:03:51   \n",
              "2           1        33      -1       -1        5 2018-12-06 21:03:51   \n",
              "3          -1        -1       0      975        3 2018-12-06 21:03:51   \n",
              "4           0        26      -1       -1        3 2018-12-06 21:03:51   \n",
              "\n",
              "  c_cleareddate_local  c_clearedactionid  \\\n",
              "0 2018-12-06 14:50:49                  1   \n",
              "1 2018-12-06 15:03:51                  1   \n",
              "2 2018-12-06 15:03:51                  1   \n",
              "3 2018-12-06 15:03:51                  1   \n",
              "4 2018-12-06 15:03:51                  1   \n",
              "\n",
              "                                 c_clearedactiondesc  \n",
              "0  AutoClear                                     ...  \n",
              "1  AutoClear                                     ...  \n",
              "2  AutoClear                                     ...  \n",
              "3  AutoClear                                     ...  \n",
              "4  AutoClear                                     ...  "
            ]
          },
          "metadata": {
            "tags": []
          },
          "execution_count": 4
        }
      ]
    },
    {
      "metadata": {
        "id": "cOots2Kwaq9p",
        "colab_type": "code",
        "outputId": "204607ef-96e7-4e21-93c8-e75fabcfe2a0",
        "colab": {
          "base_uri": "https://localhost:8080/",
          "height": 1057
        }
      },
      "cell_type": "code",
      "source": [
        "df.info()"
      ],
      "execution_count": 0,
      "outputs": [
        {
          "output_type": "stream",
          "text": [
            "<class 'pandas.core.frame.DataFrame'>\n",
            "RangeIndex: 1000 entries, 0 to 999\n",
            "Data columns (total 55 columns):\n",
            "uniqkey                1000 non-null int64\n",
            "status                 1000 non-null int64\n",
            "userstatus1            1000 non-null int64\n",
            "userstatus2            1000 non-null int64\n",
            "cid                    1000 non-null int64\n",
            "insert_datetime        1000 non-null datetime64[ns]\n",
            "update_datetime        1000 non-null datetime64[ns]\n",
            "updatekey              1000 non-null int64\n",
            "o_version              1000 non-null int64\n",
            "o_type                 1000 non-null object\n",
            "o_cid                  1000 non-null int64\n",
            "o_fctype               1000 non-null int64\n",
            "o_senddate_gmt         1000 non-null datetime64[ns]\n",
            "o_senddate_local       1000 non-null datetime64[ns]\n",
            "o_vehicle_number       1000 non-null object\n",
            "o_vin                  1000 non-null object\n",
            "o_dsn                  1000 non-null int64\n",
            "o_pfmdriverid          1000 non-null int64\n",
            "o_fcmid                1000 non-null int64\n",
            "o_fcpidsid             1000 non-null int64\n",
            "o_fccode               1000 non-null int64\n",
            "o_fcsa                 1000 non-null int64\n",
            "o_fcspn                1000 non-null int64\n",
            "o_fcfmi                1000 non-null int64\n",
            "o_triggerdate_gmt      1000 non-null datetime64[ns]\n",
            "o_triggerdate_local    1000 non-null datetime64[ns]\n",
            "o_urgentflag           1000 non-null int64\n",
            "o_fcodometer           1000 non-null float64\n",
            "o_fcrpm                1000 non-null int64\n",
            "o_fcspeed              1000 non-null float64\n",
            "o_occurrencecount      1000 non-null int64\n",
            "o_cruisestatus         1000 non-null int64\n",
            "o_ignitionstatus       1000 non-null int64\n",
            "o_gpsquality           1000 non-null int64\n",
            "o_latitude             1000 non-null float64\n",
            "o_longitude            1000 non-null float64\n",
            "c_version              1000 non-null int64\n",
            "c_type                 1000 non-null object\n",
            "c_cid                  1000 non-null int64\n",
            "c_fctype               1000 non-null int64\n",
            "c_senddate_gmt         1000 non-null datetime64[ns]\n",
            "c_senddate_local       1000 non-null datetime64[ns]\n",
            "c_vehicle_number       1000 non-null object\n",
            "c_dsn                  1000 non-null int64\n",
            "c_pfmdriverid          1000 non-null int64\n",
            "c_fcmid                1000 non-null int64\n",
            "c_fcpidsid             1000 non-null int64\n",
            "c_fccode               1000 non-null int64\n",
            "c_fcsa                 1000 non-null int64\n",
            "c_fcspn                1000 non-null int64\n",
            "c_fcfmi                1000 non-null int64\n",
            "c_cleareddate_gmt      1000 non-null datetime64[ns]\n",
            "c_cleareddate_local    1000 non-null datetime64[ns]\n",
            "c_clearedactionid      1000 non-null int64\n",
            "c_clearedactiondesc    1000 non-null object\n",
            "dtypes: datetime64[ns](10), float64(4), int64(35), object(6)\n",
            "memory usage: 429.8+ KB\n"
          ],
          "name": "stdout"
        }
      ]
    },
    {
      "metadata": {
        "id": "FcZu41pvb_6w",
        "colab_type": "code",
        "outputId": "a724db38-431b-49a9-956a-e481346e7389",
        "colab": {
          "base_uri": "https://localhost:8080/",
          "height": 295
        }
      },
      "cell_type": "code",
      "source": [
        "df.isna().any()"
      ],
      "execution_count": 0,
      "outputs": [
        {
          "output_type": "execute_result",
          "data": {
            "text/plain": [
              "uniqkey                False\n",
              "status                 False\n",
              "userstatus1            False\n",
              "userstatus2            False\n",
              "cid                    False\n",
              "insert_datetime        False\n",
              "update_datetime        False\n",
              "                       ...  \n",
              "c_fcsa                 False\n",
              "c_fcspn                False\n",
              "c_fcfmi                False\n",
              "c_cleareddate_gmt      False\n",
              "c_cleareddate_local    False\n",
              "c_clearedactionid      False\n",
              "c_clearedactiondesc    False\n",
              "Length: 55, dtype: bool"
            ]
          },
          "metadata": {
            "tags": []
          },
          "execution_count": 6
        }
      ]
    },
    {
      "metadata": {
        "id": "t4V0_kmfN2TK",
        "colab_type": "code",
        "colab": {}
      },
      "cell_type": "code",
      "source": [
        "df_train = df.drop(labels = 'status', axis = 1)\n",
        "\n",
        "droplist = ['userstatus1', 'userstatus2', 'cid', 'o_version', 'o_type', 'o_cid', 'o_urgentflag', 'o_ignitionstatus', 'c_version', 'c_type', 'c_cid', 'c_pfmdriverid', 'c_clearedactionid', 'c_clearedactiondesc']\n",
        "df_train = df_train.drop(labels = droplist, axis = 1)"
      ],
      "execution_count": 0,
      "outputs": []
    },
    {
      "metadata": {
        "id": "mx-bDjlxJ-QS",
        "colab_type": "code",
        "outputId": "76c880a5-9f8c-460d-bacd-a2a2de3a6d8d",
        "colab": {
          "base_uri": "https://localhost:8080/",
          "height": 309
        }
      },
      "cell_type": "code",
      "source": [
        "df_train.head()"
      ],
      "execution_count": 0,
      "outputs": [
        {
          "output_type": "execute_result",
          "data": {
            "text/html": [
              "<div>\n",
              "<style scoped>\n",
              "    .dataframe tbody tr th:only-of-type {\n",
              "        vertical-align: middle;\n",
              "    }\n",
              "\n",
              "    .dataframe tbody tr th {\n",
              "        vertical-align: top;\n",
              "    }\n",
              "\n",
              "    .dataframe thead th {\n",
              "        text-align: right;\n",
              "    }\n",
              "</style>\n",
              "<table border=\"1\" class=\"dataframe\">\n",
              "  <thead>\n",
              "    <tr style=\"text-align: right;\">\n",
              "      <th></th>\n",
              "      <th>uniqkey</th>\n",
              "      <th>insert_datetime</th>\n",
              "      <th>update_datetime</th>\n",
              "      <th>updatekey</th>\n",
              "      <th>o_fctype</th>\n",
              "      <th>o_senddate_gmt</th>\n",
              "      <th>o_senddate_local</th>\n",
              "      <th>o_vehicle_number</th>\n",
              "      <th>o_vin</th>\n",
              "      <th>o_dsn</th>\n",
              "      <th>o_pfmdriverid</th>\n",
              "      <th>o_fcmid</th>\n",
              "      <th>o_fcpidsid</th>\n",
              "      <th>o_fccode</th>\n",
              "      <th>o_fcsa</th>\n",
              "      <th>o_fcspn</th>\n",
              "      <th>o_fcfmi</th>\n",
              "      <th>o_triggerdate_gmt</th>\n",
              "      <th>o_triggerdate_local</th>\n",
              "      <th>o_fcodometer</th>\n",
              "      <th>o_fcrpm</th>\n",
              "      <th>o_fcspeed</th>\n",
              "      <th>o_occurrencecount</th>\n",
              "      <th>o_cruisestatus</th>\n",
              "      <th>o_gpsquality</th>\n",
              "      <th>o_latitude</th>\n",
              "      <th>o_longitude</th>\n",
              "      <th>c_fctype</th>\n",
              "      <th>c_senddate_gmt</th>\n",
              "      <th>c_senddate_local</th>\n",
              "      <th>c_vehicle_number</th>\n",
              "      <th>c_dsn</th>\n",
              "      <th>c_fcmid</th>\n",
              "      <th>c_fcpidsid</th>\n",
              "      <th>c_fccode</th>\n",
              "      <th>c_fcsa</th>\n",
              "      <th>c_fcspn</th>\n",
              "      <th>c_fcfmi</th>\n",
              "      <th>c_cleareddate_gmt</th>\n",
              "      <th>c_cleareddate_local</th>\n",
              "    </tr>\n",
              "  </thead>\n",
              "  <tbody>\n",
              "    <tr>\n",
              "      <th>0</th>\n",
              "      <td>1543524341104</td>\n",
              "      <td>2018-11-29 14:45:41</td>\n",
              "      <td>2018-12-06 15:20:20</td>\n",
              "      <td>1544131220232</td>\n",
              "      <td>2</td>\n",
              "      <td>2018-11-29 20:42:00</td>\n",
              "      <td>2018-11-29 14:42:00</td>\n",
              "      <td>940899</td>\n",
              "      <td>1XKDD49X6CJ333576</td>\n",
              "      <td>1674724</td>\n",
              "      <td>0</td>\n",
              "      <td>-1</td>\n",
              "      <td>-1</td>\n",
              "      <td>-1</td>\n",
              "      <td>49</td>\n",
              "      <td>2863</td>\n",
              "      <td>2</td>\n",
              "      <td>2018-11-29 20:41:57</td>\n",
              "      <td>2018-11-29 14:41:57</td>\n",
              "      <td>67262.0</td>\n",
              "      <td>1265</td>\n",
              "      <td>0.0</td>\n",
              "      <td>126</td>\n",
              "      <td>0</td>\n",
              "      <td>1</td>\n",
              "      <td>31.436558</td>\n",
              "      <td>-102.367120</td>\n",
              "      <td>3</td>\n",
              "      <td>2018-12-06 21:19:27</td>\n",
              "      <td>2018-12-06 15:19:27</td>\n",
              "      <td>940899</td>\n",
              "      <td>1674724</td>\n",
              "      <td>-1</td>\n",
              "      <td>-1</td>\n",
              "      <td>-1</td>\n",
              "      <td>49</td>\n",
              "      <td>2863</td>\n",
              "      <td>2</td>\n",
              "      <td>2018-12-06 20:50:49</td>\n",
              "      <td>2018-12-06 14:50:49</td>\n",
              "    </tr>\n",
              "    <tr>\n",
              "      <th>1</th>\n",
              "      <td>1543533022129</td>\n",
              "      <td>2018-11-29 17:10:22</td>\n",
              "      <td>2018-12-06 15:10:18</td>\n",
              "      <td>1544130618133</td>\n",
              "      <td>2</td>\n",
              "      <td>2018-11-29 23:10:07</td>\n",
              "      <td>2018-11-29 17:10:07</td>\n",
              "      <td>940416</td>\n",
              "      <td>1M2AX07Y8CM011445</td>\n",
              "      <td>1710074</td>\n",
              "      <td>0</td>\n",
              "      <td>-1</td>\n",
              "      <td>-1</td>\n",
              "      <td>-1</td>\n",
              "      <td>0</td>\n",
              "      <td>647</td>\n",
              "      <td>5</td>\n",
              "      <td>2018-11-29 20:52:26</td>\n",
              "      <td>2018-11-29 14:52:26</td>\n",
              "      <td>287351.1</td>\n",
              "      <td>647</td>\n",
              "      <td>2.0</td>\n",
              "      <td>1</td>\n",
              "      <td>0</td>\n",
              "      <td>1</td>\n",
              "      <td>35.423864</td>\n",
              "      <td>-99.910157</td>\n",
              "      <td>3</td>\n",
              "      <td>2018-12-06 21:10:10</td>\n",
              "      <td>2018-12-06 15:10:10</td>\n",
              "      <td>940416</td>\n",
              "      <td>1710074</td>\n",
              "      <td>-1</td>\n",
              "      <td>-1</td>\n",
              "      <td>-1</td>\n",
              "      <td>0</td>\n",
              "      <td>647</td>\n",
              "      <td>5</td>\n",
              "      <td>2018-12-06 21:03:51</td>\n",
              "      <td>2018-12-06 15:03:51</td>\n",
              "    </tr>\n",
              "    <tr>\n",
              "      <th>2</th>\n",
              "      <td>1543533022175</td>\n",
              "      <td>2018-11-29 17:10:22</td>\n",
              "      <td>2018-12-06 15:10:18</td>\n",
              "      <td>1544130618050</td>\n",
              "      <td>0</td>\n",
              "      <td>2018-11-29 23:10:07</td>\n",
              "      <td>2018-11-29 17:10:07</td>\n",
              "      <td>940416</td>\n",
              "      <td>1M2AX07Y8CM011445</td>\n",
              "      <td>1710074</td>\n",
              "      <td>0</td>\n",
              "      <td>128</td>\n",
              "      <td>1</td>\n",
              "      <td>33</td>\n",
              "      <td>-1</td>\n",
              "      <td>-1</td>\n",
              "      <td>5</td>\n",
              "      <td>2018-11-29 20:52:26</td>\n",
              "      <td>2018-11-29 14:52:26</td>\n",
              "      <td>287351.1</td>\n",
              "      <td>647</td>\n",
              "      <td>2.0</td>\n",
              "      <td>-1</td>\n",
              "      <td>0</td>\n",
              "      <td>1</td>\n",
              "      <td>35.423864</td>\n",
              "      <td>-99.910157</td>\n",
              "      <td>1</td>\n",
              "      <td>2018-12-06 21:10:10</td>\n",
              "      <td>2018-12-06 15:10:10</td>\n",
              "      <td>940416</td>\n",
              "      <td>1710074</td>\n",
              "      <td>128</td>\n",
              "      <td>1</td>\n",
              "      <td>33</td>\n",
              "      <td>-1</td>\n",
              "      <td>-1</td>\n",
              "      <td>5</td>\n",
              "      <td>2018-12-06 21:03:51</td>\n",
              "      <td>2018-12-06 15:03:51</td>\n",
              "    </tr>\n",
              "    <tr>\n",
              "      <th>3</th>\n",
              "      <td>1543533022514</td>\n",
              "      <td>2018-11-29 17:10:22</td>\n",
              "      <td>2018-12-06 15:10:18</td>\n",
              "      <td>1544130618223</td>\n",
              "      <td>2</td>\n",
              "      <td>2018-11-29 23:10:07</td>\n",
              "      <td>2018-11-29 17:10:07</td>\n",
              "      <td>940416</td>\n",
              "      <td>1M2AX07Y8CM011445</td>\n",
              "      <td>1710074</td>\n",
              "      <td>0</td>\n",
              "      <td>-1</td>\n",
              "      <td>-1</td>\n",
              "      <td>-1</td>\n",
              "      <td>0</td>\n",
              "      <td>975</td>\n",
              "      <td>3</td>\n",
              "      <td>2018-11-29 20:52:26</td>\n",
              "      <td>2018-11-29 14:52:26</td>\n",
              "      <td>287351.1</td>\n",
              "      <td>647</td>\n",
              "      <td>2.0</td>\n",
              "      <td>1</td>\n",
              "      <td>0</td>\n",
              "      <td>1</td>\n",
              "      <td>35.423864</td>\n",
              "      <td>-99.910157</td>\n",
              "      <td>3</td>\n",
              "      <td>2018-12-06 21:10:10</td>\n",
              "      <td>2018-12-06 15:10:10</td>\n",
              "      <td>940416</td>\n",
              "      <td>1710074</td>\n",
              "      <td>-1</td>\n",
              "      <td>-1</td>\n",
              "      <td>-1</td>\n",
              "      <td>0</td>\n",
              "      <td>975</td>\n",
              "      <td>3</td>\n",
              "      <td>2018-12-06 21:03:51</td>\n",
              "      <td>2018-12-06 15:03:51</td>\n",
              "    </tr>\n",
              "    <tr>\n",
              "      <th>4</th>\n",
              "      <td>1543533022464</td>\n",
              "      <td>2018-11-29 17:10:22</td>\n",
              "      <td>2018-12-06 15:10:17</td>\n",
              "      <td>1544130617816</td>\n",
              "      <td>0</td>\n",
              "      <td>2018-11-29 23:10:07</td>\n",
              "      <td>2018-11-29 17:10:07</td>\n",
              "      <td>940416</td>\n",
              "      <td>1M2AX07Y8CM011445</td>\n",
              "      <td>1710074</td>\n",
              "      <td>0</td>\n",
              "      <td>128</td>\n",
              "      <td>0</td>\n",
              "      <td>26</td>\n",
              "      <td>-1</td>\n",
              "      <td>-1</td>\n",
              "      <td>3</td>\n",
              "      <td>2018-11-29 20:52:26</td>\n",
              "      <td>2018-11-29 14:52:26</td>\n",
              "      <td>287351.1</td>\n",
              "      <td>647</td>\n",
              "      <td>2.0</td>\n",
              "      <td>-1</td>\n",
              "      <td>0</td>\n",
              "      <td>1</td>\n",
              "      <td>35.423864</td>\n",
              "      <td>-99.910157</td>\n",
              "      <td>1</td>\n",
              "      <td>2018-12-06 21:10:10</td>\n",
              "      <td>2018-12-06 15:10:10</td>\n",
              "      <td>940416</td>\n",
              "      <td>1710074</td>\n",
              "      <td>128</td>\n",
              "      <td>0</td>\n",
              "      <td>26</td>\n",
              "      <td>-1</td>\n",
              "      <td>-1</td>\n",
              "      <td>3</td>\n",
              "      <td>2018-12-06 21:03:51</td>\n",
              "      <td>2018-12-06 15:03:51</td>\n",
              "    </tr>\n",
              "  </tbody>\n",
              "</table>\n",
              "</div>"
            ],
            "text/plain": [
              "         uniqkey     insert_datetime     update_datetime      updatekey  \\\n",
              "0  1543524341104 2018-11-29 14:45:41 2018-12-06 15:20:20  1544131220232   \n",
              "1  1543533022129 2018-11-29 17:10:22 2018-12-06 15:10:18  1544130618133   \n",
              "2  1543533022175 2018-11-29 17:10:22 2018-12-06 15:10:18  1544130618050   \n",
              "3  1543533022514 2018-11-29 17:10:22 2018-12-06 15:10:18  1544130618223   \n",
              "4  1543533022464 2018-11-29 17:10:22 2018-12-06 15:10:17  1544130617816   \n",
              "\n",
              "   o_fctype      o_senddate_gmt    o_senddate_local o_vehicle_number  \\\n",
              "0         2 2018-11-29 20:42:00 2018-11-29 14:42:00           940899   \n",
              "1         2 2018-11-29 23:10:07 2018-11-29 17:10:07           940416   \n",
              "2         0 2018-11-29 23:10:07 2018-11-29 17:10:07           940416   \n",
              "3         2 2018-11-29 23:10:07 2018-11-29 17:10:07           940416   \n",
              "4         0 2018-11-29 23:10:07 2018-11-29 17:10:07           940416   \n",
              "\n",
              "                  o_vin    o_dsn  o_pfmdriverid  o_fcmid  o_fcpidsid  \\\n",
              "0  1XKDD49X6CJ333576     1674724              0       -1          -1   \n",
              "1  1M2AX07Y8CM011445     1710074              0       -1          -1   \n",
              "2  1M2AX07Y8CM011445     1710074              0      128           1   \n",
              "3  1M2AX07Y8CM011445     1710074              0       -1          -1   \n",
              "4  1M2AX07Y8CM011445     1710074              0      128           0   \n",
              "\n",
              "   o_fccode  o_fcsa  o_fcspn  o_fcfmi   o_triggerdate_gmt o_triggerdate_local  \\\n",
              "0        -1      49     2863        2 2018-11-29 20:41:57 2018-11-29 14:41:57   \n",
              "1        -1       0      647        5 2018-11-29 20:52:26 2018-11-29 14:52:26   \n",
              "2        33      -1       -1        5 2018-11-29 20:52:26 2018-11-29 14:52:26   \n",
              "3        -1       0      975        3 2018-11-29 20:52:26 2018-11-29 14:52:26   \n",
              "4        26      -1       -1        3 2018-11-29 20:52:26 2018-11-29 14:52:26   \n",
              "\n",
              "   o_fcodometer  o_fcrpm  o_fcspeed  o_occurrencecount  o_cruisestatus  \\\n",
              "0       67262.0     1265        0.0                126               0   \n",
              "1      287351.1      647        2.0                  1               0   \n",
              "2      287351.1      647        2.0                 -1               0   \n",
              "3      287351.1      647        2.0                  1               0   \n",
              "4      287351.1      647        2.0                 -1               0   \n",
              "\n",
              "   o_gpsquality  o_latitude  o_longitude  c_fctype      c_senddate_gmt  \\\n",
              "0             1   31.436558  -102.367120         3 2018-12-06 21:19:27   \n",
              "1             1   35.423864   -99.910157         3 2018-12-06 21:10:10   \n",
              "2             1   35.423864   -99.910157         1 2018-12-06 21:10:10   \n",
              "3             1   35.423864   -99.910157         3 2018-12-06 21:10:10   \n",
              "4             1   35.423864   -99.910157         1 2018-12-06 21:10:10   \n",
              "\n",
              "     c_senddate_local c_vehicle_number    c_dsn  c_fcmid  c_fcpidsid  \\\n",
              "0 2018-12-06 15:19:27           940899  1674724       -1          -1   \n",
              "1 2018-12-06 15:10:10           940416  1710074       -1          -1   \n",
              "2 2018-12-06 15:10:10           940416  1710074      128           1   \n",
              "3 2018-12-06 15:10:10           940416  1710074       -1          -1   \n",
              "4 2018-12-06 15:10:10           940416  1710074      128           0   \n",
              "\n",
              "   c_fccode  c_fcsa  c_fcspn  c_fcfmi   c_cleareddate_gmt c_cleareddate_local  \n",
              "0        -1      49     2863        2 2018-12-06 20:50:49 2018-12-06 14:50:49  \n",
              "1        -1       0      647        5 2018-12-06 21:03:51 2018-12-06 15:03:51  \n",
              "2        33      -1       -1        5 2018-12-06 21:03:51 2018-12-06 15:03:51  \n",
              "3        -1       0      975        3 2018-12-06 21:03:51 2018-12-06 15:03:51  \n",
              "4        26      -1       -1        3 2018-12-06 21:03:51 2018-12-06 15:03:51  "
            ]
          },
          "metadata": {
            "tags": []
          },
          "execution_count": 8
        }
      ]
    },
    {
      "metadata": {
        "id": "l063ysJ4UdK9",
        "colab_type": "code",
        "outputId": "5a52e0a4-2e99-4328-8c7d-bc256908f552",
        "colab": {
          "base_uri": "https://localhost:8080/",
          "height": 208
        }
      },
      "cell_type": "code",
      "source": [
        "df_train.columns.value_counts"
      ],
      "execution_count": 0,
      "outputs": [
        {
          "output_type": "execute_result",
          "data": {
            "text/plain": [
              "<bound method IndexOpsMixin.value_counts of Index(['uniqkey', 'insert_datetime', 'update_datetime', 'updatekey',\n",
              "       'o_fctype', 'o_senddate_gmt', 'o_senddate_local', 'o_vehicle_number',\n",
              "       'o_vin', 'o_dsn', 'o_pfmdriverid', 'o_fcmid', 'o_fcpidsid', 'o_fccode',\n",
              "       'o_fcsa', 'o_fcspn', 'o_fcfmi', 'o_triggerdate_gmt',\n",
              "       'o_triggerdate_local', 'o_fcodometer', 'o_fcrpm', 'o_fcspeed',\n",
              "       'o_occurrencecount', 'o_cruisestatus', 'o_gpsquality', 'o_latitude',\n",
              "       'o_longitude', 'c_fctype', 'c_senddate_gmt', 'c_senddate_local',\n",
              "       'c_vehicle_number', 'c_dsn', 'c_fcmid', 'c_fcpidsid', 'c_fccode',\n",
              "       'c_fcsa', 'c_fcspn', 'c_fcfmi', 'c_cleareddate_gmt',\n",
              "       'c_cleareddate_local'],\n",
              "      dtype='object')>"
            ]
          },
          "metadata": {
            "tags": []
          },
          "execution_count": 9
        }
      ]
    },
    {
      "metadata": {
        "id": "QNMzYjeUV77K",
        "colab_type": "code",
        "outputId": "455eccae-9f9b-4f16-e79e-43ea10d1c37a",
        "colab": {
          "base_uri": "https://localhost:8080/",
          "height": 6535
        }
      },
      "cell_type": "code",
      "source": [
        "colsval = ['o_fctype', 'o_vehicle_number',\n",
        "       'o_vin', 'o_dsn', 'o_pfmdriverid', 'o_fcmid', 'o_fcpidsid', 'o_fccode',\n",
        "       'o_fcsa', 'o_fcspn', 'o_fcfmi', 'o_fcodometer', 'o_fcrpm', 'o_fcspeed',\n",
        "       'o_occurrencecount', 'o_cruisestatus', 'o_gpsquality', 'o_latitude',\n",
        "       'o_longitude', 'c_fctype', 'c_vehicle_number', 'c_dsn', 'c_fcmid', 'c_fcpidsid', 'c_fccode',\n",
        "       'c_fcsa', 'c_fcspn', 'c_fcfmi', 'c_cleareddate_gmt',\n",
        "       'c_cleareddate_local']\n",
        "for cols in colsval:\n",
        "  print(df_train[cols].value_counts())"
      ],
      "execution_count": 0,
      "outputs": [
        {
          "output_type": "stream",
          "text": [
            "2    806\n",
            "0    194\n",
            "Name: o_fctype, dtype: int64\n",
            "940894     43\n",
            "940945     32\n",
            "940963     26\n",
            "941239     23\n",
            "940960     22\n",
            "940931     21\n",
            "940399     19\n",
            "           ..\n",
            "923930      1\n",
            "940830      1\n",
            "9436961     1\n",
            "9436963     1\n",
            "9436971     1\n",
            "9436972     1\n",
            "940052      1\n",
            "Name: o_vehicle_number, Length: 218, dtype: int64\n",
            "1XKDD40XXCJ323629       41\n",
            "                        37\n",
            "1XKDD49X2CJ333543       32\n",
            "1XKDD49X7CJ333506       26\n",
            "1NKDL40X2EJ403913       23\n",
            "1XKDD49X1CJ333503       22\n",
            "1XKDD49X8CJ333529       21\n",
            "                        ..\n",
            "1M2AG11Y37M066499        1\n",
            "1XPTD40X7GD319578        1\n",
            "1XKDD49X9CJ333491        1\n",
            "1M2AG11C87M068043        1\n",
            "1XPWD49X3DD197376        1\n",
            "1M1AW09Y1CM018726        1\n",
            "1M2AX07Y4CM011457        1\n",
            "Name: o_vin, Length: 204, dtype: int64\n",
            "1657133    41\n",
            "1709632    32\n",
            "1676170    26\n",
            "1676281    23\n",
            "1672669    22\n",
            "1709373    21\n",
            "1673170    19\n",
            "           ..\n",
            "1661235     1\n",
            "1709380     1\n",
            "1709381     1\n",
            "1660276     1\n",
            "1660280     1\n",
            "1708422     1\n",
            "1709525     1\n",
            "Name: o_dsn, Length: 219, dtype: int64\n",
            "0          307\n",
            "901687      32\n",
            "1267632     29\n",
            "917355      23\n",
            "1170355     21\n",
            "1155314     19\n",
            "1297240     17\n",
            "          ... \n",
            "1155372      1\n",
            "1155357      1\n",
            "1170184      1\n",
            "1155344      1\n",
            "1422157      1\n",
            "837394       1\n",
            "1326548      1\n",
            "Name: o_pfmdriverid, Length: 178, dtype: int64\n",
            "-1      806\n",
            " 136     78\n",
            " 128     65\n",
            " 142     28\n",
            " 140     15\n",
            " 130      5\n",
            " 137      3\n",
            "Name: o_fcmid, dtype: int64\n",
            "-1    806\n",
            " 1    122\n",
            " 0     72\n",
            "Name: o_fcpidsid, dtype: int64\n",
            "-1      806\n",
            " 4       27\n",
            " 1       16\n",
            " 3       12\n",
            " 171     10\n",
            " 111     10\n",
            " 5        9\n",
            "       ... \n",
            " 80       1\n",
            " 154      1\n",
            " 89       1\n",
            " 94       1\n",
            " 153      1\n",
            " 152      1\n",
            " 437      1\n",
            "Name: o_fccode, Length: 56, dtype: int64\n",
            " 49     408\n",
            " 0      256\n",
            "-1      194\n",
            " 11      96\n",
            " 42      21\n",
            " 232     16\n",
            " 3        5\n",
            " 140      3\n",
            " 33       1\n",
            "Name: o_fcsa, dtype: int64\n",
            "-1         194\n",
            " 2863       46\n",
            " 829        41\n",
            " 50353      22\n",
            " 886        21\n",
            " 4276       21\n",
            " 111        19\n",
            "          ... \n",
            " 524         1\n",
            " 41475       1\n",
            " 94376       1\n",
            " 65704       1\n",
            " 88235       1\n",
            " 3556        1\n",
            " 524287      1\n",
            "Name: o_fcspn, Length: 249, dtype: int64\n",
            "0     252\n",
            "3     132\n",
            "2      97\n",
            "4      59\n",
            "5      56\n",
            "14     53\n",
            "7      50\n",
            "     ... \n",
            "24      4\n",
            "21      3\n",
            "23      3\n",
            "20      2\n",
            "27      2\n",
            "25      1\n",
            "28      1\n",
            "Name: o_fcfmi, Length: 30, dtype: int64\n",
            "32797.6     10\n",
            "211188.8    10\n",
            "90017.7     10\n",
            "275718.5     9\n",
            "231095.5     9\n",
            "9730.0       9\n",
            "203506.0     7\n",
            "            ..\n",
            "198798.1     1\n",
            "399364.6     1\n",
            "346121.1     1\n",
            "239790.1     1\n",
            "145915.2     1\n",
            "75991.3      1\n",
            "719887.5     1\n",
            "Name: o_fcodometer, Length: 641, dtype: int64\n",
            "699     64\n",
            "700     63\n",
            "0       58\n",
            "698     40\n",
            "650     34\n",
            "649     31\n",
            "701     25\n",
            "        ..\n",
            "1482     1\n",
            "2504     1\n",
            "453      1\n",
            "1473     1\n",
            "1472     1\n",
            "807      1\n",
            "692      1\n",
            "Name: o_fcrpm, Length: 380, dtype: int64\n",
            "0.0     584\n",
            "65.0     43\n",
            "64.5     18\n",
            "9.5      11\n",
            "2.5      11\n",
            "3.5      10\n",
            "2.0       9\n",
            "       ... \n",
            "67.0      1\n",
            "19.5      1\n",
            "45.0      1\n",
            "20.0      1\n",
            "62.5      1\n",
            "53.0      1\n",
            "66.5      1\n",
            "Name: o_fcspeed, Length: 110, dtype: int64\n",
            "-1      194\n",
            " 126    163\n",
            " 2      125\n",
            " 127    119\n",
            " 1       95\n",
            " 0       52\n",
            " 6       38\n",
            "       ... \n",
            " 68       1\n",
            " 70       1\n",
            " 72       1\n",
            " 77       1\n",
            " 79       1\n",
            " 81       1\n",
            " 42       1\n",
            "Name: o_occurrencecount, Length: 63, dtype: int64\n",
            "0    954\n",
            "1     46\n",
            "Name: o_cruisestatus, dtype: int64\n",
            "1    966\n",
            "0     34\n",
            "Name: o_gpsquality, dtype: int64\n",
            "35.508033    21\n",
            "30.947802     6\n",
            "35.079456     6\n",
            "32.543137     5\n",
            "32.627409     5\n",
            "31.635968     5\n",
            "31.080902     4\n",
            "             ..\n",
            "32.735865     1\n",
            "30.772940     1\n",
            "34.318230     1\n",
            "35.414980     1\n",
            "35.388789     1\n",
            "36.703635     1\n",
            "0.000000      1\n",
            "Name: o_latitude, Length: 790, dtype: int64\n",
            "-97.915401     21\n",
            "-119.411514     6\n",
            "-102.864119     6\n",
            "-103.763279     5\n",
            "-94.686646      5\n",
            "-103.533438     5\n",
            "-103.167301     4\n",
            "               ..\n",
            "-101.878584     1\n",
            "-97.401622      1\n",
            "-119.252307     1\n",
            "-119.005919     1\n",
            "-103.514657     1\n",
            "-98.287889      1\n",
            "-102.907380     1\n",
            "Name: o_longitude, Length: 788, dtype: int64\n",
            "3    806\n",
            "1    194\n",
            "Name: c_fctype, dtype: int64\n",
            "940894     43\n",
            "940945     32\n",
            "940963     26\n",
            "941239     23\n",
            "940960     22\n",
            "940931     21\n",
            "940399     19\n",
            "           ..\n",
            "923930      1\n",
            "940830      1\n",
            "9436961     1\n",
            "9436963     1\n",
            "9436971     1\n",
            "9436972     1\n",
            "940052      1\n",
            "Name: c_vehicle_number, Length: 218, dtype: int64\n",
            "1657133    43\n",
            "1709632    32\n",
            "1676170    26\n",
            "1676281    23\n",
            "1672669    22\n",
            "1709373    21\n",
            "1709775    19\n",
            "           ..\n",
            "1660280     1\n",
            "1663913     1\n",
            "1709182     1\n",
            "1708422     1\n",
            "1664231     1\n",
            "1662204     1\n",
            "1675259     1\n",
            "Name: c_dsn, Length: 218, dtype: int64\n",
            "-1      806\n",
            " 136     78\n",
            " 128     65\n",
            " 142     28\n",
            " 140     15\n",
            " 130      5\n",
            " 137      3\n",
            "Name: c_fcmid, dtype: int64\n",
            "-1    806\n",
            " 1    122\n",
            " 0     72\n",
            "Name: c_fcpidsid, dtype: int64\n",
            "-1      806\n",
            " 4       27\n",
            " 1       16\n",
            " 3       12\n",
            " 171     10\n",
            " 111     10\n",
            " 5        9\n",
            "       ... \n",
            " 80       1\n",
            " 154      1\n",
            " 89       1\n",
            " 94       1\n",
            " 153      1\n",
            " 152      1\n",
            " 437      1\n",
            "Name: c_fccode, Length: 56, dtype: int64\n",
            " 49     408\n",
            " 0      256\n",
            "-1      194\n",
            " 11      96\n",
            " 42      21\n",
            " 232     16\n",
            " 3        5\n",
            " 140      3\n",
            " 33       1\n",
            "Name: c_fcsa, dtype: int64\n",
            "-1         194\n",
            " 2863       46\n",
            " 829        41\n",
            " 50353      22\n",
            " 886        21\n",
            " 4276       21\n",
            " 111        19\n",
            "          ... \n",
            " 524         1\n",
            " 41475       1\n",
            " 94376       1\n",
            " 65704       1\n",
            " 88235       1\n",
            " 3556        1\n",
            " 524287      1\n",
            "Name: c_fcspn, Length: 249, dtype: int64\n",
            "0     252\n",
            "3     132\n",
            "2      97\n",
            "4      59\n",
            "5      56\n",
            "14     53\n",
            "7      50\n",
            "     ... \n",
            "24      4\n",
            "21      3\n",
            "23      3\n",
            "20      2\n",
            "27      2\n",
            "25      1\n",
            "28      1\n",
            "Name: c_fcfmi, Length: 30, dtype: int64\n",
            "2018-12-04 13:55:57    18\n",
            "2018-12-04 19:34:23    18\n",
            "2018-12-06 03:12:00    12\n",
            "2018-12-06 04:12:01    11\n",
            "2018-12-05 13:55:46    10\n",
            "2018-12-05 23:19:21    10\n",
            "2018-12-04 21:00:02    10\n",
            "                       ..\n",
            "2018-12-04 23:18:58     1\n",
            "2018-12-04 14:47:59     1\n",
            "2018-12-05 16:27:54     1\n",
            "2018-12-05 15:25:43     1\n",
            "2018-12-06 19:22:20     1\n",
            "2018-12-04 21:58:32     1\n",
            "2018-12-04 21:57:02     1\n",
            "Name: c_cleareddate_gmt, Length: 496, dtype: int64\n",
            "2018-12-04 07:55:57    18\n",
            "2018-12-04 13:34:23    18\n",
            "2018-12-05 21:12:00    12\n",
            "2018-12-05 22:12:01    11\n",
            "2018-12-05 17:19:21    10\n",
            "2018-12-04 15:00:02    10\n",
            "2018-12-05 07:55:46    10\n",
            "                       ..\n",
            "2018-12-05 17:21:05     1\n",
            "2018-12-04 09:08:54     1\n",
            "2018-12-04 16:55:35     1\n",
            "2018-12-04 18:58:48     1\n",
            "2018-12-06 11:41:48     1\n",
            "2018-12-06 06:48:52     1\n",
            "2018-12-06 10:12:51     1\n",
            "Name: c_cleareddate_local, Length: 496, dtype: int64\n"
          ],
          "name": "stdout"
        }
      ]
    },
    {
      "metadata": {
        "id": "L2r_Er0gCUVA",
        "colab_type": "code",
        "outputId": "823b943a-e4e9-4d1b-9cfe-a290234a24c4",
        "colab": {
          "base_uri": "https://localhost:8080/",
          "height": 374
        }
      },
      "cell_type": "code",
      "source": [
        "df_train.plot(x='insert_datetime', y='o_fctype')"
      ],
      "execution_count": 0,
      "outputs": [
        {
          "output_type": "execute_result",
          "data": {
            "text/plain": [
              "<matplotlib.axes._subplots.AxesSubplot at 0x7f5f6715ff98>"
            ]
          },
          "metadata": {
            "tags": []
          },
          "execution_count": 11
        },
        {
          "output_type": "display_data",
          "data": {
            "image/png": "[encoded data removed]",
            "text/plain": [
              "<matplotlib.figure.Figure at 0x7f5f671fb4a8>"
            ]
          },
          "metadata": {
            "tags": []
          }
        }
      ]
    },
    {
      "metadata": {
        "id": "KWgsib0LtfnM",
        "colab_type": "code",
        "colab": {}
      },
      "cell_type": "code",
      "source": [
        "df_train_fctype = df_train[df_train.o_fctype == 0].insert_datetime.dt.date\n",
        "#df_train_fctype.head()\n",
        "#df_train_fctype.value_counts()"
      ],
      "execution_count": 0,
      "outputs": []
    },
    {
      "metadata": {
        "id": "WDkAPVEz0diT",
        "colab_type": "code",
        "outputId": "fb1d0854-2c90-49db-b701-62fad651dff8",
        "colab": {
          "base_uri": "https://localhost:8080/",
          "height": 380
        }
      },
      "cell_type": "code",
      "source": [
        "df_train_fctype.value_counts().plot(title='o_fctype == 0', legend=True)"
      ],
      "execution_count": 0,
      "outputs": [
        {
          "output_type": "execute_result",
          "data": {
            "text/plain": [
              "<matplotlib.axes._subplots.AxesSubplot at 0x7f5f6709b978>"
            ]
          },
          "metadata": {
            "tags": []
          },
          "execution_count": 13
        },
        {
          "output_type": "display_data",
          "data": {
            "image/png": "[encoded data removed]",
            "text/plain": [
              "<matplotlib.figure.Figure at 0x7f5f670c7128>"
            ]
          },
          "metadata": {
            "tags": []
          }
        }
      ]
    },
    {
      "metadata": {
        "id": "_M8FZw0X3B1c",
        "colab_type": "code",
        "outputId": "f0db7848-a388-440b-8948-3ba9b40bb791",
        "colab": {
          "base_uri": "https://localhost:8080/",
          "height": 380
        }
      },
      "cell_type": "code",
      "source": [
        "df_train_fctype = df_train[df_train.o_fctype == 2].insert_datetime.dt.date\n",
        "#df_train_fctype.head()\n",
        "#df_train_fctype.value_counts()\n",
        "df_train_fctype.value_counts().plot(title='o_fctype == 2', legend=True)"
      ],
      "execution_count": 0,
      "outputs": [
        {
          "output_type": "execute_result",
          "data": {
            "text/plain": [
              "<matplotlib.axes._subplots.AxesSubplot at 0x7f5f647c3128>"
            ]
          },
          "metadata": {
            "tags": []
          },
          "execution_count": 14
        },
        {
          "output_type": "display_data",
          "data": {
            "image/png": "[encoded data removed]",
            "text/plain": [
              "<matplotlib.figure.Figure at 0x7f5f647ffda0>"
            ]
          },
          "metadata": {
            "tags": []
          }
        }
      ]
    },
    {
      "metadata": {
        "id": "OR6QZ76UMQ0j",
        "colab_type": "code",
        "outputId": "b2fd8b73-8e74-4c08-de86-78555dca8521",
        "colab": {
          "base_uri": "https://localhost:8080/",
          "height": 365
        }
      },
      "cell_type": "code",
      "source": [
        "df_train['o_fctype'].hist()"
      ],
      "execution_count": 0,
      "outputs": [
        {
          "output_type": "execute_result",
          "data": {
            "text/plain": [
              "<matplotlib.axes._subplots.AxesSubplot at 0x7f5f671272e8>"
            ]
          },
          "metadata": {
            "tags": []
          },
          "execution_count": 15
        },
        {
          "output_type": "display_data",
          "data": {
            "image/png": "[encoded data removed]",
            "text/plain": [
              "<matplotlib.figure.Figure at 0x7f5f64818320>"
            ]
          },
          "metadata": {
            "tags": []
          }
        }
      ]
    },
    {
      "metadata": {
        "id": "iLf_oTRjdft7",
        "colab_type": "code",
        "outputId": "f5801b93-4e78-44e3-cdba-35bbdf67b3f7",
        "colab": {
          "base_uri": "https://localhost:8080/",
          "height": 374
        }
      },
      "cell_type": "code",
      "source": [
        "df_train.plot(x='insert_datetime', y='o_fcmid')"
      ],
      "execution_count": 0,
      "outputs": [
        {
          "output_type": "execute_result",
          "data": {
            "text/plain": [
              "<matplotlib.axes._subplots.AxesSubplot at 0x7f5f647755c0>"
            ]
          },
          "metadata": {
            "tags": []
          },
          "execution_count": 16
        },
        {
          "output_type": "display_data",
          "data": {
            "image/png": "[encoded data removed]",
            "text/plain": [
              "<matplotlib.figure.Figure at 0x7f5f670fad68>"
            ]
          },
          "metadata": {
            "tags": []
          }
        }
      ]
    },
    {
      "metadata": {
        "id": "8huSyfO-34zC",
        "colab_type": "code",
        "outputId": "7617d5d3-2207-40e5-fc2b-402c07e3986f",
        "colab": {
          "base_uri": "https://localhost:8080/",
          "height": 380
        }
      },
      "cell_type": "code",
      "source": [
        "df_train_fcmid = df_train[df_train.o_fcmid == -1].insert_datetime.dt.date\n",
        "#df_train_fctype.head()\n",
        "#df_train_fctype.value_counts()\n",
        "df_train_fcmid.value_counts().plot(title='o_fcmid == -1', legend=True)"
      ],
      "execution_count": 0,
      "outputs": [
        {
          "output_type": "execute_result",
          "data": {
            "text/plain": [
              "<matplotlib.axes._subplots.AxesSubplot at 0x7f5f646d16a0>"
            ]
          },
          "metadata": {
            "tags": []
          },
          "execution_count": 17
        },
        {
          "output_type": "display_data",
          "data": {
            "image/png": "[encoded data removed]",
            "text/plain": [
              "<matplotlib.figure.Figure at 0x7f5f677744e0>"
            ]
          },
          "metadata": {
            "tags": []
          }
        }
      ]
    },
    {
      "metadata": {
        "id": "BNS7hdUA4p3y",
        "colab_type": "code",
        "outputId": "cd40d4b4-1e60-4cc0-a4f1-f397026cd1ca",
        "colab": {
          "base_uri": "https://localhost:8080/",
          "height": 380
        }
      },
      "cell_type": "code",
      "source": [
        "df_train_fcmid = df_train[df_train.o_fcmid == 128].insert_datetime.dt.date\n",
        "df_train_fcmid.value_counts().plot(title='o_fcmid == 128', legend=True)"
      ],
      "execution_count": 0,
      "outputs": [
        {
          "output_type": "execute_result",
          "data": {
            "text/plain": [
              "<matplotlib.axes._subplots.AxesSubplot at 0x7f5f677edd30>"
            ]
          },
          "metadata": {
            "tags": []
          },
          "execution_count": 18
        },
        {
          "output_type": "display_data",
          "data": {
            "image/png": "[encoded data removed]",
            "text/plain": [
              "<matplotlib.figure.Figure at 0x7f5f6473c828>"
            ]
          },
          "metadata": {
            "tags": []
          }
        }
      ]
    },
    {
      "metadata": {
        "id": "bBrn8Hup4tUU",
        "colab_type": "code",
        "outputId": "603aa291-5d9b-478b-80c0-37bbae0f0ffd",
        "colab": {
          "base_uri": "https://localhost:8080/",
          "height": 380
        }
      },
      "cell_type": "code",
      "source": [
        "df_train_fcmid = df_train[df_train.o_fcmid == 130].insert_datetime.dt.date\n",
        "df_train_fcmid.value_counts().plot(title='o_fcmid == 130', legend=True)"
      ],
      "execution_count": 0,
      "outputs": [
        {
          "output_type": "execute_result",
          "data": {
            "text/plain": [
              "<matplotlib.axes._subplots.AxesSubplot at 0x7f5f64731fd0>"
            ]
          },
          "metadata": {
            "tags": []
          },
          "execution_count": 19
        },
        {
          "output_type": "display_data",
          "data": {
            "image/png": "[encoded data removed]",
            "text/plain": [
              "<matplotlib.figure.Figure at 0x7f5f64737390>"
            ]
          },
          "metadata": {
            "tags": []
          }
        }
      ]
    },
    {
      "metadata": {
        "id": "4r9BvaN740Cu",
        "colab_type": "code",
        "outputId": "d64f19db-37e4-46f7-8f14-f93bcfbfd85a",
        "colab": {
          "base_uri": "https://localhost:8080/",
          "height": 380
        }
      },
      "cell_type": "code",
      "source": [
        "df_train_fcmid = df_train[df_train.o_fcmid == 136].insert_datetime.dt.date\n",
        "df_train_fcmid.value_counts().plot(title='o_fcmid == 136', legend=True)"
      ],
      "execution_count": 0,
      "outputs": [
        {
          "output_type": "execute_result",
          "data": {
            "text/plain": [
              "<matplotlib.axes._subplots.AxesSubplot at 0x7f5f6778f7b8>"
            ]
          },
          "metadata": {
            "tags": []
          },
          "execution_count": 20
        },
        {
          "output_type": "display_data",
          "data": {
            "image/png": "[encoded data removed]",
            "text/plain": [
              "<matplotlib.figure.Figure at 0x7f5f674ff828>"
            ]
          },
          "metadata": {
            "tags": []
          }
        }
      ]
    },
    {
      "metadata": {
        "id": "aBQt2CuG40sU",
        "colab_type": "code",
        "outputId": "1954fa56-1852-4f24-ad79-051e94ff63f9",
        "colab": {
          "base_uri": "https://localhost:8080/",
          "height": 380
        }
      },
      "cell_type": "code",
      "source": [
        "df_train_fcmid = df_train[df_train.o_fcmid == 137].insert_datetime.dt.date\n",
        "df_train_fcmid.value_counts().plot(title='o_fcmid == 137', legend=True)"
      ],
      "execution_count": 0,
      "outputs": [
        {
          "output_type": "execute_result",
          "data": {
            "text/plain": [
              "<matplotlib.axes._subplots.AxesSubplot at 0x7f5f6768f710>"
            ]
          },
          "metadata": {
            "tags": []
          },
          "execution_count": 21
        },
        {
          "output_type": "display_data",
          "data": {
            "image/png": "[encoded data removed]",
            "text/plain": [
              "<matplotlib.figure.Figure at 0x7f5f6476def0>"
            ]
          },
          "metadata": {
            "tags": []
          }
        }
      ]
    },
    {
      "metadata": {
        "id": "2iZWgTlf47u3",
        "colab_type": "code",
        "outputId": "7d2f1a71-7668-4aa6-9462-06f7658b9c8e",
        "colab": {
          "base_uri": "https://localhost:8080/",
          "height": 380
        }
      },
      "cell_type": "code",
      "source": [
        "df_train_fcmid = df_train[df_train.o_fcmid == 140].insert_datetime.dt.date\n",
        "df_train_fcmid.value_counts().plot(title='o_fcmid == 140', legend=True)"
      ],
      "execution_count": 0,
      "outputs": [
        {
          "output_type": "execute_result",
          "data": {
            "text/plain": [
              "<matplotlib.axes._subplots.AxesSubplot at 0x7f5f67719898>"
            ]
          },
          "metadata": {
            "tags": []
          },
          "execution_count": 22
        },
        {
          "output_type": "display_data",
          "data": {
            "image/png": "[encoded data removed]",
            "text/plain": [
              "<matplotlib.figure.Figure at 0x7f5f677630f0>"
            ]
          },
          "metadata": {
            "tags": []
          }
        }
      ]
    },
    {
      "metadata": {
        "id": "DMghZXhA47jm",
        "colab_type": "code",
        "outputId": "934802b6-83e2-4773-94a0-446b4f51ce0a",
        "colab": {
          "base_uri": "https://localhost:8080/",
          "height": 380
        }
      },
      "cell_type": "code",
      "source": [
        "df_train_fcmid = df_train[df_train.o_fcmid == 142].insert_datetime.dt.date\n",
        "df_train_fcmid.value_counts().plot(title='o_fcmid == 142', legend=True)"
      ],
      "execution_count": 0,
      "outputs": [
        {
          "output_type": "execute_result",
          "data": {
            "text/plain": [
              "<matplotlib.axes._subplots.AxesSubplot at 0x7f5f67698128>"
            ]
          },
          "metadata": {
            "tags": []
          },
          "execution_count": 23
        },
        {
          "output_type": "display_data",
          "data": {
            "image/png": "[encoded data removed]",
            "text/plain": [
              "<matplotlib.figure.Figure at 0x7f5f67676208>"
            ]
          },
          "metadata": {
            "tags": []
          }
        }
      ]
    },
    {
      "metadata": {
        "id": "_bo0_CDregml",
        "colab_type": "code",
        "outputId": "b3187294-82f7-49e8-bb9e-12868990abd8",
        "colab": {
          "base_uri": "https://localhost:8080/",
          "height": 365
        }
      },
      "cell_type": "code",
      "source": [
        "df_train['o_fcmid'].hist()"
      ],
      "execution_count": 0,
      "outputs": [
        {
          "output_type": "execute_result",
          "data": {
            "text/plain": [
              "<matplotlib.axes._subplots.AxesSubplot at 0x7f5f676d6630>"
            ]
          },
          "metadata": {
            "tags": []
          },
          "execution_count": 24
        },
        {
          "output_type": "display_data",
          "data": {
            "image/png": "[encoded data removed]",
            "text/plain": [
              "<matplotlib.figure.Figure at 0x7f5f6768a668>"
            ]
          },
          "metadata": {
            "tags": []
          }
        }
      ]
    },
    {
      "metadata": {
        "id": "D-sb9ZFE6VPp",
        "colab_type": "code",
        "outputId": "ea7ef406-3139-4f28-c9fb-f7fa149bd0a4",
        "colab": {
          "base_uri": "https://localhost:8080/",
          "height": 365
        }
      },
      "cell_type": "code",
      "source": [
        "df_train['o_fcpidsid'].hist()"
      ],
      "execution_count": 0,
      "outputs": [
        {
          "output_type": "execute_result",
          "data": {
            "text/plain": [
              "<matplotlib.axes._subplots.AxesSubplot at 0x7f5f64602ac8>"
            ]
          },
          "metadata": {
            "tags": []
          },
          "execution_count": 25
        },
        {
          "output_type": "display_data",
          "data": {
            "image/png": "[encoded data removed]",
            "text/plain": [
              "<matplotlib.figure.Figure at 0x7f5f6461f908>"
            ]
          },
          "metadata": {
            "tags": []
          }
        }
      ]
    },
    {
      "metadata": {
        "id": "04VOx7pU6TzG",
        "colab_type": "code",
        "outputId": "eb0a431e-189e-4fdc-a310-ba00ab428b15",
        "colab": {
          "base_uri": "https://localhost:8080/",
          "height": 380
        }
      },
      "cell_type": "code",
      "source": [
        "df_train_fcmid = df_train[df_train.o_fcpidsid == 0].insert_datetime.dt.date\n",
        "df_train_fcmid.value_counts().plot(title='o_fcpidsid == 0', legend=True)"
      ],
      "execution_count": 0,
      "outputs": [
        {
          "output_type": "execute_result",
          "data": {
            "text/plain": [
              "<matplotlib.axes._subplots.AxesSubplot at 0x7f5f645be780>"
            ]
          },
          "metadata": {
            "tags": []
          },
          "execution_count": 26
        },
        {
          "output_type": "display_data",
          "data": {
            "image/png": "[encoded data removed]",
            "text/plain": [
              "<matplotlib.figure.Figure at 0x7f5f64602c18>"
            ]
          },
          "metadata": {
            "tags": []
          }
        }
      ]
    },
    {
      "metadata": {
        "id": "ZkmdrnOn6fqI",
        "colab_type": "code",
        "outputId": "84428fe0-c37e-4b28-f35f-4c386f889854",
        "colab": {
          "base_uri": "https://localhost:8080/",
          "height": 380
        }
      },
      "cell_type": "code",
      "source": [
        "df_train_fcmid = df_train[df_train.o_fcpidsid == 1].insert_datetime.dt.date\n",
        "df_train_fcmid.value_counts().plot(title='o_fcpidsid == 1', legend=True)"
      ],
      "execution_count": 0,
      "outputs": [
        {
          "output_type": "execute_result",
          "data": {
            "text/plain": [
              "<matplotlib.axes._subplots.AxesSubplot at 0x7f5f645becf8>"
            ]
          },
          "metadata": {
            "tags": []
          },
          "execution_count": 27
        },
        {
          "output_type": "display_data",
          "data": {
            "image/png": "[encoded data removed]",
            "text/plain": [
              "<matplotlib.figure.Figure at 0x7f5f645b9a20>"
            ]
          },
          "metadata": {
            "tags": []
          }
        }
      ]
    },
    {
      "metadata": {
        "id": "8IMzUYDgV74a",
        "colab_type": "code",
        "outputId": "42bb19ba-c30c-44d3-be6b-663f332dcaa3",
        "colab": {
          "base_uri": "https://localhost:8080/",
          "height": 374
        }
      },
      "cell_type": "code",
      "source": [
        "df_train.plot(x='insert_datetime', y='o_fccode')"
      ],
      "execution_count": 0,
      "outputs": [
        {
          "output_type": "execute_result",
          "data": {
            "text/plain": [
              "<matplotlib.axes._subplots.AxesSubplot at 0x7f5f64506160>"
            ]
          },
          "metadata": {
            "tags": []
          },
          "execution_count": 28
        },
        {
          "output_type": "display_data",
          "data": {
            "image/png": "[encoded data removed]",
            "text/plain": [
              "<matplotlib.figure.Figure at 0x7f5f645375f8>"
            ]
          },
          "metadata": {
            "tags": []
          }
        }
      ]
    },
    {
      "metadata": {
        "id": "zQq1gz239Pm1",
        "colab_type": "code",
        "outputId": "c78265c5-d5fd-4f5b-da68-a565649233fe",
        "colab": {
          "base_uri": "https://localhost:8080/",
          "height": 104
        }
      },
      "cell_type": "code",
      "source": [
        "#df_train_fcmid = df_train[df_train.o_fcmid == -1].insert_datetime.dt.date\n",
        "#df_train_fctype.head()\n",
        "#df_train_fcmid.value_counts().plot(title='o_fcmid == -1', legend=True)\n",
        "\n",
        "#df_train.o_fccode.value_counts()\n",
        "df_train.o_fccode.unique()"
      ],
      "execution_count": 0,
      "outputs": [
        {
          "output_type": "execute_result",
          "data": {
            "text/plain": [
              "array([ -1,  33,  26, 171,  96, 235,   3,   4, 190, 111, 153,   1, 412,\n",
              "         5,  84, 177,  98,  80,  79,  55, 411,   2, 385, 211,  23,  97,\n",
              "       151,   6, 214, 172, 250, 167, 231,  60,  94, 152, 102, 404,  18,\n",
              "        89, 437,   8,   7,   9, 254, 108, 154,  21, 103, 168, 251, 246,\n",
              "       377, 173,  11,  12])"
            ]
          },
          "metadata": {
            "tags": []
          },
          "execution_count": 29
        }
      ]
    },
    {
      "metadata": {
        "id": "uDVwhvCP6EPZ",
        "colab_type": "code",
        "outputId": "4db128f2-20e3-4863-e3b4-2f85e428ef60",
        "colab": {
          "base_uri": "https://localhost:8080/",
          "height": 55
        }
      },
      "cell_type": "code",
      "source": [
        "\"\"\"plt.figure(1)\n",
        "for code in df_train.o_fccode.unique():\n",
        "  df_train_fcmid = df_train[df_train.o_fccode == code].insert_datetime.dt.date\n",
        "  plt.subplot(2,2,i)\n",
        "  df_train_fcmid.value_counts().plot(title='o_fccode == ', legend=True)\"\"\""
      ],
      "execution_count": 0,
      "outputs": [
        {
          "output_type": "execute_result",
          "data": {
            "text/plain": [
              "\"plt.figure(1)\\nfor code in df_train.o_fccode.unique():\\n  df_train_fcmid = df_train[df_train.o_fccode == code].insert_datetime.dt.date\\n  plt.subplot(2,2,i)\\n  df_train_fcmid.value_counts().plot(title='o_fccode == ', legend=True)\""
            ]
          },
          "metadata": {
            "tags": []
          },
          "execution_count": 30
        }
      ]
    },
    {
      "metadata": {
        "id": "L0d8y7YFV714",
        "colab_type": "code",
        "outputId": "77427665-7a58-4308-be58-2eb55224b2b9",
        "colab": {
          "base_uri": "https://localhost:8080/",
          "height": 365
        }
      },
      "cell_type": "code",
      "source": [
        "df_train['o_fccode'].hist()"
      ],
      "execution_count": 0,
      "outputs": [
        {
          "output_type": "execute_result",
          "data": {
            "text/plain": [
              "<matplotlib.axes._subplots.AxesSubplot at 0x7f5f64446908>"
            ]
          },
          "metadata": {
            "tags": []
          },
          "execution_count": 31
        },
        {
          "output_type": "display_data",
          "data": {
            "image/png": "[encoded data removed]",
            "text/plain": [
              "<matplotlib.figure.Figure at 0x7f5f64487128>"
            ]
          },
          "metadata": {
            "tags": []
          }
        }
      ]
    },
    {
      "metadata": {
        "id": "_xG3D_4IV7y6",
        "colab_type": "code",
        "outputId": "e58f7a5d-78a3-44ba-c50f-e83ec1e1b0f3",
        "colab": {
          "base_uri": "https://localhost:8080/",
          "height": 416
        }
      },
      "cell_type": "code",
      "source": [
        "df_train[df_train.o_fctype == 0].insert_datetime.value_counts().plot(kind='line',subplots=True,sharex=True,sharey=True,title='o_fctype = 0')"
      ],
      "execution_count": 0,
      "outputs": [
        {
          "output_type": "execute_result",
          "data": {
            "text/plain": [
              "array([<matplotlib.axes._subplots.AxesSubplot object at 0x7f5f6443cf28>],\n",
              "      dtype=object)"
            ]
          },
          "metadata": {
            "tags": []
          },
          "execution_count": 32
        },
        {
          "output_type": "display_data",
          "data": {
            "image/png": "[encoded data removed]",
            "text/plain": [
              "<matplotlib.figure.Figure at 0x7f5f644536a0>"
            ]
          },
          "metadata": {
            "tags": []
          }
        }
      ]
    },
    {
      "metadata": {
        "id": "2OrYXdDHyJl4",
        "colab_type": "code",
        "colab": {}
      },
      "cell_type": "code",
      "source": [
        "freq_o_fctype0 = df_train[df_train.o_fctype == 0].insert_datetime.value_counts().tolist()\n",
        "#freq_o_fctype0"
      ],
      "execution_count": 0,
      "outputs": []
    },
    {
      "metadata": {
        "id": "B_YNRSwJy6h6",
        "colab_type": "code",
        "colab": {}
      },
      "cell_type": "code",
      "source": [
        "def CountFrequency(my_list): \n",
        "    # Creating an empty dictionary  \n",
        "    freq = {} \n",
        "    for items in my_list: \n",
        "        freq[items] = my_list.count(items) \n",
        "      \n",
        "    for key, value in freq.items(): \n",
        "        print (\"% d : % d\"%(key, value))"
      ],
      "execution_count": 0,
      "outputs": []
    },
    {
      "metadata": {
        "id": "5CN5KHB-zIiE",
        "colab_type": "code",
        "outputId": "e308b150-5220-4964-f683-41dc85f7cc79",
        "colab": {
          "base_uri": "https://localhost:8080/",
          "height": 104
        }
      },
      "cell_type": "code",
      "source": [
        "freq_o_fctype0_plt = CountFrequency(freq_o_fctype0)"
      ],
      "execution_count": 0,
      "outputs": [
        {
          "output_type": "stream",
          "text": [
            " 5 :  2\n",
            " 4 :  1\n",
            " 3 :  7\n",
            " 2 :  20\n",
            " 1 :  119\n"
          ],
          "name": "stdout"
        }
      ]
    },
    {
      "metadata": {
        "id": "rddxHI-JgX9p",
        "colab_type": "code",
        "colab": {}
      },
      "cell_type": "code",
      "source": [
        "df_train[df_train.o_fctype == 0].insert_datetime.value_counts().to_csv('../My Drive/o_fctype0.csv')"
      ],
      "execution_count": 0,
      "outputs": []
    },
    {
      "metadata": {
        "id": "YrVMoImcWQ2V",
        "colab_type": "code",
        "outputId": "db8855cb-c013-48bf-c2eb-c4712ab28609",
        "colab": {
          "base_uri": "https://localhost:8080/",
          "height": 421
        }
      },
      "cell_type": "code",
      "source": [
        "df_train[df_train.o_fctype == 2].insert_datetime.value_counts().plot(kind='hist',subplots=True,sharex=True,sharey=True,title='o_fctype = 2')"
      ],
      "execution_count": 0,
      "outputs": [
        {
          "output_type": "execute_result",
          "data": {
            "text/plain": [
              "array([<matplotlib.axes._subplots.AxesSubplot object at 0x7f5f643402e8>],\n",
              "      dtype=object)"
            ]
          },
          "metadata": {
            "tags": []
          },
          "execution_count": 37
        },
        {
          "output_type": "display_data",
          "data": {
            "image/png": "[encoded data removed]",
            "text/plain": [
              "<matplotlib.figure.Figure at 0x7f5f64394b70>"
            ]
          },
          "metadata": {
            "tags": []
          }
        }
      ]
    },
    {
      "metadata": {
        "id": "OfyG0e_IL5Xv",
        "colab_type": "code",
        "outputId": "b55800be-3795-48b7-f892-f714d1524788",
        "colab": {
          "base_uri": "https://localhost:8080/",
          "height": 416
        }
      },
      "cell_type": "code",
      "source": [
        "df_train[df_train.o_fctype == 2].insert_datetime.value_counts().plot(kind='line',subplots=True,sharex=True,sharey=True,title='o_fctype = 2')"
      ],
      "execution_count": 0,
      "outputs": [
        {
          "output_type": "execute_result",
          "data": {
            "text/plain": [
              "array([<matplotlib.axes._subplots.AxesSubplot object at 0x7f5f643217b8>],\n",
              "      dtype=object)"
            ]
          },
          "metadata": {
            "tags": []
          },
          "execution_count": 38
        },
        {
          "output_type": "display_data",
          "data": {
            "image/png": "[encoded data removed]",
            "text/plain": [
              "<matplotlib.figure.Figure at 0x7f5f64340320>"
            ]
          },
          "metadata": {
            "tags": []
          }
        }
      ]
    },
    {
      "metadata": {
        "id": "UAtmwwn4WQ0P",
        "colab_type": "code",
        "colab": {}
      },
      "cell_type": "code",
      "source": [
        "#df_o_fctype2.o_fctype.value_counts()\n",
        "#df_o_fctype2.to_csv('../My Drive/o_fctype2.csv')"
      ],
      "execution_count": 0,
      "outputs": []
    },
    {
      "metadata": {
        "id": "RReZ_IoIKjbr",
        "colab_type": "text"
      },
      "cell_type": "markdown",
      "source": [
        "1.\tAnalysis\n",
        "a.\tFault Code > by fn. of time > for all trucks > sum(occurrences)\n",
        "b.\tML: Poisson distribution for probability calculation\n",
        "c.\tAnalyze ML: Statistically more likely faults from mean\n",
        "2.\tHow important which codes are?\n",
        "a.\tAvailable only for o_fctype is 0\n",
        "i.\tPlot histogram vs. time\n",
        "3.\tWhat analytics can we provide to better manage their fleet?\n",
        "4.\tCan they improve data quality?\n",
        "a.\tBy bringing in some external additional data\n",
        "b.\tWeather-api: Augment the data by bringing in weather\n",
        "c.\tRoad data: like asphalt as material etc.\n",
        "d.\tGPS data\n",
        "e.\tTraffic\n",
        "5.\tSee if we can generate some data.\n",
        "6.\to_fcmid – patterns: if frequency different, use it to generate synthetic data\n",
        "a.\tGaussian looking distribution\n",
        "7.\tReason for fault code to occur. E.g. speed, RPM\n",
        "8.\tWhen creating the plots, create a .csv file (import for CogniSteward)\n",
        "9.\tPlot few trucks that are outliers.\n",
        "For each vehicle, find the timeline of failures of the same part (failure ID is how far apart in time?).\n"
      ]
    },
    {
      "metadata": {
        "id": "br7Qv8SQWQxV",
        "colab_type": "code",
        "outputId": "96041e8d-fcb3-41b3-e403-dbaa624fcf68",
        "colab": {
          "base_uri": "https://localhost:8080/",
          "height": 520
        }
      },
      "cell_type": "code",
      "source": [
        "df_train.o_vehicle_number.unique()"
      ],
      "execution_count": 0,
      "outputs": [
        {
          "output_type": "execute_result",
          "data": {
            "text/plain": [
              "array([940899, 940416, 940747, 940968, 940963, 9436979, 940394, 940362,\n",
              "       9495471, 940721, 9489538, 941226, 941039, 941038, 940950, 940955,\n",
              "       9420038, 9436801, 941012, 941220, 940966, 940425, 940384, 940921,\n",
              "       940387, 923884, 941045, 940960, 922475, 940763, 922460, 922532,\n",
              "       940390, 940973, 940378, 923957, 923923, 9495469, 9495343, 923860,\n",
              "       941013, 941005, 941026, 940830, 941233, 923949, 923293, 9436963,\n",
              "       9436967, 923922, 940775, 923944, 9420029, 940745, 9436906, 9437021,\n",
              "       940389, 9436893, 940052, 940952, 940922, 923930, 941222, 9497376,\n",
              "       922457, 941008, 940772, 923875, 940981, 922564, 941010, 940914,\n",
              "       9436856, 940974, 923945, 9495221, 940357, 9436974, 9494854, 941006,\n",
              "       923897, 9436971, 940998, 940909, 940894, 9436993, 940464, 940902,\n",
              "       941022, 940422, 923921, 9436912, 940364, 923467, 941029, 9436871,\n",
              "       9488457, 923932, 940379, 923912, 940358, 923915, 940945, 9495348,\n",
              "       941046, 941001, 941023, 923910, 923929, 9410820, 9436972, 940827,\n",
              "       940995, 940741, 941044, 9488239, 9436867, 923931, 922533, 941025,\n",
              "       940903, 9420021, 923890, 9436896, 940971, 941021, 923870, 940418,\n",
              "       923933, 941215, 941239, 9420026, 940999, 941240, 941028, 923913,\n",
              "       941224, 922573, 941014, 9495342, 940980, 940411, 941042, 941225,\n",
              "       923871, 922470, 941000, 9497419, 940897, 941217, 920019, 940405,\n",
              "       923943, 940375, 940361, 923934, 923877, 9497381, 922556, 940058,\n",
              "       940915, 9495327, 922458, 940931, 922459, 9436923,\n",
              "       'DSN 1660037         ', 941030, 923909, 923939, 922525, 9436973,\n",
              "       923951, 941040, 923926, 923925, 940572, 940679, 940990, 940928,\n",
              "       940906, 923862, 940399, 9495220, 9420005, 940905, 923863, 9495197,\n",
              "       9436816, 923881, 941017, 923948, 941203, 923882, 9497383, 9436955,\n",
              "       941219, 923935, 9436961, '8CJ383              ', 923947, 940918,\n",
              "       941223, 9436907, 940376, 922474, 9436989, 922455, 940424, 9436823,\n",
              "       940412, 940382, 940393, 940908, 940402, 923866, 940964, 940784],\n",
              "      dtype=object)"
            ]
          },
          "metadata": {
            "tags": []
          },
          "execution_count": 40
        }
      ]
    },
    {
      "metadata": {
        "id": "hsuVUd6GWQuV",
        "colab_type": "code",
        "colab": {}
      },
      "cell_type": "code",
      "source": [
        "#for vehicle in df_train.o_vehicle_number.unique()\n",
        "#df_train.boxplot(cloumn = '')"
      ],
      "execution_count": 0,
      "outputs": []
    },
    {
      "metadata": {
        "id": "v4QarPXcWQre",
        "colab_type": "code",
        "outputId": "eff962d1-f1f9-4e92-fd1b-e885c2099a49",
        "colab": {
          "base_uri": "https://localhost:8080/",
          "height": 131
        }
      },
      "cell_type": "code",
      "source": [
        "for vehicle in df_train.o_vehicle_number.unique().tolist()\n",
        "  for fcmid in df_train[vehicle].value_counts()\n",
        "    print(fcmid)"
      ],
      "execution_count": 0,
      "outputs": [
        {
          "output_type": "error",
          "ename": "SyntaxError",
          "evalue": "ignored",
          "traceback": [
            "\u001b[0;36m  File \u001b[0;32m\"<ipython-input-47-aff60e0c224c>\"\u001b[0;36m, line \u001b[0;32m1\u001b[0m\n\u001b[0;31m    for vehicle in list[df_train.o_vehicle_number.unique()]\u001b[0m\n\u001b[0m                                                           ^\u001b[0m\n\u001b[0;31mSyntaxError\u001b[0m\u001b[0;31m:\u001b[0m invalid syntax\n"
          ]
        }
      ]
    },
    {
      "metadata": {
        "id": "1MzShV_xWQo7",
        "colab_type": "code",
        "colab": {}
      },
      "cell_type": "code",
      "source": [
        ""
      ],
      "execution_count": 0,
      "outputs": []
    },
    {
      "metadata": {
        "id": "bxkcJ1YqWQm9",
        "colab_type": "code",
        "colab": {}
      },
      "cell_type": "code",
      "source": [
        ""
      ],
      "execution_count": 0,
      "outputs": []
    },
    {
      "metadata": {
        "id": "OhB6sIotWQj6",
        "colab_type": "code",
        "colab": {}
      },
      "cell_type": "code",
      "source": [
        ""
      ],
      "execution_count": 0,
      "outputs": []
    }
  ]
}